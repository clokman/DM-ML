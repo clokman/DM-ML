{
 "cells": [
  {
   "cell_type": "markdown",
   "metadata": {
    "collapsed": true
   },
   "source": [
    "# Meeting \n",
    "2017.04.11 @ Initium\n",
    "\n",
    "- Feature engineering = Feature filtering\n",
    "- Assistants can help with code problems\n",
    "- We should approach Mark for conceptual/planning issues\n",
    "\n",
    "- K-fold (7). Do we have enough rows? To be confirmed with Mark. \n",
    "\t- Generally good to use anyway\n",
    "\n",
    "- Normalization: 0-1\n",
    "- Some features have a positive, and some have negative. \n",
    "\n",
    "- J: Need to visualize connections in the end\n",
    "- First weeks: Understanding data and methods. Preprocessing. And making decisions. 4-5 pages on decisions.\n",
    "- PAL_ Physical activity level\n",
    "- MAL- mental activity level\n",
    "- Intended time to go to bed and actual time should be calculated\n",
    "\t- First translate time of the day to minutes\n",
    "\t\t- Won't help if 00:00 is in there\n",
    "\t- Then subtract\n",
    "\t- Do it in python\n",
    "- Goal: to predict next day procrastination\n",
    "\t- Easy if stable\n",
    "\t- Hard if it constantly changes (many factors)"
   ]
  },
  {
   "cell_type": "code",
   "execution_count": null,
   "metadata": {
    "collapsed": true
   },
   "outputs": [],
   "source": []
  }
 ],
 "metadata": {
  "kernelspec": {
   "display_name": "Python 2",
   "language": "python",
   "name": "python2"
  },
  "language_info": {
   "codemirror_mode": {
    "name": "ipython",
    "version": 2
   },
   "file_extension": ".py",
   "mimetype": "text/x-python",
   "name": "python",
   "nbconvert_exporter": "python",
   "pygments_lexer": "ipython2",
   "version": "2.7.12"
  }
 },
 "nbformat": 4,
 "nbformat_minor": 1
}
