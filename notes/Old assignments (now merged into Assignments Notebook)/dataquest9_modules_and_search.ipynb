{
 "cells": [
  {
   "cell_type": "markdown",
   "metadata": {},
   "source": [
    "## Initiation"
   ]
  },
  {
   "cell_type": "code",
   "execution_count": 1,
   "metadata": {},
   "outputs": [
    {
     "name": "stdout",
     "output_type": "stream",
     "text": [
      "[['2009', '1', 'Pittsburgh Steelers', 'Tennessee Titans'], ['2009', '1', 'Minnesota Vikings', 'Cleveland Browns']]\n"
     ]
    }
   ],
   "source": [
    "import csv\n",
    "data = list(csv.reader(open(\"nfl.csv\")))\n",
    "print(data[:2])"
   ]
  },
  {
   "cell_type": "markdown",
   "metadata": {},
   "source": [
    "## Counting Wins of a Given Team"
   ]
  },
  {
   "cell_type": "code",
   "execution_count": 2,
   "metadata": {},
   "outputs": [
    {
     "name": "stdout",
     "output_type": "stream",
     "text": [
      "41\n",
      "49\n"
     ]
    }
   ],
   "source": [
    "def nfl_wins(team_name):\n",
    "    wins = 0\n",
    "    for i in data:\n",
    "        if i[2] == team_name:\n",
    "            wins = wins + 1\n",
    "    return wins\n",
    "\n",
    "cowboys_wins = nfl_wins(\"Dallas Cowboys\")\n",
    "falcons_wins = nfl_wins(\"Atlanta Falcons\")\n",
    "\n",
    "print(cowboys_wins)\n",
    "print(falcons_wins)"
   ]
  },
  {
   "cell_type": "markdown",
   "metadata": {},
   "source": [
    "## Counting Wins in a Given Year"
   ]
  },
  {
   "cell_type": "code",
   "execution_count": 3,
   "metadata": {},
   "outputs": [
    {
     "name": "stdout",
     "output_type": "stream",
     "text": [
      "5\n",
      "8\n"
     ]
    }
   ],
   "source": [
    "def nfl_wins_in_a_year(team, year):\n",
    "    count = 0\n",
    "    for i in data:\n",
    "        if (i[0] == year) & (i[2] == team):        \n",
    "            count = count + 1\n",
    "    return count\n",
    "\n",
    "browns_2010_wins = nfl_wins_in_a_year(\"Cleveland Browns\", \"2010\")\n",
    "eagles_2011_wins = nfl_wins_in_a_year(\"Philadelphia Eagles\", \"2011\")\n",
    "\n",
    "print(browns_2010_wins)\n",
    "print(eagles_2011_wins)"
   ]
  }
 ],
 "metadata": {
  "kernelspec": {
   "display_name": "Python 3",
   "language": "python",
   "name": "python3"
  },
  "language_info": {
   "codemirror_mode": {
    "name": "ipython",
    "version": 3
   },
   "file_extension": ".py",
   "mimetype": "text/x-python",
   "name": "python",
   "nbconvert_exporter": "python",
   "pygments_lexer": "ipython3",
   "version": "3.6.1"
  }
 },
 "nbformat": 4,
 "nbformat_minor": 2
}
