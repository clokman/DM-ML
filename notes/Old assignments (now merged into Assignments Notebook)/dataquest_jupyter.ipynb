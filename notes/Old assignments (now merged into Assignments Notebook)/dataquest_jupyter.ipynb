{
 "cells": [
  {
   "cell_type": "markdown",
   "metadata": {},
   "source": [
    "# Read CSV"
   ]
  },
  {
   "cell_type": "code",
   "execution_count": 1,
   "metadata": {},
   "outputs": [
    {
     "name": "stdout",
     "output_type": "stream",
     "text": [
      "C:\\Users\\Clokman\\Code\\DMT\\practice\n",
      "['.ipynb_checkpoints', 'dataquest1.py', 'dataquest10_classes.ipynb', 'dataquest2-boolean-operators.py', 'dataquest3_list_operations.py', 'dataquest4_dictionaries.py', 'dataquest5_functions.py', 'dataquest6_adv_functions_and_debugging.py', 'dataquest8_jupyter_and_data.ipynb', 'dataquest9_modules_and_search.ipynb', 'dataquest_jupyter.ipynb', 'dictionary.txt', 'Excel-export.py', 'la_weather.csv', 'leased_buses.png', 'nfl.csv', 'nodes.csv', 'Orders-Data-3.1.xlsx', 'plot.py', 'story.txt', 'test.ipynb', 'test2.py', 'US_births_1994-2003_CDC_NCHS.csv', 'US_births_2000-2014_SSA.csv', '__init__.py']\n"
     ]
    }
   ],
   "source": [
    "import os\n",
    "print(os.getcwd()) \n",
    "print(os.listdir(os.getcwd()))  "
   ]
  },
  {
   "cell_type": "code",
   "execution_count": 2,
   "metadata": {},
   "outputs": [
    {
     "data": {
      "text/plain": [
       "[[1994, 1, 1, 6, 8096],\n",
       " [1994, 1, 2, 7, 7772],\n",
       " [1994, 1, 3, 1, 10142],\n",
       " [1994, 1, 4, 2, 11248],\n",
       " [1994, 1, 5, 3, 11053],\n",
       " [1994, 1, 6, 4, 11406],\n",
       " [1994, 1, 7, 5, 11251],\n",
       " [1994, 1, 8, 6, 8653],\n",
       " [1994, 1, 9, 7, 7910],\n",
       " [1994, 1, 10, 1, 10498]]"
      ]
     },
     "execution_count": 2,
     "metadata": {},
     "output_type": "execute_result"
    }
   ],
   "source": [
    "def read_csv(file_name):\n",
    "    data = open(file_name, \"r\").read()\n",
    "    #print(data)\n",
    "    \n",
    "    data_splitted = data.split(\"\\n\")\n",
    "    #print(data_splitted)\n",
    "    \n",
    "    string_list = data_splitted[1:len(data_splitted)-1]\n",
    "    #print(string_list)\n",
    "  \n",
    "    final_list = []\n",
    "\n",
    "    for i in string_list:\n",
    "        int_fields = []\n",
    "        string_fields = i.split(\",\") # tokenize each atomic variable\n",
    "        for j in string_fields:\n",
    "            int_fields.append(int(j))\n",
    "        final_list.append(int_fields)\n",
    "    return(final_list)\n",
    "    \n",
    "cdc_list = read_csv(\"US_births_1994-2003_CDC_NCHS.csv\")\n",
    "cdc_list[:10]\n",
    "    "
   ]
  }
 ],
 "metadata": {
  "kernelspec": {
   "display_name": "Python 3",
   "language": "python",
   "name": "python3"
  },
  "language_info": {
   "codemirror_mode": {
    "name": "ipython",
    "version": 3
   },
   "file_extension": ".py",
   "mimetype": "text/x-python",
   "name": "python",
   "nbconvert_exporter": "python",
   "pygments_lexer": "ipython3",
   "version": "3.6.0"
  }
 },
 "nbformat": 4,
 "nbformat_minor": 1
}
