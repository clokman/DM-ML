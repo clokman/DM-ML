{
 "cells": [
  {
   "cell_type": "markdown",
   "metadata": {},
   "source": [
    "A practice data analysis that involves: \n",
    " - Dictionaries \n",
    " - Error handling \n",
    " - List comprehensions \n",
    " - Classes \n",
    " - Methods"
   ]
  },
  {
   "cell_type": "markdown",
   "metadata": {},
   "source": [
    "# Step #1: Prepare data file\n",
    "csv.reader() | select data"
   ]
  },
  {
   "cell_type": "code",
   "execution_count": 54,
   "metadata": {
    "collapsed": true
   },
   "outputs": [],
   "source": [
    "# Read csv to variable\n",
    "import csv\n",
    "data_initial = list(csv.reader(open(\"nfl_suspensions_data.csv\")))\n",
    "\n",
    "# Assign it to 'data'\n",
    "data = data_initial\n",
    "\n",
    "# Remove headers row\n",
    "data = data[1:len(data)]\n",
    "\n",
    "# Compliance line for Dataquest: \n",
    "nfl_suspensions = data"
   ]
  },
  {
   "cell_type": "markdown",
   "metadata": {},
   "source": [
    "# Step #2: Find yearly disribution of suspensions\n",
    "dictionary counter | try-except block"
   ]
  },
  {
   "cell_type": "code",
   "execution_count": 55,
   "metadata": {},
   "outputs": [
    {
     "data": {
      "text/plain": [
       "{'1946': 1,\n",
       " '1947': 1,\n",
       " '1963': 1,\n",
       " '1983': 1,\n",
       " '1986': 1,\n",
       " '1989': 17,\n",
       " '1990': 3,\n",
       " '1993': 1,\n",
       " '1994': 1,\n",
       " '1995': 1,\n",
       " '1997': 3,\n",
       " '1998': 2,\n",
       " '1999': 5,\n",
       " '2000': 1,\n",
       " '2001': 3,\n",
       " '2002': 7,\n",
       " '2003': 9,\n",
       " '2004': 6,\n",
       " '2005': 8,\n",
       " '2006': 11,\n",
       " '2007': 17,\n",
       " '2008': 10,\n",
       " '2009': 10,\n",
       " '2010': 21,\n",
       " '2011': 13,\n",
       " '2012': 45,\n",
       " '2013': 40,\n",
       " '2014': 29}"
      ]
     },
     "execution_count": 55,
     "metadata": {},
     "output_type": "execute_result"
    }
   ],
   "source": [
    "# Initiate counter dictionary\n",
    "years = {}\n",
    "\n",
    "# Iterate over data and...\n",
    "# Add years a keys, and occurences of these years as values.  \n",
    "for row in data:\n",
    "    row_year = row[5]\n",
    "    try: # Thi try-except block (and int line) should be omitted from dataquest submission.\n",
    "        int(row_year)\n",
    "        if row_year not in years:\n",
    "            years[row_year] = 1\n",
    "        else:\n",
    "            years[row_year] = years[row_year] + 1\n",
    "    except:\n",
    "        pass\n",
    "years"
   ]
  },
  {
   "cell_type": "markdown",
   "metadata": {},
   "source": [
    "# Step #3: Extract columns and list the unique values they contain\n",
    "list comprehension | set"
   ]
  },
  {
   "cell_type": "code",
   "execution_count": 63,
   "metadata": {},
   "outputs": [
    {
     "name": "stdout",
     "output_type": "stream",
     "text": [
      "Unique teams: \n",
      "['TB', 'FREE', 'OAK', 'ARI', 'BAL', 'HOU', 'CHI', 'ATL', 'MIN', 'TEN', 'NE', 'NO', 'DET', 'DEN', 'JAX', 'SD', 'PHI', 'STL', 'GB', 'PIT', 'NYJ', 'MIA', 'LA', 'CIN', 'SEA', 'CLE', 'SF', 'DAL', 'BUF', 'IND', 'NYG', 'CAR', 'WAS', 'KC']\n",
      "\n",
      "Unique games: \n",
      "['16', '6', '1', '3', '14', '5', '36', '8', '20', '2', '4', 'Indef.', '10', '32']\n"
     ]
    }
   ],
   "source": [
    "unique_teams = []\n",
    "teams_column = [row[1] for row in data]\n",
    "unique_teams = list(set(teams_column))\n",
    "\n",
    "unique_games = []\n",
    "games_column = [row[2] for row in data]\n",
    "unique_games = list(set(games_column))\n",
    "\n",
    "print(\"Unique teams: \" + \"\\n\" + str(unique_teams) + \"\\n\")\n",
    "print(\"Unique games: \" + \"\\n\"  + str(unique_games))\n",
    "\n",
    "# Alternative way:\n",
    "#for row in data:\n",
    "#    row_team = row[1]\n",
    "#    if row_team not in unique_teams:\n",
    "#        unique_teams.append(row_team)\n",
    "#print(unique_teams)"
   ]
  },
  {
   "cell_type": "code",
   "execution_count": 68,
   "metadata": {},
   "outputs": [
    {
     "name": "stdout",
     "output_type": "stream",
     "text": [
      "['ï»¿name', 'team', 'games', 'category', 'desc.', 'year', 'source']\n"
     ]
    }
   ],
   "source": [
    "print(data_initial[0])"
   ]
  },
  {
   "cell_type": "markdown",
   "metadata": {},
   "source": [
    "# Step #4: Create a class to allow indexing the dataset based on name, team, and games \n",
    "classes | class instantiation | class properties "
   ]
  },
  {
   "cell_type": "code",
   "execution_count": 187,
   "metadata": {},
   "outputs": [
    {
     "name": "stdout",
     "output_type": "stream",
     "text": [
      "T. Jackson\n",
      "WAS\n",
      "Indef.\n"
     ]
    }
   ],
   "source": [
    "class Suspension():\n",
    "    def __init__(self, row):\n",
    "        self.name = row[0]\n",
    "        self.team = row[1]\n",
    "        self.games = row[2]\n",
    "        \n",
    "third_suspension = Suspension(data[3])\n",
    "\n",
    "print(str(third_suspension.name) +  \"\\n\" + \n",
    "      str(third_suspension.team) + \"\\n\" + \n",
    "      str(third_suspension.games))\n"
   ]
  },
  {
   "cell_type": "markdown",
   "metadata": {},
   "source": [
    "# Step #5: Use a function that handles exceptions when initializing a property for an instance, and then make a method to return only that property when called \n",
    "try except block | methods | "
   ]
  },
  {
   "cell_type": "code",
   "execution_count": 329,
   "metadata": {},
   "outputs": [
    {
     "name": "stdout",
     "output_type": "stream",
     "text": [
      "1963\n"
     ]
    }
   ],
   "source": [
    "class Suspension():\n",
    "    def __init__(self, row):\n",
    "        self.name = row[0]\n",
    "        self.team = row[1]\n",
    "        self.games = row[2]        \n",
    "        try:\n",
    "            self.year = int(row[5])\n",
    "        except:\n",
    "            self.year = 0\n",
    "        \n",
    "    def get_year(self):\n",
    "        return self.year        \n",
    "\n",
    "missing_year = Suspension(data[22])        \n",
    "\n",
    "twenty_third_year = missing_year.get_year()\n",
    "print(twenty_third_year)"
   ]
  }
 ],
 "metadata": {
  "kernelspec": {
   "display_name": "Python 3",
   "language": "python",
   "name": "python3"
  },
  "language_info": {
   "codemirror_mode": {
    "name": "ipython",
    "version": 3
   },
   "file_extension": ".py",
   "mimetype": "text/x-python",
   "name": "python",
   "nbconvert_exporter": "python",
   "pygments_lexer": "ipython3",
   "version": "3.6.1"
  }
 },
 "nbformat": 4,
 "nbformat_minor": 2
}
