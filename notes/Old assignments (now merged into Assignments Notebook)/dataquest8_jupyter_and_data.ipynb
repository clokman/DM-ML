{
 "cells": [
  {
   "cell_type": "markdown",
   "metadata": {},
   "source": [
    "## Preprocessing the data"
   ]
  },
  {
   "cell_type": "code",
   "execution_count": 1,
   "metadata": {},
   "outputs": [
    {
     "name": "stdout",
     "output_type": "stream",
     "text": [
      "C:\\Users\\Clokman\\Code\\DMT\\practice\n"
     ]
    }
   ],
   "source": [
    "import os\n",
    "print(os.getcwd())"
   ]
  },
  {
   "cell_type": "code",
   "execution_count": 2,
   "metadata": {},
   "outputs": [
    {
     "data": {
      "text/plain": [
       "[[1994, 1, 1, 6, 8096],\n",
       " [1994, 1, 2, 7, 7772],\n",
       " [1994, 1, 3, 1, 10142],\n",
       " [1994, 1, 4, 2, 11248],\n",
       " [1994, 1, 5, 3, 11053],\n",
       " [1994, 1, 6, 4, 11406],\n",
       " [1994, 1, 7, 5, 11251],\n",
       " [1994, 1, 8, 6, 8653],\n",
       " [1994, 1, 9, 7, 7910],\n",
       " [1994, 1, 10, 1, 10498]]"
      ]
     },
     "execution_count": 2,
     "metadata": {},
     "output_type": "execute_result"
    }
   ],
   "source": [
    "def read_csv(file_name):\n",
    "    data = open(file_name, \"r\").read()\n",
    "    #print(data)\n",
    "    \n",
    "    data_splitted = data.split(\"\\n\")\n",
    "    #print(data_splitted)\n",
    "    \n",
    "    string_list = data_splitted[1:len(data_splitted)-1]\n",
    "    #print(string_list)\n",
    "  \n",
    "    final_list = []\n",
    "\n",
    "    for i in string_list:\n",
    "        int_fields = []\n",
    "        string_fields = i.split(\",\") # tokenize each atomic variable\n",
    "        for j in string_fields:\n",
    "            int_fields.append(int(j))\n",
    "        final_list.append(int_fields)\n",
    "    return(final_list)\n",
    "    \n",
    "cdc_list = read_csv(\"US_births_1994-2003_CDC_NCHS.csv\")\n",
    "cdc_list[:10]"
   ]
  },
  {
   "cell_type": "markdown",
   "metadata": {},
   "source": [
    "## Number of births each month"
   ]
  },
  {
   "cell_type": "code",
   "execution_count": 3,
   "metadata": {},
   "outputs": [
    {
     "data": {
      "text/plain": [
       "{1: 3232517,\n",
       " 2: 3018140,\n",
       " 3: 3322069,\n",
       " 4: 3185314,\n",
       " 5: 3350907,\n",
       " 6: 3296530,\n",
       " 7: 3498783,\n",
       " 8: 3525858,\n",
       " 9: 3439698,\n",
       " 10: 3378814,\n",
       " 11: 3171647,\n",
       " 12: 3289486}"
      ]
     },
     "execution_count": 3,
     "metadata": {},
     "output_type": "execute_result"
    }
   ],
   "source": [
    "def month_births(tokenized_data):\n",
    "    births_per_month = {}\n",
    "    for i in tokenized_data:\n",
    "        month  = i[1]\n",
    "        births = i[4]\n",
    "        if month not in births_per_month:\n",
    "            births_per_month[month] = births\n",
    "        else:\n",
    "            births_per_month[month] = births_per_month[month] + births \n",
    "    return(births_per_month)\n",
    "\n",
    "cdc_month_births = month_births(cdc_list)\n",
    "cdc_month_births"
   ]
  },
  {
   "cell_type": "markdown",
   "metadata": {},
   "source": [
    "## Number of births each day of week"
   ]
  },
  {
   "cell_type": "code",
   "execution_count": 4,
   "metadata": {},
   "outputs": [
    {
     "data": {
      "text/plain": [
       "{1: 5789166,\n",
       " 2: 6446196,\n",
       " 3: 6310481,\n",
       " 4: 6288429,\n",
       " 5: 6233657,\n",
       " 6: 4562111,\n",
       " 7: 4079723}"
      ]
     },
     "execution_count": 4,
     "metadata": {},
     "output_type": "execute_result"
    }
   ],
   "source": [
    "def day_births(tokenized_data):\n",
    "    births_per_day = {}\n",
    "    for i in tokenized_data:\n",
    "        day    = i[3]\n",
    "        births = i[4]\n",
    "        if day not in births_per_day:\n",
    "            births_per_day[day] = births\n",
    "        else:\n",
    "            births_per_day[day] = births_per_day[day] + births \n",
    "    return(births_per_day)\n",
    "\n",
    "cdc_day_births = day_births(cdc_list)\n",
    "cdc_day_births"
   ]
  },
  {
   "cell_type": "markdown",
   "metadata": {},
   "source": [
    "## Number of births each x"
   ]
  },
  {
   "cell_type": "code",
   "execution_count": 5,
   "metadata": {},
   "outputs": [
    {
     "data": {
      "text/plain": [
       "{1994: 3952767,\n",
       " 1995: 3899589,\n",
       " 1996: 3891494,\n",
       " 1997: 3880894,\n",
       " 1998: 3941553,\n",
       " 1999: 3959417,\n",
       " 2000: 4058814,\n",
       " 2001: 4025933,\n",
       " 2002: 4021726,\n",
       " 2003: 4077576}"
      ]
     },
     "execution_count": 5,
     "metadata": {},
     "output_type": "execute_result"
    }
   ],
   "source": [
    "def calc_counts(tokenized_data, column):            \n",
    "    births_per_x = {}\n",
    "    for i in tokenized_data:\n",
    "        x      = i[column]\n",
    "        births = i[4]\n",
    "        if x not in births_per_x:\n",
    "            births_per_x[x] = births\n",
    "        else:\n",
    "            births_per_x[x] = births_per_x[x] + births \n",
    "    return(births_per_x)\n",
    "\n",
    "cdc_dow_births = calc_counts(cdc_list, 3)\n",
    "cdc_dow_births\n",
    "\n",
    "cdc_dom_births = calc_counts(cdc_list, 2)\n",
    "cdc_dom_births\n",
    "\n",
    "cdc_month_births = calc_counts(cdc_list, 1)\n",
    "cdc_month_births\n",
    "\n",
    "cdc_year_births = calc_counts(cdc_list, 0)\n",
    "cdc_year_births"
   ]
  },
  {
   "cell_type": "markdown",
   "metadata": {},
   "source": [
    "## Min-max\n",
    "This function calculates the minimum and maximum values of any dictionary that is passed as an argument.\n"
   ]
  },
  {
   "cell_type": "code",
   "execution_count": 6,
   "metadata": {},
   "outputs": [
    {
     "name": "stdout",
     "output_type": "stream",
     "text": [
      "4077576\n",
      "3880894\n",
      "2003\n",
      "1994\n"
     ]
    }
   ],
   "source": [
    "def dict_minmax(dictionary, query):\n",
    "      \n",
    "    if query == \"value\":\n",
    "        maximum = 0\n",
    "        minimum = 0 \n",
    "        for key, value in dictionary.items():\n",
    "            if maximum < value:\n",
    "                maximum = value\n",
    "                #print(maximum)\n",
    "\n",
    "        minimum = maximum\n",
    "\n",
    "        for key, value in dictionary.items():\n",
    "            if minimum > value:\n",
    "                minimum = value\n",
    "                #print(minimum)\n",
    "        return({\"minimum\":minimum, \"maximum\":maximum})\n",
    "\n",
    "    if query == \"key\":\n",
    "        maximum = 0\n",
    "        minimum = 0 \n",
    "        for key, value in dictionary.items():\n",
    "            if maximum < key:\n",
    "                maximum = key\n",
    "                #print(maximum)\n",
    "\n",
    "        minimum = maximum\n",
    "\n",
    "        for key, value in dictionary.items():\n",
    "            if minimum > key:\n",
    "                minimum = key\n",
    "                #print(minimum)\n",
    "        return({\"minimum\":minimum, \"maximum\":maximum})\n",
    "\n",
    "    #print(dictionary.values())\n",
    "              \n",
    "a = {\n",
    " 1994: 3952767,\n",
    " 1995: 3899589,\n",
    " 1996: 3891494,\n",
    " 1997: 3880894,\n",
    " 1998: 3941553,\n",
    " 1999: 3959417,\n",
    " 2000: 4058814,\n",
    " 2001: 4025933,\n",
    " 2002: 4021726,\n",
    " 2003: 4077576}\n",
    "\n",
    "print(dict_minmax(a, \"value\")[\"maximum\"])\n",
    "print(dict_minmax(a, \"value\")[\"minimum\"])\n",
    "\n",
    "print(dict_minmax(a, \"key\")[\"maximum\"])\n",
    "print(dict_minmax(a, \"key\")[\"minimum\"])"
   ]
  },
  {
   "cell_type": "markdown",
   "metadata": {},
   "source": [
    "## Further Challenges\n"
   ]
  },
  {
   "cell_type": "markdown",
   "metadata": {},
   "source": [
    "1 - Write a function that extracts the same values across years and calculates the differences between consecutive values to show if number of births is increasing or decreasing.\n",
    "For example, how did the number of births on Saturday change each year between 1994 and 2003?"
   ]
  },
  {
   "cell_type": "markdown",
   "metadata": {},
   "source": [
    "2 -  Find a way to combine the CDC data with the SSA data, which you can find [here](https://github.com/fivethirtyeight/data/tree/master/births). Specifically, brainstorm ways to deal with the overlapping time periods in the datasets."
   ]
  }
 ],
 "metadata": {
  "anaconda-cloud": {},
  "kernelspec": {
   "display_name": "Python 3",
   "language": "python",
   "name": "python3"
  },
  "language_info": {
   "codemirror_mode": {
    "name": "ipython",
    "version": 3
   },
   "file_extension": ".py",
   "mimetype": "text/x-python",
   "name": "python",
   "nbconvert_exporter": "python",
   "pygments_lexer": "ipython3",
   "version": "3.6.1"
  }
 },
 "nbformat": 4,
 "nbformat_minor": 1
}
