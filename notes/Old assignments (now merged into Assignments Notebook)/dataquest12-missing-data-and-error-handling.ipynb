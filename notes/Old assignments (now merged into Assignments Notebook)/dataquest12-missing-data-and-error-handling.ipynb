{
 "cells": [
  {
   "cell_type": "markdown",
   "metadata": {},
   "source": [
    "# PART I"
   ]
  },
  {
   "cell_type": "markdown",
   "metadata": {},
   "source": [
    "# #1: Open and Tokenize CSV"
   ]
  },
  {
   "cell_type": "code",
   "execution_count": 143,
   "metadata": {
    "collapsed": true
   },
   "outputs": [],
   "source": [
    "# Open and read data to variable. The resulting variable is simply a long string, and thus, what is indexed is just letters of this string. \n",
    "data_string = open(\"legislators.csv\").read()\n",
    "\n",
    "# Split this long string by the row separator character. This assigns each row of data into a list item, and thus, allows each row to be indexed.\n",
    "data_splitted = data_string.split(\"\\n\")\n",
    "\n",
    "# Tokenize each row by using column separator character. This splits each row into sub-lists, and thus, allows not only rows, but also values in these rows (i.e., columns) to be indexed.\n",
    "data_tokenized = []\n",
    "for item in data_splitted:\n",
    "    item = item.split(\",\")\n",
    "    data_tokenized.append(item)\n",
    "\n",
    "# Assign the final version to data varialble. \n",
    "data = data_tokenized\n"
   ]
  },
  {
   "cell_type": "code",
   "execution_count": 142,
   "metadata": {},
   "outputs": [
    {
     "name": "stdout",
     "output_type": "stream",
     "text": [
      "gender\n",
      "['last_name', 'first_name', 'birthday', 'gender', 'type', 'state', 'party']\n",
      "party\n"
     ]
    }
   ],
   "source": [
    "print(data[0][3])\n",
    "print(data[0])\n",
    "print(data[0][6])\n"
   ]
  },
  {
   "cell_type": "markdown",
   "metadata": {},
   "source": [
    "# #2 List Unique Values (Create a Set)"
   ]
  },
  {
   "cell_type": "markdown",
   "metadata": {},
   "source": [
    "Creating a set from a column can give us the missing values and odd values. \n",
    "The output below shows this."
   ]
  },
  {
   "cell_type": "markdown",
   "metadata": {},
   "source": [
    "## For 'Gender'"
   ]
  },
  {
   "cell_type": "code",
   "execution_count": null,
   "metadata": {
    "collapsed": true
   },
   "outputs": [],
   "source": [
    "gender = []\n",
    "\n",
    "# Extract the gender column\n",
    "for item in data:\n",
    "    gender.append(item[3])\n",
    "# print(gender)\n",
    "\n",
    "# Create a set out of the gender column\n",
    "gender = set(gender)\n",
    "print(gender)"
   ]
  },
  {
   "cell_type": "markdown",
   "metadata": {},
   "source": [
    "## For 'Party'"
   ]
  },
  {
   "cell_type": "code",
   "execution_count": null,
   "metadata": {
    "collapsed": true,
    "scrolled": false
   },
   "outputs": [],
   "source": [
    "party = []\n",
    "\n",
    "for item in data:\n",
    "    party.append(item[6])\n",
    "\n",
    "party = set(party)\n",
    "print(party)\n",
    "\n",
    "# print(data)\n"
   ]
  },
  {
   "cell_type": "markdown",
   "metadata": {},
   "source": [
    "# #3 Replace Missing Values in 'Gender'"
   ]
  },
  {
   "cell_type": "code",
   "execution_count": null,
   "metadata": {
    "collapsed": true
   },
   "outputs": [],
   "source": [
    "# If a value in the gender column is not 'M' or 'F', replace it with 'M'\n",
    "for row in data:\n",
    "    if ((row[3] != \"M\") and (row[3] != \"F\")):\n",
    "        row[3] = \"M\" # No need to assign it to a new variable. Index replacement automatically does this.\n",
    "\n",
    "cleaned_gender = []    \n",
    "for row in data:\n",
    "    cleaned_gender.append(row[3])\n",
    "print(set(cleaned_gender))"
   ]
  },
  {
   "cell_type": "markdown",
   "metadata": {},
   "source": [
    "# #4 Extract Birth Years from YYYY-MM-DD Format."
   ]
  },
  {
   "cell_type": "code",
   "execution_count": null,
   "metadata": {
    "collapsed": true
   },
   "outputs": [],
   "source": [
    "birth_years = []\n",
    "\n",
    "for row in data:\n",
    "    current_birthday = row[2] \n",
    "    current_parts = current_birthday.split(\"-\")\n",
    "    birth_years.append(current_parts[0])\n",
    "print(birth_years)"
   ]
  },
  {
   "cell_type": "markdown",
   "metadata": {},
   "source": [
    "# Tutorial: Try-Except Block"
   ]
  },
  {
   "cell_type": "markdown",
   "metadata": {},
   "source": [
    "## Basic"
   ]
  },
  {
   "cell_type": "code",
   "execution_count": null,
   "metadata": {
    "collapsed": true
   },
   "outputs": [],
   "source": [
    "try:\n",
    "    float(\"hello\")\n",
    "except Exception:\n",
    "    print(\"Error converting to float.\")"
   ]
  },
  {
   "cell_type": "markdown",
   "metadata": {},
   "source": [
    "## Advanced"
   ]
  },
  {
   "cell_type": "code",
   "execution_count": null,
   "metadata": {
    "collapsed": true
   },
   "outputs": [],
   "source": [
    "try:\n",
    "    int(\"\")\n",
    "except Exception as exc:\n",
    "    \n",
    "    # Demonstration:\n",
    "    print(\"• Type of Exception is a class (i.e., a 'type' in itself, in this context):\")\n",
    "    print(type(Exception))\n",
    "    print(\"\\n • Type of exc is 'ValueError', which is an instance of Exception class (note that 'Exception' class can have instances that has another type):\")\n",
    "    print(type(exc))\n",
    "    print(\"\\n\")\n",
    "    \n",
    "    # Actual code block:\n",
    "    print(str(exc))"
   ]
  },
  {
   "cell_type": "markdown",
   "metadata": {},
   "source": [
    "# Step #5 - Convert Strings to Integers Selectively (i.e., Where Possible)"
   ]
  },
  {
   "cell_type": "code",
   "execution_count": null,
   "metadata": {
    "collapsed": true
   },
   "outputs": [],
   "source": [
    "converted_years = []\n",
    "\n",
    "for item in birth_years:\n",
    "    year = item\n",
    "    \n",
    "    # Try to convert birth years from string to integer.\n",
    "    try:\n",
    "        year = int(year)\n",
    "    \n",
    "    except Exception:\n",
    "        pass\n",
    "    \n",
    "    # Add converted values, along with the unconverted ones, to the converted_years.\n",
    "    converted_years.append(year)\n",
    "    \n",
    "\n",
    "# Debug\n",
    "print(\"birth_years are: \\n\" + str(birth_years[0:20]) + \"\\n\")\n",
    "print(\"converted_years are: \\n\" + str(converted_years[0:20]))\n",
    "    \n",
    "    "
   ]
  },
  {
   "cell_type": "markdown",
   "metadata": {},
   "source": [
    "# Step #5 (Alternative):  Using conversion and errors as a filter: Ignore missing values and errors they cause during conversion\n",
    "\n",
    "Dataquest reference: \"8: The Pass Keyword\""
   ]
  },
  {
   "cell_type": "markdown",
   "metadata": {},
   "source": [
    "Note: This strategy of ignoring the missing values would change the length of the year column. Therfore, the resulting new column should not be added to the original data file (this would cause year values to shift to other rows). "
   ]
  },
  {
   "cell_type": "code",
   "execution_count": null,
   "metadata": {
    "collapsed": true
   },
   "outputs": [],
   "source": [
    "converted_years = []\n",
    "\n",
    "for item in birth_years:\n",
    "    year = item\n",
    "    \n",
    "    # Try to convert birth years from string to integer.\n",
    "    try:\n",
    "        year = int(year)\n",
    "        converted_years.append(year)\n",
    "        \n",
    "    # If not possible, just ignore it —as this would mean there is either missing data or a strange value. \n",
    "    except Exception:\n",
    "        pass\n",
    "\n",
    "# Debug\n",
    "print(\"birth_years are: \\n\" + str(birth_years[0:20]) + \"\\n\")\n",
    "print(\"converted_years are: \\n\" + str(converted_years[0:20]))\n"
   ]
  },
  {
   "cell_type": "code",
   "execution_count": null,
   "metadata": {
    "collapsed": true
   },
   "outputs": [],
   "source": [
    "print(data[0:2])\n",
    "print(data[1][2])"
   ]
  },
  {
   "cell_type": "markdown",
   "metadata": {},
   "source": [
    "# PART II"
   ]
  },
  {
   "cell_type": "markdown",
   "metadata": {},
   "source": [
    "# Reload data to clean variable space for next exercises"
   ]
  },
  {
   "cell_type": "code",
   "execution_count": 110,
   "metadata": {
    "collapsed": true
   },
   "outputs": [],
   "source": [
    "# Open and read data to variable. The resulting variable is simply a long string, and thus, what is indexed is just letters of this string. \n",
    "data_string = open(\"legislators.csv\").read()\n",
    "\n",
    "# Split this long string by the row separator character. This assigns each row of data into a list item, and thus, allows each row to be indexed.\n",
    "data_splitted = data_string.split(\"\\n\")\n",
    "\n",
    "# Tokenize each row by using column separator character. This splits each row into sub-lists, and thus, allows not only rows, but also values in these rows (i.e., columns) to be indexed.\n",
    "data_tokenized = []\n",
    "for item in data_splitted:\n",
    "    item = item.split(\",\")\n",
    "    data_tokenized.append(item)\n",
    "\n",
    "# Assign the final version to data varialble. \n",
    "data = data_tokenized"
   ]
  },
  {
   "cell_type": "markdown",
   "metadata": {},
   "source": [
    "# Step #1: Extract year from YYYY-MM-DD format and add it as a column to the end"
   ]
  },
  {
   "cell_type": "code",
   "execution_count": 139,
   "metadata": {},
   "outputs": [
    {
     "name": "stdout",
     "output_type": "stream",
     "text": [
      "data is: \n",
      "[['last_name', 'first_name', 'birthday', 'gender', 'type', 'state', 'party', 1, 0, 0], ['Bassett', 'Richard', '1745-04-02', 'M', 'sen', 'DE', 'Anti-Administration', 1745, 1745, 1745], ['Bland', 'Theodorick', '1742-03-21', '', 'rep', 'VA', '', 1742, 1742, 1742], ['Burke', 'Aedanus', '1743-06-16', '', 'rep', 'SC', '', 1743, 1743, 1743], ['Carroll', 'Daniel', '1730-07-22', 'M', 'rep', 'MD', '', 1730, 1730, 1730], ['Clymer', 'George', '1739-03-16', 'M', 'rep', 'PA', '', 1739, 1739, 1739], ['Contee', 'Benjamin', '', 'M', 'rep', 'MD', '', 1739, 0, 0], ['Dalton', 'Tristram', '1738-05-28', '', 'sen', 'MA', 'Pro-Administration', 1738, 1738, 1738], ['Elmer', 'Jonathan', '1745-11-29', 'M', 'sen', 'NJ', 'Pro-Administration', 1745, 1745, 1745], ['Few', 'William', '1748-06-08', 'M', 'sen', 'GA', 'Anti-Administration', 1748, 1748, 1748]]\n",
      "\n"
     ]
    }
   ],
   "source": [
    "for row in data:\n",
    "    # extract birth year from the birthday column\n",
    "    birthdate_current = row[2]\n",
    "    birthdate_current_splitted = birthdate_current.split(\"-\")\n",
    "    birth_year_current = birthdate_current_splitted[0]\n",
    "    \n",
    "    # convert birth year to integer \n",
    "    try:\n",
    "        birth_year_current_converted = int(birth_year_current)\n",
    "    # if a value cannot be converted, change it to '0'\n",
    "    except Exception:\n",
    "        birth_year_current_converted = 0\n",
    "    row.append(birth_year_current_converted)\n",
    "   # row[2] = birth_year_current_converted\n",
    "\n",
    "print(\"data is: \\n\" + str(data[0:10]) + \"\\n\")\n"
   ]
  },
  {
   "cell_type": "code",
   "execution_count": 137,
   "metadata": {},
   "outputs": [
    {
     "name": "stdout",
     "output_type": "stream",
     "text": [
      "[1, 1745, 1742, 1743, 1730, 1739, 1739, 1738, 1745, 1748]\n"
     ]
    }
   ],
   "source": [
    "a = []\n",
    "for row in data:\n",
    "    a.append(row[7])\n",
    "    \n",
    "print(a[0:10])"
   ]
  },
  {
   "cell_type": "markdown",
   "metadata": {},
   "source": [
    "# Step #2: Fill missing values by extrapolation to previous year "
   ]
  },
  {
   "cell_type": "markdown",
   "metadata": {},
   "source": [
    "Because the order of years in the data file are rougly in chronological \n",
    "order, this could be a good strategy to fill missing values."
   ]
  },
  {
   "cell_type": "code",
   "execution_count": 140,
   "metadata": {},
   "outputs": [
    {
     "name": "stdout",
     "output_type": "stream",
     "text": [
      "data is: \n",
      "[['last_name', 'first_name', 'birthday', 'gender', 'type', 'state', 'party', 1, 0, 0], ['Bassett', 'Richard', '1745-04-02', 'M', 'sen', 'DE', 'Anti-Administration', 1745, 1745, 1745], ['Bland', 'Theodorick', '1742-03-21', '', 'rep', 'VA', '', 1742, 1742, 1742]]\n",
      "...\n",
      "\n",
      "data_extrapolated is: \n",
      "[['last_name', 'first_name', 'birthday', 'gender', 'type', 'state', 'party', 1, 0, 0], ['Bassett', 'Richard', '1745-04-02', 'M', 'sen', 'DE', 'Anti-Administration', 1745, 1745, 1745], ['Bland', 'Theodorick', '1742-03-21', '', 'rep', 'VA', '', 1742, 1742, 1742]]\n",
      "...\n",
      "\n",
      "zeros_in_data []\n",
      "\n",
      "zeros_in_data_extrapolated []\n"
     ]
    }
   ],
   "source": [
    "data_extrapolated = data\n",
    "\n",
    "print(\"data is: \\n\" + str(data[0:3]) + \"\\n\" + \"...\" + \"\\n\")\n",
    "print(\"data_extrapolated is: \\n\" + str(data_extrapolated[0:3]) + \"\\n\" + \"...\" + \"\\n\")\n",
    "\n",
    "\n",
    "### What this loop does is strange: \n",
    "### It does not only change 'data_extrapolated', but also 'data', while it shouldn't\n",
    "### (See output, and see experiment cell below.)\n",
    "### Why is this??? \n",
    "#\n",
    "# Replace all 0 values with the previous values, and update the counter.\n",
    "last_value = 1\n",
    "for row in data_extrapolated: \n",
    "    if row[7] == 0:\n",
    "        row[7] = last_value\n",
    "    last_value = row[7]\n",
    "\n",
    "zeros_in_data = []\n",
    "for row in data:\n",
    "    if (row[7] == 0): \n",
    "        zeros_in_data.append(row[7])\n",
    "print(\"zeros_in_data \" + str(zeros_in_data))\n",
    "\n",
    "zeros_in_data_extrapolated = []\n",
    "for row in data:\n",
    "    if (row[7] == 0): \n",
    "        zeros_in_data_extrapolated.append(row[7])\n",
    "print(\"\\n\" + \"zeros_in_data_extrapolated \" + str(zeros_in_data))\n",
    "\n",
    "\n",
    "\n",
    "#y = []\n",
    "#for row in data_extrapolated:\n",
    "#    if (type(row[7]) != int) or (row[7] == 0): \n",
    "#        y.append(row[7])\n",
    "        \n",
    "        \n",
    "#print(\"x is \" + str(x))\n",
    "#print(\"y is \" + str(y))\n"
   ]
  },
  {
   "cell_type": "markdown",
   "metadata": {},
   "source": [
    "# Experiment: Does the original variable change in Python when a copy of it is changed?\n",
    "\n",
    "No, it doesn't:"
   ]
  },
  {
   "cell_type": "code",
   "execution_count": 132,
   "metadata": {},
   "outputs": [
    {
     "name": "stdout",
     "output_type": "stream",
     "text": [
      "5\n",
      "5\n",
      "2\n",
      "5\n"
     ]
    }
   ],
   "source": [
    "a = 5\n",
    "print(a) \n",
    "#> 5\n",
    "\n",
    "b = a\n",
    "print(b)\n",
    "#>5\n",
    "\n",
    "if b == 5:\n",
    "    b = 2\n",
    "print (b)\n",
    "#>2\n",
    "\n",
    "print(a)\n",
    "#>5"
   ]
  },
  {
   "cell_type": "markdown",
   "metadata": {},
   "source": [
    "So why does the problem happen in \"Fill missing values by extrapolation to previous year\" section?"
   ]
  }
 ],
 "metadata": {
  "kernelspec": {
   "display_name": "Python 3",
   "language": "python",
   "name": "python3"
  },
  "language_info": {
   "codemirror_mode": {
    "name": "ipython",
    "version": 3
   },
   "file_extension": ".py",
   "mimetype": "text/x-python",
   "name": "python",
   "nbconvert_exporter": "python",
   "pygments_lexer": "ipython3",
   "version": "3.6.1"
  }
 },
 "nbformat": 4,
 "nbformat_minor": 2
}
