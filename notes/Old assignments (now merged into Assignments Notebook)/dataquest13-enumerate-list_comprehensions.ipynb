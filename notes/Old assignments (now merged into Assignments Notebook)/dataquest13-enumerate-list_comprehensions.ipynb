{
 "cells": [
  {
   "cell_type": "markdown",
   "metadata": {},
   "source": [
    "# Iterate over two lists simulteneously"
   ]
  },
  {
   "cell_type": "code",
   "execution_count": 2,
   "metadata": {},
   "outputs": [
    {
     "name": "stdout",
     "output_type": "stream",
     "text": [
      "Andrea Doria\n",
      "Ford Edsel\n",
      "Titanic\n",
      "Ford Pinto\n",
      "Lusitania\n",
      "Yugo\n"
     ]
    }
   ],
   "source": [
    "ships = [\"Andrea Doria\", \"Titanic\", \"Lusitania\"]\n",
    "cars = [\"Ford Edsel\", \"Ford Pinto\", \"Yugo\"]\n",
    "\n",
    "for i, ship in enumerate(ships):\n",
    "    print(ship)\n",
    "    print(cars[i])\n",
    "    "
   ]
  },
  {
   "cell_type": "markdown",
   "metadata": {},
   "source": [
    "# Merge two lists"
   ]
  },
  {
   "cell_type": "markdown",
   "metadata": {},
   "source": [
    "By iterating two lists simultaneously, items from one list can be added to their corresponding places in another list:"
   ]
  },
  {
   "cell_type": "code",
   "execution_count": 3,
   "metadata": {},
   "outputs": [
    {
     "name": "stdout",
     "output_type": "stream",
     "text": [
      "original 'things':[['apple', 'monkey'], ['orange', 'dog'], ['banana', 'cat']]\n",
      "\n",
      "modified 'things':[['apple', 'monkey', 'cedar'], ['orange', 'dog', 'maple'], ['banana', 'cat', 'fig']]\n",
      "\n"
     ]
    }
   ],
   "source": [
    "things = [[\"apple\", \"monkey\"], [\"orange\", \"dog\"], [\"banana\", \"cat\"]]\n",
    "print(\"original 'things':\" + str(things) + \"\\n\")\n",
    "\n",
    "trees = [\"cedar\", \"maple\", \"fig\"]\n",
    "\n",
    "for i, pair in enumerate(things):\n",
    "    pair.append(trees[i])\n",
    "print(\"modified 'things':\" + str(things) + \"\\n\")\n"
   ]
  },
  {
   "cell_type": "markdown",
   "metadata": {},
   "source": [
    "# Practice: Compact Notation for For Loops (List Comprehension) "
   ]
  },
  {
   "cell_type": "code",
   "execution_count": 4,
   "metadata": {},
   "outputs": [
    {
     "name": "stdout",
     "output_type": "stream",
     "text": [
      "apple_prices_doubled is: [200, 202, 204, 210]\n",
      "apple_prices_lowered is: [0, 1, 2, 5]\n"
     ]
    }
   ],
   "source": [
    "apple_prices = [100, 101, 102, 105]\n",
    "\n",
    "apple_prices_doubled = [price*2 for price in apple_prices]\n",
    "print(\"apple_prices_doubled is: \" + str(apple_prices_doubled))\n",
    "\n",
    "apple_prices_lowered = [price-100 for price in apple_prices]\n",
    "print(\"apple_prices_lowered is: \" + str(apple_prices_lowered))\n"
   ]
  },
  {
   "cell_type": "markdown",
   "metadata": {},
   "source": [
    "# Prepare data for next exercises"
   ]
  },
  {
   "cell_type": "code",
   "execution_count": 5,
   "metadata": {},
   "outputs": [
    {
     "name": "stdout",
     "output_type": "stream",
     "text": [
      "data is: \n",
      "[['last_name', 'first_name', 'birthday', 'gender', 'type', 'state', 'party', 1], ['Bassett', 'Richard', '1745-04-02', 'M', 'sen', 'DE', 'Anti-Administration', 1745], ['Bland', 'Theodorick', '1742-03-21', '', 'rep', 'VA', '', 1742], ['Burke', 'Aedanus', '1743-06-16', '', 'rep', 'SC', '', 1743], ['Carroll', 'Daniel', '1730-07-22', 'M', 'rep', 'MD', '', 1730], ['Clymer', 'George', '1739-03-16', 'M', 'rep', 'PA', '', 1739], ['Contee', 'Benjamin', '', 'M', 'rep', 'MD', '', 1739], ['Dalton', 'Tristram', '1738-05-28', '', 'sen', 'MA', 'Pro-Administration', 1738], ['Elmer', 'Jonathan', '1745-11-29', 'M', 'sen', 'NJ', 'Pro-Administration', 1745], ['Few', 'William', '1748-06-08', 'M', 'sen', 'GA', 'Anti-Administration', 1748]]\n",
      "\n"
     ]
    }
   ],
   "source": [
    "#------------------------------\n",
    "# Open, read, and tokenize data\n",
    "#------------------------------\n",
    "# Open and read data to variable. The resulting variable is simply a long string, and thus, what is indexed is just letters of this string. \n",
    "data_string = open(\"legislators.csv\").read()\n",
    "\n",
    "# Split this long string by the row separator character. This assigns each row of data into a list item, and thus, allows each row to be indexed.\n",
    "data_splitted = data_string.split(\"\\n\")\n",
    "\n",
    "# Tokenize each row by using column separator character. This splits each row into sub-lists, and thus, allows not only rows, but also values in these rows (i.e., columns) to be indexed.\n",
    "data_tokenized = []\n",
    "for item in data_splitted:\n",
    "    item = item.split(\",\")\n",
    "    data_tokenized.append(item)\n",
    "\n",
    "# Assign the final version to data varialble. \n",
    "data = data_tokenized\n",
    "\n",
    "#----------------------------------------------------------------------\n",
    "##Extract year from YYYY-MM-DD format and add it as a column to the end\n",
    "#----------------------------------------------------------------------\n",
    "for row in data:\n",
    "    # extract birth year from the birthday column\n",
    "    birthdate_current = row[2]\n",
    "    birthdate_current_splitted = birthdate_current.split(\"-\")\n",
    "    birth_year_current = birthdate_current_splitted[0]\n",
    "    \n",
    "    # convert birth year to integer \n",
    "    try:\n",
    "        birth_year_current_converted = int(birth_year_current)\n",
    "    # if a value cannot be converted, change it to '0'\n",
    "    except Exception:\n",
    "        birth_year_current_converted = 0\n",
    "    row.append(birth_year_current_converted)\n",
    "   # row[2] = birth_year_current_converted\n",
    "\n",
    "#---------------------------------------------------------------\n",
    "# Step #2: Fill missing values by extrapolation to previous year \n",
    "#---------------------------------------------------------------\n",
    "data_extrapolated = data\n",
    "\n",
    "last_value = 1\n",
    "for row in data_extrapolated: \n",
    "    if row[7] == 0:\n",
    "        row[7] = last_value\n",
    "    last_value = row[7]\n",
    "    \n",
    "print(\"data is: \\n\" + str(data[0:10]) + \"\\n\")\n"
   ]
  },
  {
   "cell_type": "markdown",
   "metadata": {},
   "source": [
    "# Step #1: Count occurences of female names after 1940"
   ]
  },
  {
   "cell_type": "code",
   "execution_count": 13,
   "metadata": {},
   "outputs": [
    {
     "data": {
      "text/plain": [
       "{'Ann Marie': 1,\n",
       " 'Anne': 1,\n",
       " 'Barbara': 1,\n",
       " 'Betsy': 1,\n",
       " 'Betty': 1,\n",
       " 'Blanche': 1,\n",
       " 'Carolyn': 1,\n",
       " 'Cynthia': 1,\n",
       " 'Deborah': 2,\n",
       " 'Denise': 1,\n",
       " 'Ellen': 1,\n",
       " 'Enid': 1,\n",
       " 'Gabrielle': 1,\n",
       " 'Heather': 1,\n",
       " 'Hilda': 1,\n",
       " 'Hillary': 1,\n",
       " 'Jane': 1,\n",
       " 'Jean': 1,\n",
       " 'Jennifer': 1,\n",
       " 'Jo Ann': 2,\n",
       " 'Karen': 2,\n",
       " 'Katherine': 1,\n",
       " 'Kathleen': 2,\n",
       " 'Kay': 1,\n",
       " 'Laura': 1,\n",
       " 'Lynn': 1,\n",
       " 'Marilyn': 1,\n",
       " 'Mary': 2,\n",
       " 'Mary Jo': 1,\n",
       " 'Melissa': 2,\n",
       " 'Nan': 1,\n",
       " 'Nancy': 1,\n",
       " 'Olympia': 1,\n",
       " 'Sandy': 1,\n",
       " 'Shelley': 2,\n",
       " 'Stephanie': 2,\n",
       " 'Sue': 1,\n",
       " 'Suzanne': 1,\n",
       " 'Thelma': 1,\n",
       " 'Virginia': 1}"
      ]
     },
     "execution_count": 13,
     "metadata": {},
     "output_type": "execute_result"
    }
   ],
   "source": [
    "name_counts = {}\n",
    "\n",
    "for row in data:\n",
    "    if (row[3] == \"F\") and (row[7] > 1940):\n",
    "        name = row[1]\n",
    "        if name in name_counts:\n",
    "            name_counts[name] = name_counts[name] + 1\n",
    "        else:\n",
    "            name_counts[name] = 1\n",
    "            \n",
    "name_counts"
   ]
  },
  {
   "cell_type": "markdown",
   "metadata": {},
   "source": [
    "# Practice: Ignore 'None' values and make a comparison "
   ]
  },
  {
   "cell_type": "code",
   "execution_count": 14,
   "metadata": {},
   "outputs": [
    {
     "name": "stdout",
     "output_type": "stream",
     "text": [
      "[False, False, False, False, False, True]\n"
     ]
    }
   ],
   "source": [
    "values = [None, 10, 20, 30, None, 50]\n",
    "checks = []\n",
    "\n",
    "for value in values:\n",
    "    if value is not None and value > 30:\n",
    "        checks.append(True)\n",
    "    else: \n",
    "        checks.append(False)\n",
    "print(checks)"
   ]
  },
  {
   "cell_type": "markdown",
   "metadata": {},
   "source": [
    "# Step #2: Find the most common name in a dictionary by iterating and using 'is not None'\n",
    "Step 8 in Dataquest"
   ]
  },
  {
   "cell_type": "code",
   "execution_count": 30,
   "metadata": {},
   "outputs": [
    {
     "name": "stdout",
     "output_type": "stream",
     "text": [
      "2\n"
     ]
    }
   ],
   "source": [
    "max_value = None\n",
    "\n",
    "for key in name_counts:\n",
    "    count = name_counts[key]\n",
    "    if max_value is None or count > max_value:\n",
    "        max_value = count\n",
    "print(max_value)"
   ]
  },
  {
   "cell_type": "markdown",
   "metadata": {},
   "source": [
    "# Practice: Print both keys and values using .items method "
   ]
  },
  {
   "cell_type": "code",
   "execution_count": 29,
   "metadata": {},
   "outputs": [
    {
     "name": "stdout",
     "output_type": "stream",
     "text": [
      "orchid\n",
      "flower\n",
      "cedar\n",
      "tree\n",
      "maple\n",
      "tree\n"
     ]
    }
   ],
   "source": [
    "plant_types = {\"orchid\": \"flower\", \"cedar\": \"tree\", \"maple\": \"tree\"}\n",
    "\n",
    "for key, value in plant_types.items():\n",
    "    print(key)\n",
    "    print(value)"
   ]
  },
  {
   "cell_type": "markdown",
   "metadata": {},
   "source": [
    "# Step #3: Create a list of most common female names "
   ]
  },
  {
   "cell_type": "code",
   "execution_count": 54,
   "metadata": {},
   "outputs": [
    {
     "name": "stdout",
     "output_type": "stream",
     "text": [
      "{'Enid': 1, 'Lynn': 1, 'Karen': 2, 'Jennifer': 1, 'Denise': 1, 'Katherine': 1, 'Melissa': 2, 'Blanche': 1, 'Cynthia': 1, 'Anne': 1, 'Shelley': 2, 'Nancy': 1, 'Hillary': 1, 'Barbara': 1, 'Jo Ann': 2, 'Thelma': 1, 'Stephanie': 2, 'Marilyn': 1, 'Deborah': 2, 'Heather': 1, 'Virginia': 1, 'Kathleen': 2, 'Mary': 2, 'Carolyn': 1, 'Mary Jo': 1, 'Suzanne': 1, 'Betsy': 1, 'Hilda': 1, 'Ellen': 1, 'Gabrielle': 1, 'Jane': 1, 'Kay': 1, 'Olympia': 1, 'Sandy': 1, 'Ann Marie': 1, 'Nan': 1, 'Sue': 1, 'Laura': 1, 'Jean': 1, 'Betty': 1}\n"
     ]
    }
   ],
   "source": [
    "print(name_counts)\n"
   ]
  },
  {
   "cell_type": "code",
   "execution_count": 60,
   "metadata": {},
   "outputs": [
    {
     "name": "stdout",
     "output_type": "stream",
     "text": [
      "['Karen', 'Melissa', 'Shelley', 'Jo Ann', 'Stephanie', 'Deborah', 'Kathleen', 'Mary']\n"
     ]
    }
   ],
   "source": [
    "top_female_names = []\n",
    "\n",
    "for key, value in name_counts.items():\n",
    "    if value == 2:\n",
    "        top_female_names.append(key)\n",
    "print(top_female_names)\n",
    "        "
   ]
  },
  {
   "cell_type": "markdown",
   "metadata": {},
   "source": [
    "# Step #4: Find highest male name and the number of its occurences"
   ]
  },
  {
   "cell_type": "code",
   "execution_count": 63,
   "metadata": {},
   "outputs": [
    {
     "name": "stdout",
     "output_type": "stream",
     "text": [
      "data is: \n",
      "[['last_name', 'first_name', 'birthday', 'gender', 'type', 'state', 'party', 1], ['Bassett', 'Richard', '1745-04-02', 'M', 'sen', 'DE', 'Anti-Administration', 1745], ['Bland', 'Theodorick', '1742-03-21', '', 'rep', 'VA', '', 1742]]\n",
      "...\n",
      "\n"
     ]
    }
   ],
   "source": [
    "print(\"data is: \\n\" + str(data[0:3]) + \"\\n\" + \"...\" + \"\\n\")"
   ]
  },
  {
   "cell_type": "code",
   "execution_count": 110,
   "metadata": {},
   "outputs": [
    {
     "name": "stdout",
     "output_type": "stream",
     "text": [
      "male_name_counts is: \n",
      "{'Michael': 20, 'David': 24, 'James': 31, 'John': 35, 'Paul': 6, 'Joseph': 5, 'Donald': 4, 'William': 21, 'Thomas': 18, 'Anthony': 3, 'Charles': 17, 'Raymond': 2, 'Fred': 2, 'Robert': 24, 'Kenneth': 1, 'Mark': 9, 'Harold': 3, 'Daniel': 4, 'Patrick': 3, 'Richard': 9, 'George': 6, 'Peter': 9, 'Chester': 1, 'Harry': 2, 'Earl': 3, 'Edward': 3, 'Albert': 3, 'Carl': 1, 'Martin': 3, 'Lawrence': 1, 'Milton': 1, 'Samuel': 2, 'Frederick': 2, 'Timothy': 3, 'Philip': 2, 'Frank': 6, 'Victor': 3, 'Rod': 2, 'Lewis': 1, 'Walter': 3, 'Henry': 2, 'Phil': 2, 'Tim': 3, 'Tom': 2, 'Bob': 9, 'Rick': 4, 'Ron': 3, 'Steven': 3, 'Bill': 2, 'Don': 1, 'Ken': 2, 'Lincoln': 3, 'Gary': 2, 'Jon': 3, 'Greg': 1, 'Tony': 1, 'Brian': 3, 'Steve': 4, 'Dan': 2, 'Joe': 4, 'Dean': 1, 'AnÃ\\xadbal': 1, 'Wayne': 2, 'Chris': 2, 'Max': 3, 'Brad': 2, 'Norm': 1, 'Larry': 3, 'Calvin': 1, 'Ernest': 2, 'Jonas': 1, 'Christopher': 6, 'Gerald': 2, 'Scott': 3, 'Doug': 1, 'Jack': 1, 'Gordon': 1, 'Evan': 1, 'Jeb': 1, 'Ed': 1, 'C.': 1, 'Randall': 1, 'Byron': 1, 'Lane': 1, 'Russell': 1, 'Judd': 1, 'Gilbert': 1, 'Mel': 1, 'C.L.': 1, 'Jim': 3, 'Ted': 1, 'W.': 2, 'Rahm': 1, 'Luis': 1, 'Vito': 1, 'Virgil': 1, 'J.': 1, 'Robin': 1, 'Kenny': 1, 'Duncan': 1, 'Bobby': 2, 'Ric': 1, 'Ray': 1, 'Nicholas': 1, 'Trent': 1, 'H.': 1, 'Allen': 2, 'Stephen': 1, 'Anh': 1, 'Travis': 1, 'Artur': 1, 'Nathan': 1, 'Barton': 1, 'Parker': 1, 'Baron': 1, 'Eric': 2, 'Kendrick': 1, 'Alan': 1, 'Dennis': 4, 'Glenn': 1, 'Adam': 1, 'Ciro': 1, 'Zachary': 1, 'Bart': 1, 'Gene': 1, 'Todd': 2, 'Zach': 1, 'Carte': 1, 'Geoff': 1, 'Jay': 1, 'Thaddeus': 1, 'Jesse': 1, 'Barack': 1, 'Jeff': 2, 'Kent': 1, 'Ben': 3, 'Jason': 1, 'Howard': 1, 'Francisco': 1, 'Russ': 1, 'Hansen': 1, 'Jerry': 1, 'Chip': 1, 'Elton': 1, 'Connie': 1, 'R.': 1, 'Mike': 2, 'Silvestre': 1, 'Heath': 1, 'Clifford': 1, 'Jo': 1, 'Rodney': 1, 'Jeffrey': 1, 'Melvin': 1, 'Trey': 1}\n",
      "\n",
      "highest_male_count is: 35\n",
      "\n",
      "top_male_names is:  John\n"
     ]
    }
   ],
   "source": [
    "male_name_counts = {}\n",
    "for row in data:\n",
    "    name = row[1]\n",
    "    gender = row[3]\n",
    "    year = row[7]\n",
    "    if gender is \"M\" and year > 1940:\n",
    "        if name not in male_name_counts:\n",
    "            male_name_counts[name] = 1        \n",
    "        else:\n",
    "            male_name_counts[name] = male_name_counts[name] + 1\n",
    "\n",
    "print(\"male_name_counts is: \\n\" + str(male_name_counts))\n",
    "\n",
    "highest_male_count = 0\n",
    "top_male_names = []\n",
    "\n",
    "for key, value in male_name_counts.items():\n",
    "    if value > highest_male_count:\n",
    "        highest_male_count = value\n",
    "    if value == highest_male_count:\n",
    "        top_male_names = key\n",
    "        \n",
    "print(\"\\n\" + \"highest_male_count is: \" + str(highest_male_count))\n",
    "print(\"\\n\" + \"top_male_names is:  \" + str(top_male_names))\n",
    "\n"
   ]
  }
 ],
 "metadata": {
  "kernelspec": {
   "display_name": "Python 3",
   "language": "python",
   "name": "python3"
  },
  "language_info": {
   "codemirror_mode": {
    "name": "ipython",
    "version": 3
   },
   "file_extension": ".py",
   "mimetype": "text/x-python",
   "name": "python",
   "nbconvert_exporter": "python",
   "pygments_lexer": "ipython3",
   "version": "3.6.1"
  }
 },
 "nbformat": 4,
 "nbformat_minor": 2
}
