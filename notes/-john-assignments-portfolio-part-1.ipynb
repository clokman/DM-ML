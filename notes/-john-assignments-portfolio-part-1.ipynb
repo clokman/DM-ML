{
 "cells": [
  {
   "cell_type": "markdown",
   "metadata": {},
   "source": []
  },
  {
   "cell_type": "markdown",
   "metadata": {},
   "source": [
    "# META"
   ]
  },
  {
   "cell_type": "code",
   "execution_count": 63,
   "metadata": {},
   "outputs": [
    {
     "data": {
      "text/html": [
       "<style>\n",
       "   \n",
       "  /* UNCOMMENT CODE BELOW WHEN PUBLISHED */\n",
       "  /* Adjust colors */\n",
       "  /*\n",
       "  .notebook_app {background-color: #1e1e1e !important;}\n",
       "  html {filter: invert(100%);}\n",
       "  */\n",
       "  \n",
       "  /* Left-align images and tables */\n",
       "  table {margin-left: 0 !important;}\n",
       "  .rendered_html img {margin-left: 0 !important;}\n",
       "  \n",
       "</style>"
      ],
      "text/plain": [
       "<IPython.core.display.HTML object>"
      ]
     },
     "metadata": {},
     "output_type": "display_data"
    }
   ],
   "source": [
    "%%html\n",
    "<style>\n",
    "   \n",
    "  /* UNCOMMENT CODE BELOW WHEN PUBLISHED */\n",
    "  /* Adjust colors */\n",
    "  /*\n",
    "  .notebook_app {background-color: #1e1e1e !important;}\n",
    "  html {filter: invert(100%);}\n",
    "  */\n",
    "  \n",
    "  /* Left-align images and tables */\n",
    "  table {margin-left: 0 !important;}\n",
    "  .rendered_html img {margin-left: 0 !important;}\n",
    "  \n",
    "</style>"
   ]
  },
  {
   "cell_type": "markdown",
   "metadata": {},
   "source": [
    "# 1-8 SEE APPENDIX"
   ]
  },
  {
   "cell_type": "markdown",
   "metadata": {},
   "source": [
    "# 8. JUPYTER AND DATA"
   ]
  },
  {
   "cell_type": "markdown",
   "metadata": {},
   "source": [
    "## 8.1. Prepare Data"
   ]
  },
  {
   "cell_type": "code",
   "execution_count": 64,
   "metadata": {},
   "outputs": [
    {
     "name": "stdout",
     "output_type": "stream",
     "text": [
      "C:\\Users\\Clokman\\Google Drive\\__Projects__\\Code\\DMT\\notes\n"
     ]
    }
   ],
   "source": [
    "import os\n",
    "print(os.getcwd())"
   ]
  },
  {
   "cell_type": "code",
   "execution_count": 65,
   "metadata": {},
   "outputs": [
    {
     "data": {
      "text/plain": [
       "[[1994, 1, 1, 6, 8096],\n",
       " [1994, 1, 2, 7, 7772],\n",
       " [1994, 1, 3, 1, 10142],\n",
       " [1994, 1, 4, 2, 11248],\n",
       " [1994, 1, 5, 3, 11053],\n",
       " [1994, 1, 6, 4, 11406],\n",
       " [1994, 1, 7, 5, 11251],\n",
       " [1994, 1, 8, 6, 8653],\n",
       " [1994, 1, 9, 7, 7910],\n",
       " [1994, 1, 10, 1, 10498]]"
      ]
     },
     "execution_count": 65,
     "metadata": {},
     "output_type": "execute_result"
    }
   ],
   "source": [
    "def read_csv(file_name):\n",
    "    data = open(file_name, \"r\").read()\n",
    "    #print(data)\n",
    "    \n",
    "    data_splitted = data.split(\"\\n\")\n",
    "    #print(data_splitted)\n",
    "    \n",
    "    string_list = data_splitted[1:len(data_splitted)-1]\n",
    "    #print(string_list)\n",
    "  \n",
    "    final_list = []\n",
    "\n",
    "    for i in string_list:\n",
    "        int_fields = []\n",
    "        string_fields = i.split(\",\") # tokenize each atomic variable\n",
    "        for j in string_fields:\n",
    "            int_fields.append(int(j))\n",
    "        final_list.append(int_fields)\n",
    "    return(final_list)\n",
    "    \n",
    "cdc_list = read_csv(\"US_births_1994-2003_CDC_NCHS.csv\")\n",
    "cdc_list[:10]"
   ]
  },
  {
   "cell_type": "markdown",
   "metadata": {},
   "source": [
    "## 8.2. List number of births each month"
   ]
  },
  {
   "cell_type": "code",
   "execution_count": 66,
   "metadata": {},
   "outputs": [
    {
     "data": {
      "text/plain": [
       "{1: 3232517,\n",
       " 2: 3018140,\n",
       " 3: 3322069,\n",
       " 4: 3185314,\n",
       " 5: 3350907,\n",
       " 6: 3296530,\n",
       " 7: 3498783,\n",
       " 8: 3525858,\n",
       " 9: 3439698,\n",
       " 10: 3378814,\n",
       " 11: 3171647,\n",
       " 12: 3289486}"
      ]
     },
     "execution_count": 66,
     "metadata": {},
     "output_type": "execute_result"
    }
   ],
   "source": [
    "def month_births(tokenized_data):\n",
    "    births_per_month = {}\n",
    "    for i in tokenized_data:\n",
    "        month  = i[1]\n",
    "        births = i[4]\n",
    "        if month not in births_per_month:\n",
    "            births_per_month[month] = births\n",
    "        else:\n",
    "            births_per_month[month] = births_per_month[month] + births \n",
    "    return(births_per_month)\n",
    "\n",
    "cdc_month_births = month_births(cdc_list)\n",
    "cdc_month_births"
   ]
  },
  {
   "cell_type": "markdown",
   "metadata": {},
   "source": [
    "## 8.3. List number of births each day of week\n",
    "**not in**"
   ]
  },
  {
   "cell_type": "code",
   "execution_count": 67,
   "metadata": {},
   "outputs": [
    {
     "data": {
      "text/plain": [
       "{1: 5789166,\n",
       " 2: 6446196,\n",
       " 3: 6310481,\n",
       " 4: 6288429,\n",
       " 5: 6233657,\n",
       " 6: 4562111,\n",
       " 7: 4079723}"
      ]
     },
     "execution_count": 67,
     "metadata": {},
     "output_type": "execute_result"
    }
   ],
   "source": [
    "def day_births(tokenized_data):\n",
    "    births_per_day = {}\n",
    "    for i in tokenized_data:\n",
    "        day    = i[3]\n",
    "        births = i[4]\n",
    "        if day not in births_per_day:    # if day is not in the dictionary\n",
    "            births_per_day[day] = births # add it as a key and initialize it with a value. \n",
    "        else:                            # otherwise...\n",
    "            births_per_day[day] = births_per_day[day] + births  # incement its value.\n",
    "    return(births_per_day)\n",
    "\n",
    "cdc_day_births = day_births(cdc_list)\n",
    "cdc_day_births"
   ]
  },
  {
   "cell_type": "markdown",
   "metadata": {},
   "source": [
    "## 8.4. List number of births each x"
   ]
  },
  {
   "cell_type": "code",
   "execution_count": 68,
   "metadata": {},
   "outputs": [
    {
     "data": {
      "text/plain": [
       "{1994: 3952767,\n",
       " 1995: 3899589,\n",
       " 1996: 3891494,\n",
       " 1997: 3880894,\n",
       " 1998: 3941553,\n",
       " 1999: 3959417,\n",
       " 2000: 4058814,\n",
       " 2001: 4025933,\n",
       " 2002: 4021726,\n",
       " 2003: 4077576}"
      ]
     },
     "execution_count": 68,
     "metadata": {},
     "output_type": "execute_result"
    }
   ],
   "source": [
    "def calc_counts(tokenized_data, column):            \n",
    "    births_per_x = {}\n",
    "    for i in tokenized_data:\n",
    "        x      = i[column]\n",
    "        births = i[4]\n",
    "        if x not in births_per_x:\n",
    "            births_per_x[x] = births\n",
    "        else:\n",
    "            births_per_x[x] = births_per_x[x] + births \n",
    "    return(births_per_x)\n",
    "\n",
    "cdc_dow_births = calc_counts(cdc_list, 3)\n",
    "cdc_dow_births\n",
    "\n",
    "cdc_dom_births = calc_counts(cdc_list, 2)\n",
    "cdc_dom_births\n",
    "\n",
    "cdc_month_births = calc_counts(cdc_list, 1)\n",
    "cdc_month_births\n",
    "\n",
    "cdc_year_births = calc_counts(cdc_list, 0)\n",
    "cdc_year_births"
   ]
  },
  {
   "cell_type": "markdown",
   "metadata": {},
   "source": [
    "## 8.5. Min-max\n",
    "This function calculates the minimum and maximum values of any dictionary that is passed as an argument.\n"
   ]
  },
  {
   "cell_type": "code",
   "execution_count": 69,
   "metadata": {},
   "outputs": [
    {
     "name": "stdout",
     "output_type": "stream",
     "text": [
      "4077576\n",
      "3880894\n",
      "2003\n",
      "1994\n"
     ]
    }
   ],
   "source": [
    "def dict_minmax(dictionary, query):\n",
    "      \n",
    "    if query == \"value\":\n",
    "        maximum = 0\n",
    "        minimum = 0 \n",
    "        for key, value in dictionary.items():\n",
    "            if maximum < value:\n",
    "                maximum = value\n",
    "                #print(maximum)\n",
    "\n",
    "        minimum = maximum\n",
    "\n",
    "        for key, value in dictionary.items():\n",
    "            if minimum > value:\n",
    "                minimum = value\n",
    "                #print(minimum)\n",
    "        return({\"minimum\":minimum, \"maximum\":maximum})\n",
    "\n",
    "    if query == \"key\":\n",
    "        maximum = 0\n",
    "        minimum = 0 \n",
    "        for key, value in dictionary.items():\n",
    "            if maximum < key:\n",
    "                maximum = key\n",
    "                #print(maximum)\n",
    "\n",
    "        minimum = maximum\n",
    "\n",
    "        for key, value in dictionary.items():\n",
    "            if minimum > key:\n",
    "                minimum = key\n",
    "                #print(minimum)\n",
    "        return({\"minimum\":minimum, \"maximum\":maximum})\n",
    "\n",
    "    #print(dictionary.values())\n",
    "              \n",
    "a = {\n",
    " 1994: 3952767,\n",
    " 1995: 3899589,\n",
    " 1996: 3891494,\n",
    " 1997: 3880894,\n",
    " 1998: 3941553,\n",
    " 1999: 3959417,\n",
    " 2000: 4058814,\n",
    " 2001: 4025933,\n",
    " 2002: 4021726,\n",
    " 2003: 4077576}\n",
    "\n",
    "print(dict_minmax(a, \"value\")[\"maximum\"])\n",
    "print(dict_minmax(a, \"value\")[\"minimum\"])\n",
    "\n",
    "print(dict_minmax(a, \"key\")[\"maximum\"])\n",
    "print(dict_minmax(a, \"key\")[\"minimum\"])"
   ]
  },
  {
   "cell_type": "markdown",
   "metadata": {},
   "source": [
    "## 8.6. Further Challenges\n"
   ]
  },
  {
   "cell_type": "markdown",
   "metadata": {},
   "source": [
    "1 - Write a function that extracts the same values across years and calculates the differences between consecutive values to show if number of births is increasing or decreasing.\n",
    "For example, how did the number of births on Saturday change each year between 1994 and 2003?"
   ]
  },
  {
   "cell_type": "markdown",
   "metadata": {},
   "source": [
    "2 -  Find a way to combine the CDC data with the SSA data, which you can find [here](https://github.com/fivethirtyeight/data/tree/master/births). Specifically, brainstorm ways to deal with the overlapping time periods in the datasets."
   ]
  },
  {
   "cell_type": "markdown",
   "metadata": {},
   "source": [
    "# 9. MODULES AND SEARCH"
   ]
  },
  {
   "cell_type": "markdown",
   "metadata": {},
   "source": [
    "## 9.1. Initiation"
   ]
  },
  {
   "cell_type": "code",
   "execution_count": 70,
   "metadata": {},
   "outputs": [
    {
     "name": "stdout",
     "output_type": "stream",
     "text": [
      "[['2009', '1', 'Pittsburgh Steelers', 'Tennessee Titans'], ['2009', '1', 'Minnesota Vikings', 'Cleveland Browns']]\n"
     ]
    }
   ],
   "source": [
    "import csv\n",
    "data = list(csv.reader(open(\"nfl.csv\")))\n",
    "print(data[:2])"
   ]
  },
  {
   "cell_type": "markdown",
   "metadata": {},
   "source": [
    "## 9.2. Count Wins of a Given Team"
   ]
  },
  {
   "cell_type": "code",
   "execution_count": 71,
   "metadata": {},
   "outputs": [
    {
     "name": "stdout",
     "output_type": "stream",
     "text": [
      "41\n",
      "49\n"
     ]
    }
   ],
   "source": [
    "def nfl_wins(team_name):\n",
    "    wins = 0\n",
    "    for i in data:\n",
    "        if i[2] == team_name:\n",
    "            wins = wins + 1\n",
    "    return wins\n",
    "\n",
    "cowboys_wins = nfl_wins(\"Dallas Cowboys\")\n",
    "falcons_wins = nfl_wins(\"Atlanta Falcons\")\n",
    "\n",
    "print(cowboys_wins)\n",
    "print(falcons_wins)"
   ]
  },
  {
   "cell_type": "markdown",
   "metadata": {},
   "source": [
    "## 9.3. Count Wins in a Given Year"
   ]
  },
  {
   "cell_type": "code",
   "execution_count": 72,
   "metadata": {},
   "outputs": [
    {
     "name": "stdout",
     "output_type": "stream",
     "text": [
      "5\n",
      "8\n"
     ]
    }
   ],
   "source": [
    "def nfl_wins_in_a_year(team, year):\n",
    "    count = 0\n",
    "    for i in data:\n",
    "        if (i[0] == year) & (i[2] == team):        \n",
    "            count = count + 1\n",
    "    return count\n",
    "\n",
    "browns_2010_wins = nfl_wins_in_a_year(\"Cleveland Browns\", \"2010\")\n",
    "eagles_2011_wins = nfl_wins_in_a_year(\"Philadelphia Eagles\", \"2011\")\n",
    "\n",
    "print(browns_2010_wins)\n",
    "print(eagles_2011_wins)"
   ]
  },
  {
   "cell_type": "markdown",
   "metadata": {},
   "source": [
    "# 10. CLASSES"
   ]
  },
  {
   "cell_type": "markdown",
   "metadata": {},
   "source": [
    "# 11. OBJECTS, CLASSES, AND METHODS"
   ]
  },
  {
   "cell_type": "code",
   "execution_count": 73,
   "metadata": {},
   "outputs": [
    {
     "name": "stdout",
     "output_type": "stream",
     "text": [
      "test\n",
      "C:\\Users\\Clokman\\Google Drive\\__Projects__\\Code\\DMT\\notes\n",
      "['-john-assignments-portfolio.ipynb', '-john-code-portfolio.ipynb', '-john-theory-portfolio.ipynb', '-meeting_notes.ipynb', '.ipynb_checkpoints', 'askreddit_2015.csv', 'dc_airbnb.csv', 'dictionary.txt', 'dummy.txt', 'Excel-export.py', 'la_weather.csv', 'leased_buses.png', 'legislators.csv', 'my_data.csv', 'nfl.csv', 'nfl_suspensions_data.csv', 'nodes.csv', 'Old assignments (now merged into Assignments Notebook)', 'Orders-Data-3.1.xlsx', 'plot.py', 'practice_datasets', 'story.txt', 'tables.html', 'tables.mdown', 'test2.py', 'US_births_1994-2003_CDC_NCHS.csv', 'US_births_2000-2014_SSA.csv', 'world_alcohol.csv', '__init__.py']\n"
     ]
    }
   ],
   "source": [
    "x = \"test\"\n",
    "print(x)\n",
    "\n",
    "import os\n",
    "print(os.getcwd())\n",
    "\n",
    "print(os.listdir(os.getcwd()))\n",
    "\n",
    "import csv\n",
    "data = list(csv.reader(open(\"nfl.csv\")))\n",
    "\n",
    "class My_Class ():\n",
    "    def __init__(self, my_property):\n",
    "        self.my_property = my_property\n"
   ]
  },
  {
   "cell_type": "markdown",
   "metadata": {},
   "source": [
    "## 11.1. Basic Class Construction"
   ]
  },
  {
   "cell_type": "code",
   "execution_count": 74,
   "metadata": {},
   "outputs": [
    {
     "name": "stdout",
     "output_type": "stream",
     "text": [
      "Tampa Bay Buccaneers\n"
     ]
    }
   ],
   "source": [
    "class Team():\n",
    "    def __init__(self):\n",
    "        self.name = \"Tampa Bay Buccaneers\"\n",
    "bucs = Team()\n",
    "print(bucs.name)"
   ]
  },
  {
   "cell_type": "markdown",
   "metadata": {},
   "source": [
    "## 11.2. Advanced Class Construction"
   ]
  },
  {
   "cell_type": "code",
   "execution_count": 75,
   "metadata": {},
   "outputs": [
    {
     "data": {
      "text/plain": [
       "'New York Giants'"
      ]
     },
     "execution_count": 75,
     "metadata": {},
     "output_type": "execute_result"
    }
   ],
   "source": [
    "class Team():\n",
    "    def __init__(self, name):\n",
    "        self.name = name\n",
    "        \n",
    "giants = Team(\"New York Giants\")\n",
    "giants.name"
   ]
  },
  {
   "cell_type": "markdown",
   "metadata": {},
   "source": [
    "## 11.3. Creating and Using Methods"
   ]
  },
  {
   "cell_type": "code",
   "execution_count": 76,
   "metadata": {},
   "outputs": [
    {
     "name": "stdout",
     "output_type": "stream",
     "text": [
      "Tampa Bay Buccaneers\n",
      "broncos_wins is 34\n",
      "broncos_wins is 46\n"
     ]
    }
   ],
   "source": [
    "\n",
    "\n",
    "import csv\n",
    "\n",
    "f = open(\"nfl.csv\", 'r')\n",
    "nfl = list(csv.reader(f))\n",
    "# print(nfl)\n",
    "\n",
    "# The NFL data is loaded into the nfl variable.\n",
    "class Team():\n",
    "    def __init__(self, name):\n",
    "        self.name = name\n",
    "\n",
    "    def print_name(self):\n",
    "        print(self.name)\n",
    "        \n",
    "    # Your method goes here\n",
    "    def count_total_wins(self):\n",
    "        wins = 0\n",
    "        for i in nfl:\n",
    "            if i[2] == self.name:\n",
    "                wins = wins + 1\n",
    "        return(wins)    \n",
    "    \n",
    "bucs = Team(\"Tampa Bay Buccaneers\")\n",
    "bucs.print_name()\n",
    "\n",
    "broncos = Team(\"Denver Broncos\")\n",
    "chiefs = Team(\"Kansas City Chiefs\")\n",
    "\n",
    "broncos_wins = broncos.count_total_wins()\n",
    "chiefs_wins = chiefs.count_total_wins()\n",
    "\n",
    "print(\"broncos_wins is \" + str(chiefs_wins))\n",
    "print(\"broncos_wins is \" + str(broncos_wins))"
   ]
  },
  {
   "cell_type": "markdown",
   "metadata": {},
   "source": [
    "### Customizing  __init__ Method "
   ]
  },
  {
   "cell_type": "code",
   "execution_count": 77,
   "metadata": {},
   "outputs": [
    {
     "data": {
      "text/plain": [
       "26"
      ]
     },
     "execution_count": 77,
     "metadata": {},
     "output_type": "execute_result"
    }
   ],
   "source": [
    "import csv\n",
    "class Team():\n",
    "    def __init__(self, name):\n",
    "        self.name = name\n",
    "        self.nfl = list(csv.reader(open(\"nfl.csv\")))\n",
    "\n",
    "    def count_total_wins(self):\n",
    "        count = 0\n",
    "        for row in self.nfl:\n",
    "            if row[2] == self.name:\n",
    "                count = count + 1\n",
    "        return count\n",
    "\n",
    "jaguars = Team(\"Jacksonville Jaguars\")\n",
    "jaguars_wins = jaguars.count_total_wins()\n",
    "jaguars_wins"
   ]
  },
  {
   "cell_type": "markdown",
   "metadata": {},
   "source": [
    "### 11.4. ???"
   ]
  },
  {
   "cell_type": "code",
   "execution_count": 78,
   "metadata": {},
   "outputs": [
    {
     "name": "stdout",
     "output_type": "stream",
     "text": [
      "[['2009', '1', 'Pittsburgh Steelers', 'Tennessee Titans'], ['2009', '1', 'Minnesota Vikings', 'Cleveland Browns']]\n"
     ]
    }
   ],
   "source": [
    "import csv\n",
    "data = list(csv.reader(open(\"nfl.csv\")))\n",
    "print(data[:2])"
   ]
  },
  {
   "cell_type": "code",
   "execution_count": 79,
   "metadata": {},
   "outputs": [
    {
     "name": "stdout",
     "output_type": "stream",
     "text": [
      "12\n"
     ]
    }
   ],
   "source": [
    "import csv\n",
    "class Team():\n",
    "    def __init__(self, name):\n",
    "        self.name = name\n",
    "        f = open(\"nfl.csv\", 'r')\n",
    "        csvreader = csv.reader(f)\n",
    "        self.nfl = list(csvreader)\n",
    "\n",
    "    def count_wins_in_year(self, year):\n",
    "        count = 0\n",
    "        for i in self.nfl:\n",
    "            if (i[2] == self.name) & (i[0] == year):\n",
    "                count = count + 1\n",
    "        return count\n",
    "\n",
    "niners = Team(\"San Francisco 49ers\")\n",
    "niners_wins_2013 = niners.count_wins_in_year(\"2013\")\n",
    "print(niners_wins_2013)\n"
   ]
  },
  {
   "cell_type": "markdown",
   "metadata": {},
   "source": [
    "# 12. MISSING DATA AND ERROR HANDLING"
   ]
  },
  {
   "cell_type": "markdown",
   "metadata": {},
   "source": [
    "## 12.1. Open and Tokenize CSV"
   ]
  },
  {
   "cell_type": "code",
   "execution_count": 80,
   "metadata": {
    "collapsed": true
   },
   "outputs": [],
   "source": [
    "# Open and read data to variable. The resulting variable is simply a long string, and thus, what is indexed is just letters of this string. \n",
    "data_string = open(\"legislators.csv\").read()\n",
    "\n",
    "# Split this long string by the row separator character. This assigns each row of data into a list item, and thus, allows each row to be indexed.\n",
    "data_splitted = data_string.split(\"\\n\")\n",
    "\n",
    "# Tokenize each row by using column separator character. This splits each row into sub-lists, and thus, allows not only rows, but also values in these rows (i.e., columns) to be indexed.\n",
    "data_tokenized = []\n",
    "for item in data_splitted:\n",
    "    item = item.split(\",\")\n",
    "    data_tokenized.append(item)\n",
    "\n",
    "# Assign the final version to data varialble. \n",
    "data = data_tokenized\n"
   ]
  },
  {
   "cell_type": "code",
   "execution_count": 81,
   "metadata": {},
   "outputs": [
    {
     "name": "stdout",
     "output_type": "stream",
     "text": [
      "gender\n",
      "['last_name', 'first_name', 'birthday', 'gender', 'type', 'state', 'party']\n",
      "party\n"
     ]
    }
   ],
   "source": [
    "print(data[0][3])\n",
    "print(data[0])\n",
    "print(data[0][6])\n"
   ]
  },
  {
   "cell_type": "markdown",
   "metadata": {},
   "source": [
    "## 12.2. List Unique Values (Create a Set)"
   ]
  },
  {
   "cell_type": "markdown",
   "metadata": {},
   "source": [
    "Creating a set from a column can give us the missing values and odd values. \n",
    "The output below shows this."
   ]
  },
  {
   "cell_type": "markdown",
   "metadata": {},
   "source": [
    "### For 'Gender'"
   ]
  },
  {
   "cell_type": "code",
   "execution_count": 82,
   "metadata": {},
   "outputs": [
    {
     "name": "stdout",
     "output_type": "stream",
     "text": [
      "{'', 'F', 'gender', '1794-11-27', 'M'}\n"
     ]
    }
   ],
   "source": [
    "gender = []\n",
    "\n",
    "# Extract the gender column\n",
    "for item in data:\n",
    "    gender.append(item[3])\n",
    "# print(gender)\n",
    "\n",
    "# Create a set out of the gender column\n",
    "gender = set(gender)\n",
    "print(gender)"
   ]
  },
  {
   "cell_type": "markdown",
   "metadata": {},
   "source": [
    "### For 'Party'"
   ]
  },
  {
   "cell_type": "code",
   "execution_count": 83,
   "metadata": {},
   "outputs": [
    {
     "name": "stdout",
     "output_type": "stream",
     "text": [
      "{'', 'Adams', 'Free Soil', 'Crawford Republican', 'Jacksonian', 'Whig', 'Anti-Lecompton Democrat', 'Populist', 'States Rights', 'Unknown', 'Unconditional Unionist', 'Federalist', 'Silver Republican', 'Democratic and Union Labor', 'Republican', 'Ind. Whig', 'New Progressive', 'Nonpartisan', 'American Labor', 'Union Labor', 'Conservative', 'Nullifier', 'Popular Democrat', 'Progressive Republican', 'Anti Jacksonian', 'Liberty', 'Coalitionist', 'party', 'Pro-Administration', 'PA', 'Anti Jackson', 'American', 'Ind. Republican', 'National Greenbacker', 'Readjuster', 'Republican-Conservative', 'Free Silver', 'Ind. Democrat', 'Anti-Jacksonian', 'Union Democrat', 'Progressive', 'Prohibitionist', 'Jackson', 'Independent Democrat', 'Jackson Republican', 'MD', 'Democrat', 'Independent', 'Ind. Republican-Democrat', 'Unionist', 'Liberal Republican', 'Union', 'Constitutional Unionist', 'Farmer-Labor', 'Socialist', 'Democratic Republican', 'Anti Masonic', 'Conservative Republican', 'Democrat-Liberal', 'Law and Order', 'Adams Democrat', 'Anti-Administration', 'Readjuster Democrat'}\n"
     ]
    }
   ],
   "source": [
    "party = []\n",
    "\n",
    "for item in data:\n",
    "    party.append(item[6])\n",
    "\n",
    "party = set(party)\n",
    "print(party)\n",
    "\n",
    "# print(data)\n"
   ]
  },
  {
   "cell_type": "markdown",
   "metadata": {},
   "source": [
    "## 12.3. Replace Missing Values in 'Gender'"
   ]
  },
  {
   "cell_type": "code",
   "execution_count": 84,
   "metadata": {},
   "outputs": [
    {
     "name": "stdout",
     "output_type": "stream",
     "text": [
      "{'F', 'M'}\n"
     ]
    }
   ],
   "source": [
    "# If a value in the gender column is not 'M' or 'F', replace it with 'M'\n",
    "for row in data:\n",
    "    if ((row[3] != \"M\") and (row[3] != \"F\")):\n",
    "        row[3] = \"M\" # No need to assign it to a new variable. Index replacement automatically does this.\n",
    "\n",
    "cleaned_gender = []    \n",
    "for row in data:\n",
    "    cleaned_gender.append(row[3])\n",
    "print(set(cleaned_gender))"
   ]
  },
  {
   "cell_type": "markdown",
   "metadata": {},
   "source": [
    "## 12.4. Extract Birth Years from YYYY-MM-DD Format"
   ]
  },
  {
   "cell_type": "code",
   "execution_count": 85,
   "metadata": {},
   "outputs": [
    {
     "name": "stdout",
     "output_type": "stream",
     "text": [
      "['birthday', '1745', '1742', '1743', '1730', '1739', '', '1738', '1745', '1748', '1734', '1756', '', '1737', '1754', '1736', '', '1727', '1733', '1732', '1737', '1739', '1734', '1740', '1745', '1728', '', '1738', '1737', '1739', '1744', '', '1761', '1756', '1752', '1737', '1745', '1744', '1742', '1726', '', '1733', '1741', '', '1756', '', '1721', '', '1764', '', '1740', '1745', '1745', '', '1735', '1745', '', '1753', '1748', '1749', '1740', '1746', '1729', '', '', '1726', '1748', '1756', '', '1753', '', '', '1753', '', '1739', '', '1738', '1741', '1750', '1761', '', '1758', '1744', '1759', '1743', '1736', '', '1741', '1739', '', '1745', '1751', '1743', '1754', '1758', '1743', '1764', '1727', '1749', '1751', '1739', '1753', '', '1758', '1752', '', '1755', '1753', '1747', '', '1751', '1752', '1760', '1756', '', '1753', '1754', '1749', '1758', '1743', '', '1741', '1729', '1755', '', '1750', '1760', '1761', '1743', '1757', '1746', '1765', '', '1753', '1728', '', '', '', '', '1759', '', '1740', '1749', '1749', '1748', '1752', '', '', '', '1763', '', '1739', '', '', '1735', '', '1740', '1752', '1769', '1758', '1758', '1748', '1752', '1766', '', '1765', '1752', '', '', '', '1760', '1755', '', '1756', '', '1768', '1762', '1760', '1733', '1744', '1764', '1759', '1762', '1751', '', '1756', '', '', '', '', '1744', '1738', '', '1750', '1750', '1754', '1736', '1757', '1775', '', '1754', '1761', '', '1760', '', '1761', '', '1755', '1754', '', '1745', '1761', '1739', '1756', '1761', '1763', '1765', '1748', '1757', '1764', '', '', '1756', '', '1732', '1749', '1755', '1764', '', '1768', '1765', '1751', '1750', '1769', '', '1751', '1746', '1757', '1758', '1754', '1764', '1744', '1765', '1757', '1743', '1752', '1738', '1768', '1752', '1760', '1756', '', '', '1768', '', '1762', '1735', '1758', '1764', '1768', '1767', '', '1757', '1757', '', '', '1760', '1749', '1753', '1755', '1760', '1771', '1746', '1756', '1735', '1748', '1767', '1759', '', '1755', '1737', '1738', '\"', '1769', '', '1742', '1755', '1768', '', '', '', '', '1744', '1769', '1759', '1758', '1761', '', '1762', '1749', '1742', '1771', '1758', '1766', '', '', '1767', '1757', '', '1747', '1760', '1765', '1753', '', '1766', '1741', '', '1769', '1739', '', '', '1749', '1769', '1753', '1774', '1752', '1759', '', '', '1776', '1763', '', '1754', '1758', '', '1747', '1758', '1755', '', '1756', '1760', '1741', '1754', '1756', '1768', '1739', '1773', '', '', '', '1768', '1770', '1764', '1773', '1767', '1752', '1771', '', '1768', '1762', '1743', '1754', '', '1762', '1753', '1744', '', '1740', '1758', '', '', '1776', '1755', '1770', '1743', '1768', '1754', '', '1764', '1748', '1765', '1784', '1774', '1739', '1734', '1748', '1766', '1763', '1748', '', '1729', '1769', '1773', '1746', '', '', '', '1751', '1763', '1762', '1774', '1754', '', '1755', '', '', '1769', '1771', '1770', '1768', '1748', '1769', '1775', '1760', '1771', '1770', '1759', '1755', '1760', '1745', '', '1757', '1740', '1766', '1760', '1769', '1746', '1763', '1767', '', '1765', '', '1777', '1760', '1761', '', '1743', '1772', '', '1770', '1752', '1779', '1752', '1762', '1766', '', '', '1749', '1762', '1763', '1774', '', '1758', '1759', '1764', '1751', '1749', '', '1757', '1762', '', '', '1750', '', '1765', '1772', '1755', '1768', '1763', '1753', '1764', '', '1776', '1759', '1769', '1766', '1763', '1762', '1783', '', '1754', '', '', '1768', '1769', '1745', '1771', '1779', '1746', '1760', '1762', '', '1749', '1759', '', '1766', '', '', '1764', '', '1761', '', '1763', '', '1740', '1758', '1756', '1755', '1759', '', '', '1774', '1765', '', '1749', '1764', '', '1763', '1764', '', '1766', '1767', '1769', '1770', '1773', '1776', '', '1768', '1767', '', '1779', '1759', '1746', '1759', '1751', '1763', '1772', '', '1778', '1772', '1771', '1766', '1771', '1765', '1764', '1762', '1755', '1743', '1761', '1757', '1779', '1771', '1757', '1760', '', '1771', '1766', '1771', '1773', '1764', '', '1756', '1760', '1770', '', '1772', '1757', '1762', '1763', '', '', '', '1773', '1771', '1764', '1764', '1760', '1766', '1762', '1750', '1767', '', '1776', '1765', '', '', '', '1750', '1761', '1775', '1769', '1746', '1781', '1775', '', '1776', '1773', '', '1772', '1764', '1744', '', '1763', '1781', '1776', '', '1762', '1764', '1764', '1767', '1762', '', '', '', '1766', '', '1765', '1769', '', '1756', '', '', '1763', '1758', '1764', '', '1773', '', '1780', '1764', '1753', '1772', '1770', '1762', '', '', '1771', '1764', '1768', '1765', '1770', '1785', '1770', '1768', '1748', '1779', '', '1771', '1764', '1755', '1776', '1774', '1756', '1779', '1768', '1778', '1755', '1761', '1750', '1765', '1764', '1770', '1768', '1750', '1760', '1769', '', '1762', '1738', '1781', '1772', '1784', '', '1776', '1771', '1766', '', '1782', '1767', '1777', '1773', '1766', '', '', '', '1787', '', '1770', '1763', '1751', '1775', '1756', '1782', '1773', '1770', '1769', '1777', '1756', '1782', '1765', '1760', '1779', '', '1754', '', '1756', '', '', '', '1772', '1760', '1752', '', '1774', '1787', '', '1778', '1779', '1778', '', '1769', '1764', '1765', '1758', '1756', '1778', '1776', '1765', '1767', '1778', '1768', '1784', '1777', '', '1770', '1761', '1774', '1768', '1777', '1772', '1766', '1782', '1770', '1772', '1763', '1774', '1770', '', '', '1761', '1759', '1763', '1765', '1816', '1774', '1785', '1757', '1756', '', '1781', '1764', '', '1745', '1774', '1773', '1776', '1775', '1745', '', '', '', '1755', '1767', '1774', '', '1763', '1754', '1754', '', '1785', '', '1780', '1784', '1784', '1754', '1763', '1762', '1768', '', '1754', '1768', '1750', '1769', '', '', '', '', '1785', '1784', '1770', '1786', '1780', '', '1787', '1762', '1758', '1779', '', '1772', '', '1764', '', '1780', '1782', '1772', '1780', '', '1786', '1780', '1769', '1780', '1784', '1781', '1768', '1782', '1765', '1773', '1763', '', '1763', '1755', '', '1787', '1755', '1775', '1781', '1783', '1764', '1770', '1754', '1754', '1766', '1770', '1785', '1762', '1766', '1765', '1779', '', '', '1770', '1772', '', '1782', '', '1770', '1766', '1772', '1765', '1784', '1773', '1773', '1766', '1784', '1787', '1768', '1779', '1770', '1761', '1779', '1768', '1778', '1773', '1767', '1767', '1768', '1788', '1775', '1760', '1780', '', '1778', '1768', '', '1780', '1776', '', '', '1778', '1777', '1777', '', '1775', '1764', '1781', '1764', '', '1788', '1786', '', '1753', '', '1766', '1766', '1779', '', '1784', '1780', '1785', '', '1762', '1777', '1755', '1783', '1780', '1786', '1788', '1778', '1784', '1756', '1762', '1773', '1778', '1773', '1765', '', '1772', '', '1787', '1778', '1783', '1770', '1780', '', '1779', '1772', '1752', '1754', '', '1757', '1755', '', '1754', '1767', '1763', '1776', '1784', '1785', '1774', '1776', '1756', '', '1785', '1779', '1782', '1775', '1778', '1784', '1762', '', '', '1787', '1767', '1782', '', '1757', '', '1769', '', '1760', '1774', '1770', '1755', '1781', '1789', '', '1779', '', '', '1776', '1790', '1747', '1768', '', '', '', '1765', '', '', '1759', '1786', '', '1780', '1783', '', '1768', '1769', '1776', '', '1780', '1777', '1775', '1783', '1788', '1775', '1785', '', '1760', '1786', '', '1786', '', '1766', '1779', '1773', '1781', '1780', '1769', '1789', '1821', '1791', '1778', '1782', '1764', '1790', '', '1753', '1768', '', '1782', '1776', '1779', '1776', '1788', '1772', '1781', '1793', '', '1772', '1758', '1770', '1782', '1780', '1776', '1769', '', '1774', '', '', '1768', '1791', '', '1773', '', '', '1766', '1764', '', '1789', '', '1790', '1789', '1767', '1771', '1769', '1792', '', '1784', '1771', '1774', '1774', '1784', '1753', '1788', '1770', '1776', '1779', '1777', '', '1752', '1776', '1786', '', '1772', '1753', '1776', '1781', '1771', '1772', '', '1790', '', '1792', '1762', '1788', '1786', '1761', '1790', '1785', '', '1769', '', '1787', '1785', '1786', '1765', '1778', '1790', '1784', '1781', '', '', '1766', '1768', '1789', '1788', '1773', '1788', '1765', '1785', '1766', '1775', '1775', '', '1772', '1769', '', '1768', '', '1771', '1764', '1789', '', '', '1771', '1767', '1765', '1789', '', '1788', '', '1777', '1762', '1785', '', '1764', '1782', '1785', '', '1789', '', '1793', '1775', '1773', '1751', '1770', '1777', '', '', '1774', '', '', '1780', '1777', '1766', '', '1780', '', '1773', '', '1776', '1781', '1778', '1772', '1778', '1785', '1783', '1783', '1782', '1782', '1789', '1783', '1790', '', '', '1786', '1778', '1782', '1785', '1788', '1780', '', '1766', '1785', '1765', '1789', '1782', '1775', '1794', '1768', '1791', '', '1793', '1788', '1785', '', '1787', '1790', '1792', '', '1776', '1774', '1773', '1787', '1789', '1782', '1772', '1788', '1779', '1757', '1789', '1778', '1798', '', '', '1773', '', '1774', '', '1779', '1762', '1779', '1785', '1781', '', '1790', '1773', '1757', '1785', '1786', '', '1763', '1779', '1788', '', '1776', '1772', '1776', '', '1773', '1782', '1792', '1780', '1790', '1780', '1764', '1777', '', '1777', '1772', '', '1772', '1797', '1779', '1791', '1785', '1786', '1764', '1793', '', '1797', '1792', '1784', '1786', '1798', '1789', '1763', '1779', '1785', '1792', '', '1793', '', '1788', '1790', '1790', '1788', '1769', '1783', '1787', '1784', '1779', '1780', '', '', '1786', '1776', '1797', '', '1775', '1794', '1775', '1788', '1775', '1764', '1785', '1786', '1792', '1788', '', '1786', '1794', '1777', '1780', '', '1781', '', '1795', '1785', '1778', '1783', '1786', '1796', '1788', '1779', '1783', '1779', '1783', '', '1778', '1786', '', '1752', '', '', '1785', '', '1780', '1758', '1796', '1825', '1764', '1792', '', '', '1779', '1773', '1784', '1769', '', '1794', '1783', '1790', '1770', '1788', '', '1767', '', '1780', '', '1783', '1783', '1793', '', '1770', '1776', '1792', '1797', '1793', '', '1779', '1800', '1798', '', '1774', '1772', '1789', '1791', '1770', '1767', '', '1780', '1789', '1788', '1789', '', '1783', '1788', '1793', '1787', '1781', '', '1776', '1788', '1788', '1780', '1781', '1791', '1770', '1780', '', '1773', '1779', '1785', '', '1791', '1791', '1784', '1794', '1786', '1764', '1794', '1787', '1789', '1792', '1786', '1791', '', '', '1774', '', '', '1770', '1789', '1787', '1778', '1786', '1774', '1790', '1784', '1762', '1783', '1773', '', '1765', '1796', '1793', '1791', '1793', '1787', '', '', '1774', '1771', '', '1780', '', '1778', '1771', '1786', '1777', '1773', '', '1792', '', '1757', '1792', '1794', '1777', '1792', '1790', '1782', '', '1790', '1784', '1789', '', '1785', '1788', '1782', '1770', '1792', '', '1774', '1798', '1788', '1772', '1790', '1787', '1772', '1778', '1787', '1787', '1768', '1786', '1778', '1792', '1786', '1792', '1783', '1780', '1773', '1794', '1776', '1777', '1770', '1799', '1783', '1780', '1788', '1780', '1775', '1787', '1786', '1782', '1789', '1790', '1787', '1792', '1783', '', '1769', '1787', '1796', '1789', '1779', '', '1791', '1795', '1784', '1794', '1788', '1783', '', '1798', '1797', '', '1784', '1786', '1790', '', '', '1787', '1781', '', '', '1769', '', '1768', '1801', '', '1777', '', '1779', '1791', '1793', '1794', '1773', '1789', '', '', '1783', '1788', '', '1784', '1781', '1780', '1786', '1786', '', '1781', '1783', '1793', '1792', '1786', '', '1778', '1797', '1781', '1780', '1788', '1776', '1784', '1796', '1780', '', '1790', '', '', '', '', '1770', '', '1807', '1798', '1798', '1783', '', '1786', '', '1794', '1779', '', '1786', '1783', '1794', '1791', '1782', '1780', '', '', '', '1790', '1787', '1775', '', '1782', '1787', '1780', '1777', '1792', '', '1796', '', '1795', '1779', '1790', '1791', '1796', '1788', '1795', '1787', '1804', '1780', '1800', '1794', '1780', '1784', '1787', '', '1777', '', '', '1796', '', '1776', '', '1790', '1797', '1791', '', '1806', '1785', '1773', '1761', '', '1789', '', '', '1770', '1784', '1790', '1781', '', '1763', '1780', '1776', '1776', '1793', '1776', '1799', '1789', '1800', '1783', '1781', '1786', '1795', '1789', '', '1773', '1793', '1785', '1782', '1790', '1784', '1793', '1795', '1796', '1786', '1792', '', '1786', '1799', '1771', '1777', '1774', '1782', '1779', '1782', '1793', '1794', '', '1792', '1798', '1776', '1795', '1777', '', '1779', '1787', '1792', '1800', '1779', '1788', '1793', '1797', '1784', '1780', '', '1804', '1793', '1791', '1790', '1778', '', '1784', '1777', '1786', '1783', '1792', '1781', '1780', '1787', '1784', '1793', '1799', '', '1780', '1778', '1783', '1798', '1798', '1783', '1778', '', '1780', '1789', '1789', '1780', '1793', '1789', '1799', '1789', '1786', '1795', '', '', '', '1805', '1779', '1776', '1794', '', '1789', '1800', '1783', '1803', '1794', '1785', '1766', '1794', '1789', '1798', '1790', '1786', '1775', '1799', '1782', '1801', '', '1796', '1796', '1796', '1792', '1806', '1780', '1783', '1794', '1783', '1791', '1789', '', '1787', '1773', '1781', '1775', '1772', '', '1787', '1783', '1788', '1796', '1782', '1789', '1777', '1803', '1786', '1781', '1791', '1781', '', '1780', '1802', '1790', '1780', '', '1786', '1800', '1780', '1790', '1799', '1802', '1809', '1789', '1804', '1797', '1805', '1783', '1785', '1795', '1783', '1794', '1781', '1789', '1791', '1788', '1802', '1796', '1808', '1790', '1782', '1804', '1782', '1801', '1786', '1776', '', '1800', '1800', '1784', '1801', '1779', '1792', '1791', '', '', '1793', '', '', '1786', '1796', '1797', '1796', '1784', '1797', '1798', '1783', '1800', '1799', '1801', '', '1775', '1780', '1809', '1795', '1798', '1801', '1787', '1804', '1782', '1806', '1788', '1789', '1798', '1786', '1785', '1807', '1789', '1797', '1784', '1801', '\"', '1782', '1808', '1794', '1794', '1801', '1787', '1787', '1796', '1796', '', '1783', '1790', '1778', '', '1806', '1794', '1783', '1799', '1800', '1781', '', '1791', '1795', '1791', '1789', '', '', '1800', '1773', '1783', '1798', '', '1798', '1793', '1802', '1801', '', '1797', '1808', '1801', '1802', '', '', '1789', '1796', '1792', '1786', '', '1797', '1793', '1791', '1792', '1808', '1791', '1793', '1793', '1804', '', '1804', '1807', '1801', '1797', '', '1788', '1798', '', '1788', '1774', '1786', '', '1787', '1774', '1794', '1789', '1784', '1794', '1791', '', '', '1789', '1803', '1777', '1791', '1803', '1800', '1797', '1790', '1797', '1797', '1800', '1810', '1793', '1799', '1805', '1797', '1797', '1791', '1793', '1788', '1786', '', '1790', '1792', '1797', '', '1793', '1781', '1803', '', '', '1792', '1778', '1806', '1799', '1789', '1786', '1806', '1807', '1807', '', '', '1788', '1792', '1784', '1810', '1795', '1781', '1782', '1792', '', '1787', '', '1798', '1806', '1808', '1793', '1789', '1787', '1795', '1802', '', '1795', '1773', '', '1798', '1799', '1791', '1792', '1795', '1783', '', '1788', '1794', '1804', '1798', '1773', '1790', '1799', '1804', '1803', '1801', '1779', '1789', '1798', '1798', '1805', '1784', '1801', '', '1779', '1796', '1791', '1782', '1783', '1801', '1794', '1801', '1800', '1801', '1796', '1801', '1800', '1803', '1790', '1791', '1806', '1801', '1796', '', '1800', '', '1796', '', '1788', '1799', '1793', '1794', '', '1803', '1793', '1802', '1798', '1800', '1801', '1792', '1799', '1809', '', '1804', '1807', '1797', '1779', '', '', '1804', '1802', '1790', '1795', '', '1800', '1796', '1798', '1792', '1779', '', '', '1795', '1794', '1805', '', '1798', '1794', '', '1804', '1801', '1796', '', '1788', '1799', '1806', '1806', '1805', '1780', '', '1782', '1802', '1801', '1807', '1811', '', '1801', '1815', '1793', '1800', '1777', '1804', '', '1789', '1806', '1794', '1808', '1799', '', '1806', '1781', '1800', '1797', '1808', '1798', '1771', '1783', '1803', '', '1792', '1798', '1798', '1790', '1793', '1805', '1801', '', '1775', '1807', '1780', '1803', '1789', '1803', '1798', '1788', '1783', '1789', '1793', '1795', '1795', '1786', '', '1783', '1803', '1779', '', '1786', '', '1788', '1786', '1793', '', '1796', '1796', '1807', '1809', '1796', '', '', '1796', '', '1799', '1810', '1782', '1799', '1810', '1801', '1799', '1790', '1797', '1813', '1811', '1789', '', '', '1792', '1810', '1782', '1789', '1780', '1789', '1801', '1784', '1802', '1768', '1790', '1799', '1799', '1803', '1809', '', '', '1800', '1797', '1790', '1805', '1804', '1806', '', '1797', '1790', '1800', '1807', '1787', '1795', '1785', '1809', '1798', '', '1802', '1803', '1805', '1808', '', '1801', '1804', '1787', '1804', '1790', '1799', '1800', '1798', '1792', '', '1795', '1788', '1808', '', '', '1793', '1787', '1797', '1794', '1795', '1802', '1802', '1786', '', '1808', '1799', '1807', '1810', '1783', '1801', '1793', '1801', '1779', '1809', '1800', '', '1795', '1793', '1798', '1791', '1795', '1797', '', '1812', '1809', '1800', '1800', '1805', '', '', '1809', '1802', '1787', '1789', '1805', '1811', '1790', '1796', '1796', '1808', '1790', '1805', '1803', '1801', '1803', '1800', '1786', '1796', '1791', '1798', '1801', '1801', '1807', '', '', '1810', '1810', '1804', '1795', '1808', '1813', '1792', '1804', '1802', '1798', '', '1809', '1790', '1802', '1779', '1805', '1806', '1795', '1800', '1800', '1791', '1783', '1795', '1800', '1792', '1811', '1810', '1793', '1810', '1812', '1804', '1803', '1800', '1806', '1794', '', '1803', '1799', '1800', '1809', '1802', '1805', '1808', '1789', '1797', '1803', '1804', '1805', '', '1799', '1798', '1807', '1790', '1799', '1798', '1814', '1794', '1812', '1790', '1801', '1809', '1796', '1797', '1806', '1807', '1802', '1793', '1792', '1811', '1813', '1800', '1791', '1810', '1795', '1806', '1790', '1799', '1788', '1806', '1785', '1788', '1810', '', '', '1801', '1808', '1802', '1811', '1805', '1804', '1809', '1802', '', '1800', '1797', '1793', '1795', '1798', '1796', '1804', '1803', '1801', '', '1807', '1805', '1807', '1807', '1808', '1809', '', '1791', '1807', '1779', '1784', '1791', '1786', '1805', '1797', '1807', '1805', '1799', '1795', '1783', '1802', '1791', '1789', '1802', '1788', '1797', '1802', '1804', '1801', '1807', '1797', '1797', '1786', '1782', '1802', '1803', '1800', '1804', '1807', '1781', '1814', '', '1801', '1800', '1791', '1786', '1767', '1790', '1792', '1793', '1806', '1807', '1812', '1790', '1781', '1814', '', '1805', '1787', '1802', '1802', '', '1797', '1797', '1806', '1782', '1808', '1798', '1817', '1805', '1801', '1809', '1789', '1815', '1818', '1791', '1812', '', '1801', '1787', '1794', '1820', '', '1797', '1806', '1800', '1802', '', '1810', '1801', '1808', '1809', '1804', '1794', '1811', '1804', '1792', '', '1800', '1795', '1792', '1807', '1811', '1800', '1783', '1810', '1808', '1814', '1818', '1808', '1810', '1802', '1807', '1804', '1799', '1795', '1811', '1782', '1786', '1800', '', '1802', '1802', '1806', '1802', '1812', '1801', '1788', '1802', '1810', '1800', '1792', '1786', '1807', '1804', '', '1800', '1811', '1810', '1812', '1796', '1802', '1793', '1789', '1810', '1805', '1793', '1803', '1809', '1803', '1813', '1798', '1803', '1804', '1808', '', '1785', '1808', '1794', '1791', '1793', '1792', '1812', '1809', '1805', '', '1815', '1814', '1791', '1790', '1796', '1808', '1798', '1808', '1812', '1796', '1812', '1786', '1780', '1811', '1815', '1800', '1801', '1800', '1807', '1808', '1804', '1807', '1795', '1818', '1796', '1805', '1791', '1817', '1804', '1788', '1818', '1805', '1813', '1788', '1798', '1806', '1814', '1811', '1814', '1790', '1777', '1814', '1819', '1816', '1804', '1810', '1801', '', '1798', '1787', '1808', '1797', '1805', '1798', '1804', '1813', '1820', '1793', '1813', '', '1790', '1794', '1799', '1788', '', '', '1803', '1805', '1803', '1809', '1794', '1788', '1808', '1812', '1796', '1814', '', '1817', '1794', '1818', '1813', '1809', '1801', '1791', '1788', '1800', '', '1811', '1808', '1804', '1795', '1801', '1795', '1817', '1790', '1806', '1795', '1814', '1819', '1802', '1804', '1809', '1794', '1799', '1784', '1799', '1804', '1799', '1822', '1801', '1816', '1810', '1802', '1788', '', '1804', '1793', '1807', '1813', '1787', '1807', '1804', '1810', '1805', '1815', '1792', '1807', '1791', '1801', '1809', '1801', '1800', '1808', '1810', '1806', '1813', '1814', '1816', '1795', '1792', '1807', '1792', '1800', '1802', '1783', '1808', '1795', '1798', '1796', '1797', '1810', '1816', '1811', '1801', '1799', '1789', '1813', '1804', '1800', '1809', '1800', '1797', '1814', '1815', '1800', '1811', '1808', '1808', '1786', '1808', '1817', '1807', '1822', '1799', '1806', '1811', '1810', '1801', '1805', '1802', '1794', '1816', '1801', '1808', '', '1812', '1782', '1799', '1800', '1799', '1804', '1805', '1803', '1802', '1803', '1810', '1811', '1797', '1782', '1799', '1793', '1818', '1793', '1808', '1808', '1806', '1791', '', '1811', '1809', '1790', '1812', '1800', '1816', '1820', '1812', '1786', '1809', '1800', '', '1800', '1811', '1791', '1809', '', '', '1808', '1806', '1796', '1805', '1799', '1811', '', '1809', '1807', '', '1817', '1791', '1796', '1821', '1794', '1819', '', '1803', '1804', '1811', '1817', '', '1799', '1814', '1799', '1812', '1795', '1806', '1805', '1804', '1799', '1804', '1793', '1815', '1816', '1805', '1809', '1799', '1813', '1806', '1803', '', '1803', '1811', '1791', '', '1811', '1811', '1803', '1811', '1813', '1812', '1810', '1796', '1795', '', '1811', '1804', '1808', '1798', '1806', '1815', '1810', '1799', '1801', '1801', '', '1808', '1816', '1805', '1817', '1824', '1819', '1803', '1798', '1806', '1807', '1813', '1809', '1807', '1792', '1802', '1800', '1792', '1812', '1804', '', '1785', '1806', '1814', '1804', '1812', '1821', '1813', '1796', '1782', '1811', '1815', '1800', '1805', '', '1799', '1805', '1792', '1771', '', '1813', '1818', '1826', '', '1796', '1817', '1790', '1804', '1810', '', '1804', '1806', '1819', '1806', '1803', '1803', '1815', '', '1817', '1812', '1810', '1813', '1809', '', '1786', '1794', '1785', '1822', '1817', '1820', '1809', '1816', '1804', '1816', '', '1815', '1818', '1807', '', '1816', '1824', '1813', '1807', '1793', '1808', '1822', '1805', '1819', '1808', '1800', '1804', '1813', '1811', '1805', '1804', '1824', '1803', '1821', '1815', '1812', '1822', '1815', '1799', '1814', '1816', '1806', '1800', '1783', '1809', '1823', '1803', '1802', '1802', '1805', '1816', '1809', '1787', '1819', '1807', '1793', '1807', '1802', '1816', '1794', '1801', '1807', '1816', '1807', '1804', '1802', '1803', '1806', '1797', '1803', '1804', '1814', '1814', '1812', '1803', '1813', '', '1823', '1810', '1816', '1808', '1805', '1799', '1810', '1797', '1810', '1823', '1802', '1803', '1821', '1805', '1805', '1810', '1802', '1821', '1796', '1817', '1794', '1807', '1813', '1805', '1806', '1828', '1816', '1812', '1822', '1811', '1811', '', '1810', '1804', '1812', '1807', '1804', '1811', '1816', '1809', '1808', '1796', '1805', '1820', '1821', '1818', '1815', '1815', '1812', '1799', '1829', '1820', '1819', '1798', '1817', '1807', '1812', '1805', '1817', '1812', '1810', '1802', '1811', '1809', '1820', '1808', '1811', '1815', '1814', '1809', '1804', '1810', '1825', '1789', '1825', '1809', '', '', '1798', '1814', '1807', '1814', '1820', '1787', '1815', '1807', '1808', '1822', '1812', '1811', '1808', '1820', '1808', '1805', '1810', '1812', '1785', '1804', '1817', '1815', '1819', '1805', '1812', '1826', '1818', '1824', '1810', '1817', '1807', '1822', '1801', '1812', '1819', '1816', '1793', '1816', '1804', '1818', '1801', '1791', '', '1815', '1812', '1808', '1809', '1816', '1804', '1810', '1803', '1809', '1806', '1824', '', '1802', '1810', '1818', '1808', '1803', '1823', '1818', '1807', '1807', '1804', '1812', '1810', '1814', '1813', '1791', '1804', '1813', '1796', '1806', '1786', '1808', '1818', '1827', '1813', '1808', '1810', '1812', '1820', '1819', '1821', '1800', '1820', '1821', '1811', '1804', '1813', '1822', '1817', '1818', '1817', '1809', '1808', '1794', '1821', '1818', '1821', '1805', '1818', '1812', '1814', '1820', '1828', '1814', '1809', '1807', '1795', '1792', '1824', '1824', '1789', '1817', '1811', '1806', '1815', '1805', '', '1812', '1807', '1802', '1816', '1808', '1808', '1810', '1804', '1823', '1808', '1815', '1806', '1811', '1819', '1813', '1822', '1810', '1806', '1828', '1809', '1816', '1813', '1814', '1813', '1813', '1813', '1806', '', '1812', '1798', '1802', '1805', '1824', '1819', '1805', '1806', '1816', '1815', '1804', '1807', '1824', '1794', '1822', '1805', '1826', '1811', '1818', '1811', '', '1809', '1798', '1802', '1811', '1808', '1812', '1808', '1803', '1812', '1817', '1815', '1805', '1813', '1819', '', '1823', '1795', '1802', '1822', '1808', '1820', '1809', '1800', '1819', '1808', '1802', '1818', '1818', '1816', '1813', '1818', '1813', '1812', '1815', '1812', '1788', '1816', '1805', '1812', '1815', '1808', '1826', '1819', '1819', '1821', '', '1825', '1824', '1811', '1808', '1815', '1813', '1815', '1824', '1818', '1817', '1810', '1820', '1815', '1805', '1804', '1813', '1826', '1820', '1810', '1790', '1792', '1805', '1817', '1815', '1816', '1820', '1820', '1807', '1817', '1815', '1813', '1808', '1818', '1811', '1820', '1825', '1805', '1810', '1813', '1794', '1815', '1813', '1814', '1822', '1813', '1819', '1812', '1799', '1810', '1821', '1821', '1805', '1798', '1812', '1806', '1816', '1815', '1817', '1821', '1826', '1815', '', '1817', '1803', '1828', '1805', '1817', '1813', '1806', '1809', '1820', '1819', '1830', '1824', '1822', '1824', '1820', '1804', '1822', '1815', '1801', '1820', '1822', '1812', '1805', '1820', '1818', '1812', '1829', '', '1827', '1804', '1815', '1822', '1808', '1822', '1818', '1829', '1817', '1812', '1807', '1808', '1829', '1818', '1828', '1796', '1811', '1820', '1804', '1815', '1812', '1828', '1823', '1816', '1819', '1809', '1806', '1819', '1820', '', '1793', '1827', '', '1822', '1816', '1797', '1812', '1815', '1793', '1802', '1822', '1809', '1818', '1808', '1810', '1828', '1817', '1805', '1814', '1819', '1812', '1808', '1810', '1810', '1816', '1802', '1813', '1814', '1819', '1816', '1825', '1810', '1816', '1826', '1815', '1828', '1811', '1827', '1809', '1807', '1808', '1827', '1786', '1795', '1823', '1819', '1799', '1819', '1821', '1818', '1821', '1825', '1811', '1806', '1825', '1819', '1808', '1820', '1817', '1821', '1802', '1808', '1809', '1802', '1832', '1813', '1791', '1816', '1827', '1823', '1794', '1815', '1819', '1806', '1787', '1805', '1812', '1815', '1822', '1820', '1817', '1809', '1813', '1814', '1818', '1795', '1815', '1815', '1826', '1817', '1816', '1806', '1818', '1816', '1825', '1813', '1817', '1825', '1802', '1824', '1810', '1802', '1812', '1823', '1817', '1814', '1828', '1811', '1813', '1821', '1821', '1828', '1816', '1812', '1817', '1821', '1820', '1830', '1819', '1815', '1807', '1803', '1815', '1812', '1820', '1821', '1809', '1808', '1805', '1814', '1824', '1824', '1817', '1809', '1821', '1816', '1811', '1815', '1801', '', '1820', '1809', '1809', '1820', '1817', '1818', '1813', '1817', '1813', '1812', '1820', '1817', '1811', '1799', '1800', '1819', '1812', '1816', '1803', '1788', '1814', '1805', '1804', '1821', '1803', '1823', '1826', '1798', '', '1810', '1822', '1829', '1824', '1815', '1810', '1817', '1826', '1821', '1813', '1815', '1826', '1824', '1800', '1810', '1808', '1826', '1821', '1794', '1818', '', '1817', '1814', '1815', '1818', '1802', '1826', '1818', '1810', '1815', '1825', '1821', '1819', '1812', '1818', '1826', '1796', '', '1804', '1802', '1816', '1828', '1815', '1796', '1804', '1818', '1816', '1811', '1815', '1809', '1813', '1832', '1825', '1800', '1829', '1811', '1819', '1812', '1824', '1829', '1820', '1816', '1812', '1822', '1818', '1830', '1816', '1825', '1811', '1812', '1819', '1804', '1827', '1818', '1811', '1814', '1820', '1807', '1818', '1814', '1814', '1807', '1821', '1808', '1800', '1820', '1811', '1820', '1826', '1822', '1828', '1828', '1794', '1829', '1812', '', '1817', '1824', '1816', '1806', '1806', '1819', '1817', '1828', '1807', '1821', '1828', '1830', '1817', '1810', '1813', '1812', '1815', '1822', '1805', '1814', '1818', '1806', '1824', '1804', '1796', '1816', '1821', '1792', '1805', '1805', '1824', '1810', '1827', '1805', '1815', '1805', '1806', '1804', '1815', '1824', '1811', '1807', '1818', '1830', '1809', '1831', '1815', '1814', '1832', '1821', '1826', '1820', '1819', '1826', '1826', '1812', '1817', '1829', '1814', '1812', '1820', '1818', '1816', '1810', '1828', '1818', '1820', '1807', '1822', '1826', '1818', '1830', '1825', '1819', '1821', '1819', '1835', '1814', '1815', '1828', '1829', '1815', '1821', '1811', '1823', '1822', '1812', '1815', '1816', '1813', '1820', '1818', '1826', '1832', '1828', '1824', '1809', '1827', '1816', '1799', '1820', '1796', '1823', '1823', '1816', '1812', '1820', '1828', '1814', '1826', '1812', '1830', '1822', '1823', '1827', '1823', '1801', '1809', '1818', '1831', '1831', '1811', '1813', '1811', '1816', '1808', '1823', '1804', '1814', '1825', '1819', '1810', '1820', '1828', '1822', '1819', '1821', '1807', '1820', '', '1813', '1833', '1802', '1836', '1810', '1819', '1814', '1818', '1809', '1819', '1810', '1812', '1830', '1813', '1819', '1831', '1822', '1831', '1809', '1818', '1813', '1833', '1809', '1806', '1807', '1830', '1827', '1839', '1819', '1815', '1823', '1819', '1827', '1833', '1823', '1816', '1829', '1811', '1803', '1816', '1824', '1811', '1829', '1823', '1812', '1803', '1803', '1798', '1792', '1824', '1833', '1821', '1820', '1799', '1812', '1821', '1813', '1821', '1823', '1824', '1832', '1806', '1821', '1818', '1825', '1825', '1832', '1833', '1826', '1828', '1822', '1801', '1826', '1821', '1824', '1833', '1822', '1815', '1819', '1829', '1817', '1814', '1817', '1811', '1814', '1816', '1821', '1823', '1832', '1828', '1815', '1805', '1832', '1804', '1829', '1827', '1828', '1820', '1823', '1833', '1821', '1831', '1829', '1837', '1823', '1830', '1808', '1823', '1818', '1809', '1835', '1829', '1828', '1812', '1830', '1838', '1824', '1838', '1835', '1820', '1819', '1814', '1806', '1838', '1835', '1812', '1806', '1832', '1819', '1822', '1831', '1822', '1838', '1817', '1840', '1820', '1818', '1823', '1815', '1816', '1827', '1829', '1815', '1831', '1818', '1829', '1822', '1815', '1817', '1812', '1797', '1823', '1810', '1836', '1830', '1814', '1810', '1827', '1831', '1812', '1810', '1821', '1816', '1831', '1821', '1837', '1825', '1826', '1817', '1807', '1825', '1813', '1837', '1834', '1815', '1826', '1832', '1823', '1821', '1841', '1826', '1809', '1829', '1824', '1823', '1831', '1835', '1824', '1823', '1824', '1831', '1830', '1819', '1822', '1826', '1814', '1820', '1818', '1823', '1811', '1832', '1833', '1813', '1810', '1816', '1817', '1825', '1826', '1829', '1818', '1816', '1819', '1824', '1824', '1819', '1833', '1818', '1839', '1833', '1809', '1835', '1805', '1809', '1816', '1807', '1818', '1827', '1827', '1816', '1829', '1804', '1828', '1833', '1824', '1832', '1821', '1815', '1829', '1818', '1821', '1825', '1839', '1837', '1823', '1824', '1835', '1836', '1830', '1821', '1811', '1823', '1838', '1831', '1833', '1835', '1842', '1819', '1827', '1821', '1830', '1839', '1820', '1842', '1823', '1840', '1813', '1834', '1822', '1805', '1824', '1820', '1837', '1821', '1808', '1817', '1815', '1822', '1830', '1821', '1809', '1830', '1814', '1816', '1831', '1827', '1812', '1834', '1833', '1819', '1827', '1834', '1826', '1812', '1831', '1813', '1842', '1819', '1812', '1832', '1824', '1825', '1822', '1820', '1837', '1842', '1824', '1813', '1826', '1827', '1835', '1818', '1818', '1827', '1833', '1814', '1817', '1820', '1831', '1813', '1825', '1827', '1808', '1836', '1815', '1822', '1833', '1835', '1829', '1820', '1831', '1831', '1823', '1813', '1825', '1829', '1810', '1817', '1813', '1831', '1814', '1823', '1822', '1837', '1831', '1813', '1832', '1812', '1827', '1828', '1825', '1827', '1826', '1825', '1811', '1811', '1823', '1810', '1831', '1811', '1836', '1813', '1822', '1815', '1812', '1811', '1836', '1820', '1810', '1837', '1816', '1830', '1827', '1832', '1825', '1825', '1809', '1829', '', '1815', '1833', '1839', '1813', '1818', '1809', '1837', '1810', '1799', '1836', '1821', '1834', '1828', '1809', '1825', '1837', '1842', '1833', '1825', '1820', '1840', '1818', '1826', '1801', '1810', '1827', '1827', '1824', '1811', '1833', '1835', '1837', '1822', '1834', '1842', '1824', '1820', '1842', '1823', '1828', '1822', '1819', '1820', '1820', '1826', '1838', '1818', '1822', '1829', '1837', '1831', '1829', '1814', '1835', '1816', '1822', '1808', '1828', '1840', '1816', '1838', '1843', '1817', '1822', '1828', '', '1811', '1821', '1820', '1816', '1815', '1818', '1823', '1827', '1823', '1845', '1827', '1821', '1826', '1814', '1816', '1822', '1815', '1819', '1837', '1836', '1837', '1831', '1824', '1830', '1817', '1822', '1823', '1827', '1820', '1822', '1814', '1833', '1824', '1832', '1832', '1833', '1838', '1826', '1830', '1835', '1822', '1799', '1837', '1834', '1837', '1829', '1812', '1817', '1809', '1810', '1827', '1830', '1823', '1826', '1827', '1836', '1810', '1817', '1825', '', '1837', '1826', '1839', '1828', '1840', '1819', '1845', '1826', '1817', '1842', '1837', '1826', '1847', '1824', '1828', '1833', '1838', '1836', '1827', '1818', '1832', '1831', '1816', '1824', '1837', '1815', '1827', '1818', '1817', '1819', '1826', '1831', '1829', '1812', '1816', '1825', '1830', '1813', '1827', '1818', '1821', '1829', '1828', '1826', '1824', '1835', '1823', '1836', '1833', '1835', '1820', '1814', '1824', '1831', '1830', '1812', '1819', '1836', '1829', '1831', '1825', '1835', '1831', '1835', '1840', '1841', '1817', '1836', '1822', '1824', '1837', '1826', '1814', '1810', '1833', '1828', '1825', '1828', '1798', '1812', '1846', '1823', '1834', '1835', '1828', '1814', '1838', '1828', '1825', '1812', '1806', '1805', '1816', '1817', '1826', '1836', '1809', '1809', '1846', '1813', '1823', '1834', '1812', '1836', '1824', '1821', '1815', '1840', '1836', '1808', '1819', '1837', '1816', '1827', '1820', '1824', '1827', '1828', '1826', '1825', '1842', '1819', '1828', '1803', '1827', '1820', '1839', '1832', '1835', '1819', '1821', '1836', '1805', '1827', '1827', '1840', '1844', '1844', '1820', '1836', '1828', '1824', '1842', '1825', '1826', '1828', '1834', '1818', '1828', '1838', '1840', '1826', '1836', '', '1828', '1830', '1841', '1826', '1824', '1821', '1829', '1835', '1843', '1826', '1842', '1828', '1840', '1838', '1823', '1824', '1810', '1827', '1813', '1813', '1840', '1839', '1819', '1824', '1810', '1818', '1827', '1824', '1842', '1816', '1834', '1840', '1840', '1819', '1817', '1826', '1824', '1808', '1826', '1830', '1821', '1834', '1837', '1818', '1830', '1825', '1805', '1822', '1812', '1803', '1826', '1822', '1827', '1836', '1836', '1827', '1828', '1831', '1813', '1802', '1816', '1823', '1825', '1836', '1818', '1825', '1832', '1837', '1833', '1825', '1841', '1842', '1828', '1832', '1831', '1827', '1815', '1823', '1824', '1819', '1822', '1824', '1818', '1827', '1824', '1825', '1820', '1827', '1803', '1828', '', '1832', '1825', '1830', '1828', '1836', '1827', '1822', '1823', '1834', '1827', '1825', '1841', '1829', '1837', '1819', '1832', '1825', '1823', '1825', '1825', '1837', '1827', '1818', '1832', '1836', '1843', '1815', '1813', '1831', '1813', '1825', '1845', '1823', '1831', '1817', '1819', '1824', '1826', '1822', '1833', '1799', '1808', '1824', '1836', '1825', '1837', '1827', '1836', '1832', '1825', '1831', '1835', '1834', '1828', '1842', '1832', '1824', '1835', '1831', '1817', '1831', '1827', '1834', '1836', '1840', '1832', '1829', '1829', '1809', '1829', '1837', '1833', '1810', '1825', '1822', '1835', '1834', '1833', '1828', '1831', '1835', '1827', '1839', '1810', '1828', '1825', '1829', '1836', '1840', '1826', '1834', '1850', '1834', '1838', '1832', '1814', '1812', '1835', '1814', '1819', '1823', '1833', '1815', '1831', '1828', '1830', '1831', '1817', '1827', '1824', '1813', '1814', '1818', '1840', '1834', '1837', '1827', '1828', '1829', '1819', '1831', '1831', '1828', '1825', '1836', '1832', '1839', '1842', '1821', '1829', '1829', '1840', '1823', '1826', '1833', '1833', '1830', '1825', '1840', '1829', '1838', '1823', '1833', '1828', '1823', '1832', '1818', '1811', '1827', '1812', '1807', '1834', '1824', '1812', '1837', '1836', '1838', '1817', '1831', '1841', '1828', '1833', '1837', '1833', '1821', '1836', '1830', '1826', '1841', '1838', '1832', '1844', '1836', '1825', '1834', '1834', '1840', '1833', '1814', '1842', '1836', '1845', '1825', '1844', '1824', '1813', '1823', '', '1826', '1830', '1816', '1829', '1825', '1823', '1835', '1838', '1821', '1833', '1842', '1830', '1823', '1834', '1820', '1818', '1808', '1829', '1834', '1831', '1827', '1838', '1820', '1813', '1829', '1831', '1825', '1828', '1834', '1835', '1840', '1827', '1840', '1837', '1826', '1840', '1827', '1829', '1839', '1831', '1845', '1818', '1817', '1814', '1830', '1830', '1836', '1842', '1838', '1832', '1827', '1834', '1841', '1855', '1819', '1827', '1817', '1831', '1834', '1812', '1838', '1833', '1851', '1834', '1817', '1826', '1828', '1827', '1830', '1823', '1850', '1839', '1821', '1832', '1824', '1821', '1825', '1827', '1829', '1840', '1830', '1832', '1836', '1835', '1834', '1828', '1819', '1844', '1830', '1819', '1830', '1818', '1814', '1847', '1830', '1828', '1821', '1842', '1847', '1826', '1837', '1828', '1825', '1835', '1834', '1840', '1815', '1829', '1826', '1831', '1838', '1838', '1830', '1824', '1821', '1838', '1828', '1833', '1824', '1831', '1817', '1831', '1833', '1843', '1822', '1822', '1833', '1836', '1832', '1829', '1841', '1833', '1828', '1829', '1829', '1827', '1830', '1838', '1844', '1839', '1838', '1819', '1838', '1811', '1840', '1824', '1828', '1833', '1848', '1812', '1830', '', '1835', '1822', '1829', '1839', '1819', '1824', '1838', '1837', '1825', '1829', '1830', '1825', '1825', '1820', '1812', '1815', '1832', '1839', '1828', '1834', '1815', '1832', '1829', '1837', '1839', '1835', '1842', '1831', '1831', '1840', '1820', '1844', '1819', '1823', '1816', '1851', '1842', '1836', '1831', '1840', '1847', '1827', '1846', '1839', '1838', '1845', '1835', '1826', '1833', '1840', '1836', '1831', '1822', '1832', '1832', '1836', '1816', '1839', '1840', '1850', '1830', '1844', '1847', '1846', '1831', '1832', '1835', '1849', '1845', '1844', '1824', '1825', '1835', '1830', '1842', '1837', '1828', '1834', '1838', '1835', '1835', '1832', '1830', '1832', '1828', '1836', '1840', '1822', '1826', '1846', '1835', '1822', '1830', '1835', '1825', '1852', '1818', '1834', '1849', '1833', '1846', '1841', '1839', '1843', '1836', '1840', '1831', '1821', '1837', '1841', '1834', '1837', '1825', '1844', '1830', '1829', '1839', '1843', '1819', '1815', '1850', '1854', '1840', '1823', '1820', '1826', '1835', '1844', '1844', '1834', '1827', '1814', '1820', '1819', '1831', '1843', '1817', '1827', '1811', '1833', '1845', '1844', '1827', '1815', '1843', '1824', '1842', '1835', '1837', '1830', '1845', '1829', '1825', '1843', '1827', '1828', '1824', '1835', '1833', '1843', '1849', '1825', '1835', '1831', '1846', '1844', '1835', '1851', '1836', '1828', '1820', '1848', '1828', '1845', '1831', '1825', '1824', '1835', '1828', '1840', '1836', '1843', '1827', '1821', '1836', '1835', '1832', '1836', '1837', '1821', '1838', '1829', '1828', '1837', '1818', '1831', '1822', '1817', '1848', '1841', '1826', '1813', '1833', '1821', '1838', '1834', '1827', '1818', '1821', '1839', '1839', '1846', '1834', '1824', '1842', '1835', '1831', '1831', '1830', '1835', '1831', '1835', '1826', '1833', '1818', '1839', '1828', '1842', '1843', '1822', '1833', '1833', '1833', '1834', '1833', '1830', '1842', '1845', '1838', '1843', '1819', '1837', '1826', '1831', '1848', '1841', '1824', '1840', '1837', '1848', '1841', '1830', '1844', '1824', '1835', '1831', '1826', '1844', '1810', '1835', '1824', '1859', '1824', '1847', '1833', '1821', '1846', '1849', '1826', '1839', '1848', '1831', '1820', '1832', '1814', '1839', '1825', '1820', '1822', '1838', '1835', '1820', '1827', '1840', '1838', '1849', '1825', '1847', '1823', '1826', '1825', '1821', '1811', '1825', '1845', '1853', '1835', '1834', '1843', '1843', '1833', '1830', '1843', '1821', '1826', '1817', '1836', '1828', '1832', '1848', '1837', '1853', '1845', '1851', '1838', '1834', '1829', '1841', '1834', '1842', '1851', '1842', '1849', '1827', '1843', '1844', '1844', '1832', '1841', '1826', '1823', '1816', '1850', '1838', '1834', '1828', '1823', '1843', '1844', '1835', '1846', '1844', '1824', '1852', '1817', '1840', '1845', '1829', '1833', '1820', '1824', '1835', '1834', '1852', '1842', '1843', '1849', '1821', '1825', '1835', '1828', '1840', '1839', '1840', '1832', '1846', '1844', '1842', '1840', '1838', '1840', '1843', '1838', '1837', '1848', '1841', '1847', '1850', '1839', '1841', '1831', '1836', '1848', '1834', '1830', '1830', '1831', '1823', '1839', '1836', '1816', '1848', '1818', '1819', '1823', '1835', '1834', '1816', '1828', '1834', '1841', '1838', '1847', '1840', '1840', '1849', '1851', '1828', '1846', '1838', '1851', '1854', '1853', '1833', '1842', '1823', '1835', '1831', '1841', '1846', '1827', '1838', '1833', '1840', '1839', '1845', '1845', '1834', '1845', '1839', '1816', '1820', '1833', '1836', '1822', '1838', '1823', '1837', '1846', '1852', '1837', '1845', '1844', '1829', '1821', '1827', '1836', '1837', '1829', '1834', '1828', '1835', '1837', '1827', '1842', '1844', '1846', '1852', '1829', '1845', '1824', '1842', '1843', '1846', '1832', '1830', '1824', '1839', '1825', '1836', '1841', '1827', '1832', '1849', '1844', '1837', '1847', '1835', '1842', '1823', '1843', '1849', '1832', '1851', '1833', '1857', '1844', '1852', '1816', '1838', '1832', '1842', '1842', '1844', '1844', '1827', '1847', '1840', '1833', '1825', '1836', '1814', '1848', '1840', '1836', '1851', '1846', '1845', '1840', '1849', '1829', '1838', '1842', '1838', '1845', '1837', '1837', '1811', '1823', '1852', '1853', '1850', '1839', '1840', '1844', '1841', '1833', '1815', '1849', '1843', '1832', '1839', '1841', '1833', '1834', '1843', '1837', '1826', '1840', '1838', '1839', '1846', '1840', '1825', '1839', '1842', '1856', '1839', '1835', '1837', '1838', '1839', '1828', '1826', '1849', '1835', '1844', '1845', '1833', '1844', '1837', '1825', '1832', '1842', '1842', '1844', '1845', '1839', '1833', '1828', '1856', '1843', '1845', '1832', '1842', '1841', '1840', '1861', '1846', '1817', '1817', '1816', '1853', '1855', '1835', '1851', '1823', '1856', '1831', '1819', '1853', '1854', '1825', '1836', '1820', '1846', '1847', '1835', '1828', '1850', '1841', '1845', '1834', '1839', '1839', '1834', '1846', '1850', '1852', '1841', '1831', '1846', '1848', '1833', '1846', '1838', '1841', '1837', '1837', '1848', '1845', '1836', '1835', '1839', '1843', '1828', '1844', '1835', '1833', '1852', '1848', '1853', '1829', '1834', '1833', '1836', '1839', '1848', '1857', '1837', '1858', '1841', '1840', '1846', '1828', '1859', '1844', '1826', '1851', '1838', '1831', '1844', '1839', '1832', '1845', '1835', '1849', '1823', '1851', '1848', '1862', '1842', '1852', '1832', '1827', '1844', '1846', '1843', '1843', '1845', '1829', '1849', '1834', '1860', '1836', '1854', '1846', '1840', '1834', '1829', '1837', '1837', '1850', '1840', '1841', '1843', '1835', '1835', '1844', '1843', '1841', '1824', '1835', '1835', '1849', '1840', '1843', '1838', '1837', '1841', '1817', '1825', '1847', '1837', '1831', '1831', '1820', '1828', '1840', '1846', '1840', '1840', '1851', '1848', '1818', '1852', '1850', '1836', '1821', '1838', '1824', '1849', '1824', '1824', '1836', '1836', '1829', '1837', '', '1823', '1830', '1845', '1826', '1840', '1850', '1830', '1840', '1827', '1830', '1839', '1845', '1844', '1834', '1834', '1842', '1852', '1846', '1834', '1839', '1832', '1843', '1822', '1832', '1841', '1839', '1854', '1840', '1845', '1838', '1855', '1837', '1841', '1841', '1839', '1834', '1851', '1850', '1847', '1845', '1841', '1846', '1837', '1852', '1834', '1856', '1839', '1860', '1817', '1844', '1851', '1846', '1835', '1844', '1852', '1828', '1854', '1840', '1834', '1847', '1844', '1841', '1845', '1830', '1837', '1841', '1830', '1844', '1833', '1851', '1858', '1842', '1826', '1845', '1846', '1859', '1838', '1856', '1857', '1836', '1845', '1819', '1840', '1848', '1842', '1842', '1839', '1847', '1832', '1842', '1848', '1854', '1847', '1838', '1836', '1835', '1854', '1839', '1826', '1854', '1849', '1850', '1831', '1835', '1840', '1841', '1837', '1856', '1847', '1843', '1843', '1846', '1833', '1849', '1841', '1840', '1846', '1824', '1853', '1864', '1856', '1837', '1825', '1860', '1839', '1852', '1832', '1854', '1863', '1846', '1835', '1846', '1842', '1837', '1821', '1862', '1844', '1835', '1844', '1860', '1844', '1847', '1833', '1828', '1851', '1845', '1848', '1845', '1842', '1850', '1842', '1837', '1836', '1837', '1836', '1831', '1840', '1853', '1821', '1846', '1835', '1841', '1843', '1845', '1834', '1846', '1857', '1851', '1852', '1824', '1845', '1845', '1850', '1853', '1840', '1840', '1827', '1854', '1831', '1823', '1819', '1844', '1851', '1848', '1850', '1848', '1836', '1825', '1826', '1828', '1841', '1847', '1845', '1856', '1848', '1852', '1847', '1828', '1849', '1826', '1851', '1842', '1850', '1844', '1847', '1848', '1853', '1850', '1847', '1843', '1831', '1837', '1847', '1849', '1836', '1850', '1840', '1840', '1853', '1853', '1848', '1852', '1853', '1852', '1839', '1863', '1824', '1841', '1846', '1831', '1847', '1853', '1853', '1842', '1841', '1849', '1834', '1852', '1841', '1826', '1846', '1863', '1835', '1835', '1853', '1827', '1843', '1835', '1838', '1832', '1841', '1838', '1849', '1856', '1844', '1848', '1845', '1859', '1849', '1830', '1835', '1825', '1849', '1853', '1848', '1846', '1842', '1856', '1846', '1825', '1842', '1833', '1847', '1851', '1852', '1831', '1863', '1847', '1818', '1824', '1841', '1859', '1837', '1854', '1849', '1852', '1860', '1833', '1844', '1842', '1842', '1841', '1855', '1863', '1832', '1848', '1851', '1835', '1847', '1830', '1839', '1853', '1856', '1841', '1835', '1856', '1850', '1851', '1854', '1859', '1839', '1832', '1844', '1852', '1851', '1857', '1848', '1858', '1856', '1844', '1842', '1841', '1856', '1865', '1852', '1849', '1853', '1838', '1828', '1849', '1837', '1845', '1848', '1835', '1844', '1840', '1833', '1854', '1849', '1847', '1830', '1846', '1852', '1845', '1838', '1865', '1835', '1859', '1836', '1840', '1844', '1829', '1831', '1838', '1843', '1845', '1843', '1847', '1852', '1836', '1850', '1839', '1842', '1846', '1824', '1858', '1831', '1851', '1849', '1830', '1840', '1850', '1848', '1839', '1854', '1844', '1844', '1849', '1843', '1859', '1843', '1851', '1822', '1852', '1858', '1858', '1845', '1845', '1825', '1852', '1860', '1859', '1863', '1837', '1862', '1849', '1845', '1839', '1858', '1852', '1853', '1848', '1828', '1842', '1849', '1861', '1843', '1849', '', '1844', '1855', '1849', '1845', '1852', '1847', '1842', '1844', '1858', '1864', '1866', '1842', '1843', '1850', '1861', '1841', '1861', '1859', '1849', '1844', '1834', '1850', '1822', '1862', '1839', '1831', '1843', '1850', '1839', '1829', '1855', '1853', '1856', '1844', '1846', '1858', '1854', '1850', '1836', '1853', '1864', '1851', '1848', '1825', '1847', '1837', '1854', '1850', '1860', '1845', '1847', '1831', '1838', '1858', '1810', '1833', '1854', '1842', '1858', '1840', '1844', '1858', '1843', '1857', '1863', '1850', '1847', '1864', '1841', '1839', '1858', '1862', '1842', '1855', '1847', '1836', '1843', '1846', '1846', '1845', '1832', '1835', '1850', '1850', '1845', '1850', '1834', '1842', '1830', '1852', '1832', '1829', '1856', '1852', '1848', '1859', '1831', '1844', '1841', '1853', '1851', '1857', '1853', '1846', '1847', '1840', '1854', '1861', '1840', '1848', '1843', '1826', '1836', '1835', '1870', '1832', '1844', '1841', '1857', '1847', '1867', '1843', '1850', '1862', '1858', '1834', '1837', '1858', '1851', '1829', '1834', '1861', '1838', '1865', '1832', '1865', '1865', '1837', '1854', '1850', '1837', '1846', '1838', '1865', '1871', '1849', '1836', '1837', '1825', '1826', '1849', '1840', '1843', '1827', '1854', '1856', '1845', '1861', '1852', '1858', '1856', '1841', '1840', '1870', '1838', '1846', '1853', '1848', '1849', '1856', '1861', '1843', '1863', '1851', '1842', '1852', '1852', '1856', '1835', '1850', '1843', '1848', '1839', '1844', '1858', '1826', '1858', '1848', '1857', '1856', '1829', '1827', '1862', '1850', '1847', '1867', '1848', '1843', '1851', '1850', '1836', '1852', '1861', '1860', '1843', '1860', '1844', '1841', '1854', '1841', '1846', '1851', '1854', '1858', '1841', '1841', '1838', '1839', '1840', '1848', '1843', '1854', '1847', '1852', '1858', '1839', '1868', '1853', '1848', '1851', '1843', '1843', '1841', '1855', '1859', '1853', '1851', '1856', '1841', '1838', '1857', '1875', '1870', '1856', '1861', '1849', '1830', '1847', '1855', '1857', '1823', '1844', '1863', '1856', '1840', '1861', '1826', '', '1844', '1852', '1860', '1862', '1849', '1862', '1864', '1847', '1843', '1846', '1869', '1864', '1847', '1851', '1838', '1851', '1857', '1856', '1836', '1835', '1858', '1854', '1853', '1824', '1853', '1868', '1836', '1859', '1852', '1843', '1843', '1840', '1839', '1866', '1850', '1833', '1844', '1848', '1858', '1856', '1841', '1852', '1846', '1864', '1840', '1841', '1841', '1840', '1852', '1851', '1856', '1866', '1853', '1839', '1851', '1853', '1853', '1844', '1862', '1846', '1852', '1865', '1853', '1863', '1839', '1863', '1842', '1855', '1845', '1860', '1847', '1836', '1839', '1857', '1829', '1844', '1858', '', '1859', '1863', '1872', '1867', '1848', '1839', '1858', '1844', '1850', '1862', '1840', '1846', '1827', '1860', '1846', '1874', '1858', '1838', '1849', '', '1862', '1838', '1843', '1850', '1857', '1853', '1846', '1845', '1852', '1868', '1860', '1846', '1858', '1853', '1837', '1846', '1840', '1853', '1839', '1849', '1848', '1864', '1846', '1847', '1859', '1841', '1846', '1862', '1861', '1848', '1856', '1849', '1851', '1854', '1866', '1860', '1856', '1848', '1856', '1848', '1865', '1838', '1853', '1848', '1854', '1840', '1821', '1848', '1827', '1833', '1840', '1848', '1855', '1843', '1868', '1857', '1861', '1856', '1861', '1865', '1859', '1860', '1848', '1849', '1859', '1853', '1843', '1856', '1830', '1845', '1843', '1860', '1844', '1852', '1854', '1861', '1842', '1838', '1850', '1846', '1856', '1860', '1858', '1850', '1849', '1841', '1872', '1850', '1852', '1862', '1843', '1868', '1842', '1865', '1864', '1860', '1851', '1851', '1837', '1867', '1837', '1849', '1853', '1854', '1855', '1856', '1846', '1842', '1828', '1857', '1838', '1834', '1876', '1842', '1842', '1847', '1861', '1833', '1862', '1856', '1866', '1866', '1851', '1849', '1862', '1860', '1833', '1836', '1863', '1844', '1860', '1843', '1834', '1855', '1853', '1853', '1860', '1852', '1854', '1832', '1864', '1855', '1841', '1872', '1874', '1837', '1850', '1859', '1853', '1840', '', '1857', '1853', '1854', '1863', '1878', '1840', '1839', '1863', '1850', '1851', '1863', '1863', '1861', '1858', '1845', '1831', '1858', '1874', '1852', '1867', '1857', '1853', '1842', '1843', '1860', '1850', '1854', '1850', '1859', '1851', '1852', '1851', '1868', '1847', '1858', '1864', '1862', '1864', '1869', '1861', '1846', '1840', '1875', '1852', '1857', '1875', '1855', '1875', '1846', '1843', '1824', '1855', '1862', '1867', '1839', '1856', '1858', '1863', '1855', '1853', '1860', '1851', '1859', '1863', '1838', '1857', '1876', '1844', '1841', '1848', '1848', '1855', '1873', '1853', '1851', '1851', '1850', '1859', '1853', '1856', '1829', '1840', '1853', '1862', '1870', '1867', '1858', '1852', '1841', '1862', '1849', '1830', '1865', '1860', '1851', '1860', '1852', '1867', '1866', '1861', '1864', '1860', '1865', '1861', '1877', '1836', '1833', '1863', '1842', '1839', '1850', '1843', '1857', '1866', '1847', '1866', '1853', '1858', '1853', '1877', '1852', '1854', '1859', '1851', '1854', '1874', '1852', '1848', '1850', '1842', '1868', '1858', '1859', '1847', '1851', '1869', '1853', '1836', '1852', '1845', '1853', '1854', '1860', '1855', '1839', '1846', '1850', '1850', '1851', '1860', '1848', '1851', '1880', '1860', '1864', '1825', '1846', '1846', '1837', '1844', '1852', '1869', '1859', '1856', '1865', '1847', '1861', '1851', '1859', '1844', '1841', '1869', '1854', '1853', '1861', '1873', '1842', '1862', '1867', '1875', '1877', '1858', '1873', '1873', '1867', '1872', '1844', '1870', '1859', '1852', '1864', '1861', '1850', '1878', '1855', '1853', '1849', '1875', '1858', '1846', '1852', '1864', '1845', '1873', '1850', '1858', '1859', '1853', '1833', '1854', '1844', '1858', '1861', '1864', '1859', '1852', '1860', '1857', '1844', '1843', '1842', '1853', '1841', '1873', '1860', '1850', '1843', '1870', '1836', '1866', '1853', '1847', '1858', '1850', '1847', '1866', '1872', '1855', '1832', '1861', '1835', '1861', '1868', '1864', '1861', '1862', '1837', '1862', '1852', '1852', '1855', '1866', '1842', '1851', '1858', '1870', '1870', '1872', '1853', '1856', '1839', '1869', '1857', '1860', '1839', '1847', '1854', '1849', '1868', '1848', '1863', '1845', '1859', '1860', '1857', '1855', '1863', '1827', '1841', '1829', '1842', '1839', '1855', '1863', '1861', '1866', '1854', '1844', '1862', '1856', '1852', '1857', '1866', '1841', '1842', '1869', '1846', '1860', '1856', '1861', '1846', '1848', '1855', '1871', '1877', '1846', '1841', '1861', '1859', '1841', '1856', '1852', '1844', '1860', '1872', '1878', '1858', '1851', '1851', '1857', '1870', '1851', '1853', '1861', '1845', '1847', '1847', '1870', '1861', '1858', '1841', '1851', '1859', '1867', '1858', '1844', '1857', '1845', '1852', '1868', '1836', '1852', '1865', '1855', '1861', '1854', '1853', '1864', '1836', '1874', '1865', '1849', '1868', '1859', '1868', '1849', '1847', '1874', '1840', '1844', '1859', '1879', '1853', '1837', '1856', '1872', '1852', '1859', '1865', '1857', '1850', '1856', '1852', '1851', '1846', '1868', '1852', '1844', '1860', '1847', '1862', '1870', '1864', '1860', '1852', '1860', '1848', '1847', '1860', '1866', '1868', '1854', '1861', '1857', '1850', '1858', '1865', '1882', '1847', '1861', '1858', '1862', '1862', '1874', '1863', '1862', '1847', '1869', '1857', '1837', '1850', '1854', '1856', '1865', '1864', '1873', '1874', '1862', '1856', '1847', '1849', '1838', '1840', '1868', '1856', '1867', '1850', '1864', '1871', '1872', '1839', '1847', '1860', '1855', '1853', '1872', '1866', '1857', '1869', '1868', '1874', '1865', '1883', '1874', '1861', '1867', '1843', '1863', '1854', '1871', '1859', '1857', '1877', '1870', '1873', '1875', '1865', '1849', '1864', '1857', '1882', '1862', '1869', '1848', '1870', '1858', '1851', '1860', '1862', '1864', '1867', '1869', '1869', '1843', '1862', '1873', '1852', '1855', '1863', '1842', '1873', '1872', '1867', '1870', '1869', '1860', '1872', '1871', '1847', '1849', '1866', '1854', '1855', '1876', '1842', '1873', '1856', '1871', '1868', '1875', '1855', '1861', '1868', '1869', '1852', '1865', '1869', '1863', '1873', '1870', '1856', '1866', '1855', '1844', '1847', '1856', '1859', '1865', '1860', '1867', '1873', '1871', '1871', '1881', '1879', '1860', '1870', '1863', '1872', '1859', '1843', '1876', '1872', '1850', '1844', '1863', '1854', '1866', '1858', '1839', '1870', '1856', '1868', '1861', '1864', '1854', '1859', '1859', '1852', '1859', '1861', '1874', '1866', '1862', '1857', '1877', '1849', '1858', '1871', '1877', '1847', '1855', '1870', '1861', '1861', '1867', '1867', '1856', '1874', '1867', '1842', '1860', '1860', '1855', '1857', '1850', '1865', '1872', '1857', '1849', '1847', '1866', '1864', '1863', '1867', '1855', '1863', '1877', '1869', '1878', '1870', '1862', '1864', '1856', '1862', '1861', '1863', '1872', '1854', '1861', '1854', '1856', '1871', '1853', '1854', '1864', '1853', '1875', '1862', '1863', '1837', '1844', '1858', '1866', '1873', '1856', '1864', '1863', '1856', '1857', '1848', '1862', '1866', '1857', '1858', '1852', '1864', '1879', '1861', '1852', '1870', '1859', '1857', '1865', '1852', '1852', '1863', '1874', '1872', '1859', '1840', '1886', '1855', '1876', '1862', '1874', '1862', '1869', '1846', '1853', '1861', '1867', '1859', '1861', '1860', '1861', '1878', '1876', '1859', '1858', '1848', '1867', '1858', '1857', '1864', '1855', '1845', '1851', '1863', '1849', '1853', '1847', '1859', '1879', '1848', '1879', '1867', '1882', '1849', '1869', '1870', '1857', '1882', '1855', '1867', '1856', '1854', '1857', '1852', '1858', '1863', '1861', '1870', '1870', '1854', '1867', '1861', '1860', '1871', '1869', '1856', '1864', '1865', '1850', '1859', '1840', '1870', '1870', '1873', '1861', '1855', '1868', '1858', '1875', '1864', '1870', '1853', '1860', '1881', '1872', '1863', '1854', '1861', '1872', '1883', '1863', '1861', '1873', '1883', '1869', '1865', '1862', '1870', '1865', '1855', '1880', '1874', '1858', '1855', '1873', '1876', '1857', '1878', '1871', '1845', '1868', '1859', '1844', '1875', '1852', '1875', '1881', '1849', '1875', '1870', '1856', '1871', '1853', '1860', '1859', '1852', '1873', '1856', '1858', '1857', '1878', '1872', '1862', '1858', '1876', '1868', '1865', '1879', '1843', '1868', '1869', '1863', '1869', '1864', '1863', '1870', '1860', '1854', '1864', '1873', '1853', '1871', '1879', '1853', '1870', '1862', '1868', '1870', '1857', '1839', '1865', '1869', '1863', '1843', '1867', '1856', '1882', '1874', '1871', '1872', '1854', '1877', '1868', '1839', '1879', '1845', '1878', '1849', '1873', '1876', '1874', '1868', '1870', '1871', '1852', '1876', '1884', '1886', '1861', '1842', '1867', '1872', '1861', '1848', '1850', '1863', '1854', '1875', '1862', '1866', '1850', '1868', '1846', '1854', '1882', '1869', '1854', '1862', '1872', '1857', '1865', '1876', '1879', '1871', '1861', '1845', '1866', '1861', '1857', '1877', '1863', '1878', '1850', '1881', '1873', '1856', '1873', '1856', '1851', '1866', '1874', '1877', '1857', '1878', '1865', '1862', '1872', '1876', '1861', '1850', '1879', '1882', '1859', '1869', '1869', '1864', '1866', '1875', '1885', '1865', '1880', '1868', '1877', '1878', '1878', '1875', '1855', '1855', '1864', '1853', '1843', '1864', '1885', '1876', '1871', '1856', '1884', '1875', '1865', '1872', '1862', '1865', '1876', '1860', '1867', '1870', '1863', '1869', '1874', '1860', '1868', '1871', '1858', '1852', '1858', '1865', '1867', '1860', '1851', '1879', '1876', '1893', '1871', '1881', '1880', '1854', '1867', '1872', '1876', '1870', '1874', '1874', '1867', '1868', '1861', '1866', '1848', '1865', '1854', '1882', '1864', '1854', '1871', '1863', '1878', '1873', '1850', '1877', '1877', '1863', '1864', '1890', '1870', '1867', '1868', '1880', '1862', '1870', '1867', '1863', '1862', '1836', '1871', '1867', '1870', '1883', '1869', '1864', '1864', '1883', '1866', '1870', '1850', '1873', '1843', '1853', '1871', '1874', '1858', '1856', '1865', '1853', '1863', '1880', '1878', '1879', '1866', '1872', '1877', '1855', '1872', '1872', '1885', '1876', '1872', '1885', '1871', '1863', '1882', '1878', '1859', '1870', '1855', '1878', '1870', '1859', '1868', '1880', '1872', '1871', '1867', '1875', '1856', '1885', '1864', '1885', '1858', '1858', '1867', '1866', '1863', '1859', '1868', '1851', '1876', '1869', '1871', '1879', '1879', '1881', '1856', '1850', '1879', '1884', '1856', '1867', '1868', '1872', '1860', '1862', '1872', '1859', '1874', '1857', '1873', '1882', '1866', '1855', '1848', '1878', '1883', '1864', '1870', '1858', '1870', '1876', '1870', '1858', '1868', '1867', '1872', '1854', '1865', '1856', '1878', '1855', '1890', '1888', '1881', '1858', '1880', '1869', '1870', '1862', '1877', '1852', '1854', '1874', '1867', '1883', '1852', '1873', '1874', '1862', '1884', '1860', '1875', '1856', '1862', '1868', '1868', '1835', '1867', '1867', '1865', '1881', '1855', '1875', '1860', '1870', '1870', '1860', '1854', '1870', '1860', '1866', '1873', '1849', '1873', '1872', '1863', '1863', '1858', '1868', '1853', '1874', '1868', '1873', '1878', '1875', '1858', '1872', '1841', '1873', '1864', '1865', '1890', '1862', '1873', '1861', '1869', '1855', '1871', '1879', '1878', '1858', '1850', '1874', '1871', '1881', '1860', '1857', '1872', '1880', '1877', '1869', '1867', '1856', '1879', '1874', '1885', '1886', '1879', '1887', '1848', '1848', '1864', '1880', '1857', '1861', '1866', '1877', '1870', '1876', '1880', '1868', '1882', '1867', '1835', '1864', '1853', '1863', '1869', '1871', '1855', '1856', '1879', '1870', '1881', '1877', '1856', '1870', '1862', '1868', '1878', '1870', '1861', '1877', '1890', '1878', '1870', '1868', '1865', '1868', '1866', '1849', '1863', '1873', '1863', '1858', '1878', '1869', '1849', '1869', '1851', '1866', '1883', '1869', '1879', '1877', '1858', '1878', '1866', '1868', '1859', '1883', '1877', '1877', '1876', '1877', '1884', '1896', '1873', '1867', '1887', '1874', '1862', '1877', '1863', '1858', '1881', '1874', '1868', '1878', '1854', '1872', '1883', '1867', '1862', '1869', '1878', '1869', '', '1855', '1878', '1894', '1861', '1866', '1873', '1862', '1844', '1869', '1862', '1872', '1871', '1867', '1863', '1857', '1869', '1867', '1881', '1887', '1870', '1866', '1877', '1860', '1875', '1879', '1875', '1857', '1866', '1870', '1869', '1874', '1883', '1855', '1871', '1865', '1874', '1899', '1886', '1860', '1867', '1884', '1860', '1869', '1879', '1858', '1871', '1890', '1866', '1872', '1875', '1859', '1856', '1856', '1864', '1858', '1873', '1880', '1863', '1888', '1864', '1867', '1872', '1862', '1879', '1872', '1855', '1861', '1863', '1868', '1880', '1868', '1865', '1869', '1862', '1870', '1874', '1854', '1887', '1873', '1870', '1881', '1862', '1861', '1870', '1862', '1862', '1868', '1872', '1883', '1859', '1894', '1876', '1867', '1886', '1882', '1861', '1864', '1855', '1864', '1871', '1893', '1870', '1851', '1879', '1859', '1878', '1868', '1881', '1865', '1861', '1870', '1871', '1877', '1872', '1868', '1873', '1875', '1861', '1876', '1881', '1875', '1858', '1888', '1862', '1873', '1884', '1891', '1886', '1860', '1873', '1854', '1888', '1856', '1861', '1877', '1875', '1880', '1875', '1879', '1867', '1865', '1870', '1858', '1863', '1884', '1863', '1865', '1875', '1874', '1872', '1896', '1864', '1868', '1877', '1861', '1869', '1884', '1876', '1872', '1876', '1884', '1862', '1869', '1893', '1857', '1869', '1875', '1877', '1889', '1869', '1863', '1888', '1872', '1869', '1875', '1867', '1878', '1880', '1880', '1858', '1878', '1862', '1859', '1870', '1870', '1880', '1868', '1883', '1878', '1870', '1876', '1866', '1876', '1869', '1886', '1868', '1881', '1880', '1887', '1881', '1884', '1860', '1880', '1882', '1863', '1859', '1864', '1856', '1867', '1841', '1868', '1875', '1877', '1878', '1865', '1869', '1862', '1862', '1864', '1869', '1873', '1882', '1881', '1867', '1872', '1877', '1872', '1879', '1878', '1873', '1861', '1864', '1863', '1863', '1884', '1860', '1879', '1869', '1890', '1894', '1877', '1868', '1877', '1871', '1866', '1871', '1888', '1868', '1884', '1881', '1884', '1882', '1871', '1875', '1891', '1870', '1870', '1894', '1871', '1865', '1882', '1863', '1872', '1876', '1885', '1865', '1850', '1874', '1872', '1878', '1877', '1870', '1893', '1871', '1866', '1876', '1893', '1873', '1877', '1894', '1863', '1871', '1878', '1877', '1878', '1872', '1872', '1878', '1884', '1863', '1865', '1868', '1894', '1879', '1869', '1875', '1877', '1867', '1869', '1882', '1880', '1891', '1873', '1870', '1850', '1898', '1861', '1883', '1870', '1879', '1869', '1872', '1868', '1874', '1859', '1864', '1879', '1886', '1893', '1882', '1897', '1884', '1867', '1876', '1871', '1867', '1866', '1883', '1869', '1883', '1882', '1875', '1874', '1875', '1859', '1873', '1863', '1869', '1864', '1882', '1883', '1877', '1871', '1879', '1888', '1889', '1867', '1869', '1874', '1871', '1863', '1869', '1876', '1886', '1858', '1860', '1906', '1879', '1884', '1877', '1895', '1867', '1874', '1870', '1864', '1874', '1878', '1885', '1891', '1888', '1879', '1882', '1866', '1877', '1882', '1872', '1875', '1872', '1868', '1870', '1857', '1878', '1870', '1877', '1858', '1891', '1862', '1877', '1872', '1869', '1861', '1867', '1870', '1876', '1877', '1870', '1879', '1884', '1864', '1870', '1876', '1866', '1854', '1853', '1867', '1875', '1880', '1859', '1865', '1853', '1878', '1890', '1857', '1871', '1875', '1883', '1861', '1866', '1874', '1869', '1860', '1882', '1870', '1868', '1893', '1877', '1883', '1872', '1884', '1878', '1860', '1873', '1874', '1867', '1878', '1892', '1867', '1861', '1880', '1886', '1886', '1884', '1879', '1861', '1876', '1871', '1879', '1900', '1889', '1880', '1880', '1894', '1884', '1878', '1866', '1900', '1891', '1880', '1862', '1873', '1880', '1877', '1887', '1881', '1874', '1871', '1849', '1876', '1873', '1888', '1872', '1864', '1891', '1885', '1863', '1877', '1868', '1859', '1865', '1878', '1861', '1868', '1869', '1868', '1893', '1886', '1877', '1866', '1884', '1870', '1877', '1874', '1858', '1883', '1873', '1888', '1871', '1883', '1871', '1867', '1873', '1878', '1865', '1874', '1866', '1887', '1874', '1863', '1863', '1859', '1878', '1876', '1879', '1893', '1878', '1889', '1861', '1869', '1889', '1875', '1868', '1878', '1870', '1894', '1883', '1889', '1885', '1867', '1881', '1884', '1863', '1870', '1885', '1860', '1879', '1893', '1862', '1889', '1905', '1871', '1889', '1883', '1880', '1859', '1862', '1869', '1875', '1879', '1862', '1853', '1880', '1872', '1865', '1856', '1898', '1895', '1872', '1877', '1884', '1887', '1873', '1877', '1874', '1882', '1870', '1895', '1880', '1872', '1879', '1884', '1887', '1871', '1880', '1868', '1869', '1866', '1864', '1894', '1885', '1876', '1879', '1883', '1882', '1895', '1891', '1872', '1868', '1874', '1868', '1888', '1886', '1889', '1878', '1873', '1871', '1871', '1886', '1878', '1896', '1870', '1907', '1887', '1895', '1877', '1874', '1885', '1889', '1886', '1877', '1866', '1879', '1874', '1866', '1887', '1867', '1875', '1881', '1890', '1905', '1869', '1885', '1862', '1866', '1878', '1863', '1876', '1883', '1885', '1883', '1873', '1883', '1875', '1853', '1890', '1906', '1892', '1877', '1894', '1892', '1867', '1872', '1871', '1872', '1863', '1886', '1892', '1874', '1891', '1872', '1894', '1874', '1879', '1890', '1880', '1893', '1871', '1876', '1887', '1878', '1892', '1880', '1892', '1871', '1877', '1901', '1889', '1873', '1867', '1879', '1878', '1892', '1890', '1900', '1883', '1897', '1894', '1884', '1893', '1882', '1884', '1870', '1873', '1900', '1865', '1886', '1878', '1867', '1869', '1882', '1894', '1890', '1896', '1870', '1888', '1876', '1892', '1893', '1879', '1895', '1891', '1878', '1873', '1868', '1878', '1900', '1871', '1900', '1879', '1863', '1887', '1876', '1873', '1873', '1886', '1890', '1884', '1882', '1882', '1863', '1884', '1880', '1891', '1890', '1877', '1894', '1886', '1881', '1879', '1893', '1874', '1874', '1881', '1867', '1877', '1899', '1900', '1884', '1890', '1894', '1896', '1896', '1880', '1894', '1892', '1869', '1863', '1874', '1883', '1868', '1889', '1878', '1889', '1895', '1894', '1872', '1862', '1864', '1873', '1888', '1877', '1862', '1889', '1861', '1909', '1872', '1885', '1903', '1903', '1882', '1884', '1895', '1886', '1873', '1894', '1875', '1869', '1873', '1897', '1878', '1877', '1869', '1903', '1875', '1891', '1896', '1870', '1888', '1881', '1892', '1890', '1881', '1893', '1880', '1895', '1903', '1890', '1903', '1890', '1892', '1881', '1890', '1870', '1876', '1875', '1893', '1902', '1899', '1867', '1877', '1896', '1874', '1886', '1882', '1883', '1893', '1903', '1897', '1878', '1887', '1902', '1890', '1872', '1878', '1864', '1873', '1872', '1899', '1859', '1873', '1874', '1864', '1886', '1896', '1884', '1903', '1896', '1893', '1885', '1896', '1890', '1889', '1872', '1877', '1905', '1882', '1886', '1897', '1899', '1882', '1877', '1882', '1872', '1893', '1886', '1867', '1893', '1878', '1869', '1862', '1874', '1888', '1868', '1880', '1862', '1895', '1894', '1888', '1872', '1892', '1892', '1877', '1895', '1881', '1884', '1897', '1881', '1907', '1887', '1893', '1893', '1866', '1882', '1878', '1876', '1864', '1890', '1870', '1880', '1880', '1876', '1866', '1874', '1889', '1888', '1901', '1877', '1884', '1901', '1891', '1877', '1891', '1877', '1897', '1888', '1899', '1892', '1894', '1881', '1877', '1895', '1880', '1899', '1866', '1887', '1865', '1888', '1903', '1895', '1892', '1898', '1886', '1874', '1890', '1889', '1880', '1895', '1887', '1870', '1897', '1905', '1900', '1892', '1889', '1888', '1892', '1907', '1908', '1890', '1887', '1898', '1898', '1888', '1903', '1893', '1880', '1879', '1888', '1870', '1880', '1903', '1885', '1889', '1876', '1906', '1854', '1890', '1896', '1895', '1887', '1881', '1866', '1881', '1869', '1866', '1897', '1886', '1882', '1879', '1895', '1870', '1884', '1886', '1893', '1902', '1894', '1870', '1903', '1904', '1888', '1887', '1885', '1899', '1899', '1883', '1886', '1893', '1885', '1875', '1875', '1885', '1899', '1890', '1898', '1861', '1897', '1877', '1880', '1875', '1898', '1874', '1870', '1879', '1902', '1892', '1887', '1890', '1892', '1896', '1867', '1881', '1895', '1911', '1904', '1891', '1892', '1893', '1887', '1885', '1858', '1890', '1881', '1903', '1870', '1879', '1901', '1872', '1882', '1873', '1875', '1893', '1892', '1880', '1866', '1873', '1905', '1872', '1897', '1890', '1882', '1882', '1901', '1865', '1897', '1881', '1898', '1878', '1903', '1883', '1874', '1868', '1882', '1880', '1903', '1881', '1883', '1888', '1869', '1896', '1886', '1871', '1884', '1899', '1888', '1869', '1873', '1875', '1884', '1886', '1900', '1892', '1868', '1858', '1892', '1868', '1888', '1889', '1878', '1901', '1898', '1892', '1892', '1887', '1880', '1879', '1898', '1879', '1895', '1884', '1901', '1874', '1891', '1895', '1899', '1896', '1898', '1871', '1869', '1903', '1893', '1896', '1897', '1890', '1889', '1897', '1881', '1880', '1891', '1881', '1911', '1885', '1892', '1879', '1896', '1889', '1887', '1880', '1909', '1895', '1873', '1881', '1892', '1884', '1874', '1867', '1905', '1890', '1896', '1871', '1892', '1879', '1895', '1877', '1889', '1884', '1902', '1901', '1895', '1893', '1899', '1894', '1897', '1902', '1897', '1909', '1897', '1894', '1894', '1906', '1877', '1890', '1904', '1885', '1880', '1897', '1874', '1885', '1910', '1885', '1884', '1899', '1884', '1900', '1901', '1875', '1898', '1901', '1893', '1884', '1888', '1896', '1885', '1875', '1877', '1905', '1882', '1890', '1866', '1896', '1881', '1893', '1894', '1891', '1888', '1875', '1892', '1874', '1880', '1898', '1880', '1884', '1892', '1903', '1876', '1896', '1875', '1883', '1904', '1896', '1885', '1883', '1902', '1901', '1878', '1887', '1906', '1875', '1894', '1897', '1898', '1885', '1897', '1896', '1902', '1904', '1890', '1871', '1887', '1878', '1875', '1881', '1896', '1887', '1899', '1882', '1889', '1914', '1894', '1906', '1876', '1902', '1905', '1877', '1892', '1892', '1892', '1898', '1875', '1901', '1885', '1904', '1885', '1883', '1876', '1877', '1874', '1874', '1890', '1901', '1877', '1904', '1872', '1902', '1896', '1889', '1887', '1884', '1893', '1869', '1906', '1887', '1903', '1895', '1898', '1889', '1879', '1891', '1885', '1914', '1898', '1884', '1888', '1901', '1892', '1881', '1893', '1884', '1882', '1890', '1886', '1877', '1877', '1889', '1899', '1902', '1903', '1878', '1911', '1907', '1875', '1898', '1895', '1887', '1904', '1885', '1902', '1880', '1898', '1895', '1869', '1890', '1895', '1871', '1880', '1899', '1905', '1893', '1888', '1889', '1905', '1895', '1902', '1903', '1905', '1910', '1892', '1896', '1878', '1911', '1887', '1893', '1907', '1884', '1890', '1880', '1895', '1874', '1887', '1868', '1902', '1901', '1873', '1893', '1906', '1899', '1902', '1861', '1890', '1877', '1902', '1894', '1888', '1903', '1869', '1915', '1907', '1912', '1899', '1910', '1887', '1916', '1882', '1896', '1897', '1914', '1907', '1906', '1899', '1896', '1891', '1888', '1906', '1892', '1889', '1873', '1886', '', '1903', '1919', '1905', '1909', '1898', '1882', '1891', '1914', '1901', '1879', '1885', '1897', '1884', '1888', '1907', '1880', '1888', '1889', '1895', '1891', '1900', '1906', '1872', '1870', '1885', '1894', '1883', '1904', '1897', '1895', '1916', '1883', '1918', '1890', '1891', '1895', '1902', '1920', '1900', '1888', '1888', '1889', '1879', '1901', '1906', '1886', '1886', '1909', '1918', '1898', '1887', '1903', '1892', '1906', '1880', '1884', '1902', '1887', '1918', '1893', '1886', '1878', '1885', '1910', '1895', '1903', '1894', '1889', '1902', '1904', '1899', '1880', '1890', '1886', '1876', '1884', '1879', '1920', '1875', '1883', '1891', '1894', '1892', '1907', '1910', '1875', '1883', '1903', '1885', '1921', '1884', '1895', '1899', '1895', '1877', '1908', '1913', '1869', '1892', '1900', '1877', '1878', '1905', '1890', '1908', '1896', '1887', '1897', '1891', '1904', '1893', '1912', '1893', '1876', '1895', '1908', '1892', '1902', '1903', '1886', '1887', '1876', '1908', '1901', '1889', '1880', '1888', '1886', '1863', '1883', '1868', '1891', '1889', '1899', '1911', '1878', '1880', '1902', '1888', '1884', '1909', '1900', '1882', '1894', '1888', '1895', '1877', '1898', '1907', '1884', '1874', '1873', '1890', '1878', '1900', '1899', '1876', '1902', '1906', '1906', '1903', '1902', '1891', '1907', '1902', '1885', '1898', '1887', '1889', '1902', '1906', '1903', '1877', '1882', '1901', '1903', '1866', '1893', '1886', '1907', '1909', '1908', '1884', '1891', '1901', '1897', '1911', '1889', '1880', '1898', '1898', '1895', '1894', '1895', '1906', '1905', '1901', '1885', '1878', '1876', '1899', '1893', '1916', '1875', '1892', '1912', '1890', '1904', '1901', '1893', '1893', '1898', '1895', '1878', '1892', '1895', '1892', '1897', '1912', '1874', '1889', '1910', '1897', '1880', '1891', '1881', '1880', '1901', '1893', '1905', '1919', '1904', '1870', '1916', '1896', '1908', '1885', '1902', '1893', '1908', '1886', '1913', '1908', '1910', '1890', '1879', '1908', '1912', '1879', '1900', '1903', '1907', '1904', '1895', '1897', '1897', '1893', '1886', '1914', '1893', '1896', '1880', '1890', '1922', '1915', '1896', '1884', '1916', '1886', '1891', '1915', '1901', '1884', '1909', '1888', '1896', '1892', '1903', '1899', '1895', '1884', '1890', '1896', '1877', '1910', '1898', '1902', '1902', '1897', '1890', '1896', '1903', '1917', '1906', '1898', '1894', '1894', '1883', '1898', '1899', '1898', '1902', '1903', '1918', '1903', '1885', '1896', '1895', '1867', '1902', '1898', '1894', '1893', '1893', '1888', '1914', '1897', '1904', '1904', '1893', '1917', '1876', '1874', '1907', '1912', '1887', '1900', '1890', '1894', '1898', '1887', '1913', '1910', '1893', '1922', '1893', '1916', '1895', '1908', '1899', '1890', '1896', '1875', '1914', '1879', '1895', '1897', '1896', '1897', '1901', '1901', '1896', '1907', '1885', '1904', '1893', '1898', '1897', '1890', '1903', '1907', '1879', '1918', '1903', '1900', '1892', '1900', '1893', '1897', '1884', '1889', '1894', '1897', '1921', '1898', '1903', '1900', '1886', '1923', '1902', '1909', '1885', '1880', '1893', '1889', '1897', '1883', '1912', '1890', '1888', '1908', '1887', '1883', '1924', '1901', '1896', '1922', '1885', '1892', '1895', '1908', '1875', '1888', '1915', '1895', '1908', '1911', '1890', '1904', '1908', '1898', '1888', '1909', '1895', '1911', '1894', '1892', '1888', '1892', '1916', '1896', '1881', '1891', '1884', '1884', '1880', '1912', '1898', '1906', '1896', '1918', '1908', '1894', '1918', '1908', '1901', '1907', '1906', '1920', '1880', '1891', '1910', '1909', '1893', '1887', '1898', '1897', '1915', '1888', '1888', '1919', '1890', '1903', '1911', '1892', '1921', '1911', '1910', '1917', '1895', '1904', '1918', '1921', '1903', '1917', '1898', '1920', '1924', '1910', '1917', '1919', '1900', '1905', '1914', '1889', '1891', '1920', '1914', '1902', '1924', '1899', '1895', '1896', '1919', '1908', '1909', '1918', '1875', '1886', '1881', '1891', '1900', '1892', '1902', '1911', '1919', '1921', '1909', '1888', '1892', '1925', '1883', '1907', '1916', '1914', '1911', '1916', '1897', '1905', '1886', '1912', '1898', '1912', '1885', '1901', '1897', '1920', '1899', '1892', '1924', '1920', '1893', '1895', '1905', '1892', '1899', '1894', '1889', '1890', '1923', '1894', '1904', '1911', '1888', '1875', '1913', '1913', '1909', '1898', '1900', '1903', '1896', '1900', '1908', '1907', '1898', '1892', '1899', '1916', '1911', '1906', '1882', '1895', '1894', '1926', '1922', '1906', '1916', '1898', '1904', '1890', '1927', '1901', '1896', '1906', '1906', '1886', '1886', '1882', '1889', '1898', '1893', '1895', '1887', '1921', '1892', '1912', '1899', '1906', '1894', '1917', '1908', '1918', '1874', '1880', '1920', '1898', '1919', '1901', '1906', '1917', '1903', '1912', '1897', '1916', '1918', '1885', '1911', '1902', '1901', '1915', '1899', '1912', '1904', '1917', '1923', '1920', '1921', '1890', '', '1879', '1893', '1897', '1901', '1897', '1918', '1896', '1887', '1925', '1913', '1895', '1905', '1896', '1892', '1893', '1922', '1903', '1897', '1910', '1887', '1929', '1877', '1909', '1915', '1896', '1894', '1895', '1899', '1898', '1920', '1892', '1905', '1901', '1896', '1895', '1893', '1918', '1899', '1910', '1914', '1895', '1914', '1900', '1908', '1924', '1908', '1907', '1907', '1914', '1897', '1902', '1900', '1907', '1908', '1906', '1878', '1907', '1896', '1898', '1904', '1902', '1898', '1899', '1912', '1911', '1899', '1905', '1885', '1903', '1921', '1900', '1913', '1894', '1905', '1930', '1909', '1901', '1905', '1883', '1900', '1894', '1891', '1920', '1904', '1899', '1906', '1906', '1904', '1908', '1918', '1925', '1909', '1915', '1922', '1913', '1891', '1893', '1920', '1927', '1927', '1907', '1926', '1897', '1927', '1905', '1898', '1896', '1907', '1910', '1926', '1907', '1916', '1921', '1907', '1923', '1931', '1912', '1914', '1901', '1903', '1901', '1892', '1917', '1919', '1939', '1901', '1925', '1907', '1917', '1912', '1898', '1921', '1908', '1919', '1920', '1918', '1884', '1907', '1916', '1906', '1927', '1924', '1910', '1908', '1902', '1894', '1900', '1930', '1906', '1914', '1920', '1903', '1908', '1907', '1906', '1933', '1922', '1905', '1904', '1921', '1921', '1883', '1920', '1924', '1898', '1900', '1896', '1916', '1921', '1907', '1894', '1921', '1911', '1928', '1924', '1917', '1927', '1920', '1904', '1903', '1889', '1920', '1907', '1895', '1904', '1904', '1909', '1885', '1901', '1911', '1890', '1913', '1913', '1933', '1903', '1900', '1903', '1930', '1896', '1909', '1894', '1926', '1896', '1899', '1913', '1906', '1898', '1924', '1920', '1916', '1916', '1923', '1919', '1900', '1900', '1882', '1920', '1911', '1924', '1898', '1897', '1921', '1926', '1897', '1905', '1896', '1911', '1915', '1918', '1904', '1893', '1926', '1926', '1907', '1892', '1916', '1917', '1925', '1898', '1902', '1909', '1926', '1917', '1912', '1914', '1922', '1922', '1912', '1918', '1886', '1916', '1915', '1896', '1915', '1902', '1902', '1905', '1933', '1898', '1905', '1920', '1914', '1922', '1916', '1886', '1919', '1922', '1913', '1915', '1929', '1922', '1926', '1914', '1927', '1891', '1914', '1928', '1917', '1899', '1907', '1916', '1898', '1920', '1908', '1906', '1924', '1905', '1900', '1914', '1918', '1932', '1916', '1913', '1915', '1914', '1899', '1902', '1922', '1916', '1913', '1908', '1903', '1921', '1911', '1906', '1896', '1911', '1927', '1932', '1899', '1904', '1930', '1914', '1901', '1930', '1923', '1906', '1913', '1906', '1932', '1915', '1888', '1890', '1928', '1905', '1933', '1907', '1905', '1912', '1902', '1919', '1927', '1907', '1906', '1903', '1928', '1921', '1929', '1903', '1926', '1916', '1910', '1913', '1912', '1919', '1916', '1904', '1906', '1904', '1917', '1915', '1919', '1906', '1914', '1914', '1928', '1903', '1901', '1932', '1915', '1928', '1898', '1891', '1911', '1915', '1921', '1914', '1911', '1904', '1907', '1902', '1903', '1923', '1919', '1919', '1913', '1922', '1930', '1906', '1900', '1909', '1909', '1901', '1917', '1924', '1925', '1934', '1902', '1902', '1929', '1931', '1895', '1915', '1919', '1927', '1911', '1932', '1903', '1919', '1922', '1919', '1908', '1919', '1904', '1917', '1915', '1928', '1915', '1925', '1938', '1905', '1914', '1916', '1918', '1923', '1912', '1901', '1916', '1915', '1904', '1903', '1916', '1932', '1912', '1896', '1919', '1910', '1923', '1912', '1899', '1919', '1916', '1934', '1914', '1934', '1912', '1907', '1926', '1922', '1916', '1924', '1928', '1903', '1915', '1922', '1932', '1908', '1927', '1904', '1924', '1925', '1916', '1917', '1929', '1912', '1907', '1930', '1917', '1896', '1915', '1925', '1911', '1924', '1911', '1930', '1928', '1904', '1920', '1925', '1931', '1927', '1924', '1925', '1915', '1927', '1903', '1926', '1916', '1921', '1908', '1923', '1915', '1923', '1911', '1899', '1938', '1907', '1909', '1905', '1929', '1937', '1915', '1925', '1908', '1906', '1913', '1917', '1920', '1922', '1921', '1907', '1917', '1913', '1920', '1908', '1912', '1896', '1928', '1914', '1921', '1908', '1931', '1915', '1924', '1921', '1930', '1900', '1932', '1908', '1919', '1936', '1927', '1920', '1910', '1927', '1930', '1938', '1923', '1899', '1925', '1926', '1940', '1911', '1914', '1925', '1921', '1915', '1923', '1927', '1922', '1914', '1901', '1915', '1904', '1906', '1912', '1922', '1896', '1907', '1937', '1917', '1892', '1905', '1921', '1922', '1937', '1909', '1925', '1906', '1906', '1916', '1925', '1900', '1893', '1916', '1909', '1925', '1910', '1920', '1907', '1926', '1912', '1932', '1942', '1929', '1913', '1930', '1928', '1935', '1902', '1927', '1920', '1913', '1910', '1922', '1918', '1897', '1935', '1933', '1912', '1924', '1929', '1928', '1945', '1913', '1923', '1913', '1910', '1932', '1906', '1914', '1929', '1912', '1943', '1913', '1918', '1914', '1919', '1945', '1931', '1901', '1908', '1921', '1923', '1933', '1914', '1924', '1934', '1938', '1925', '1936', '1906', '1938', '1911', '1936', '1921', '1930', '1924', '1926', '1928', '1926', '1900', '1920', '1918', '1927', '1910', '1929', '1926', '1915', '1914', '1937', '1898', '1932', '1924', '1921', '1899', '1923', '1934', '1921', '1916', '1925', '1926', '1925', '1934', '1935', '1927', '1906', '1910', '1906', '1917', '1938', '1910', '1924', '1935', '1943', '1918', '1912', '1920', '1927', '1919', '1932', '1916', '1925', '1928', '1912', '1940', '1928', '1922', '1923', '1925', '1926', '1937', '1940', '1927', '1928', '1931', '1910', '1945', '1920', '1920', '1942', '1915', '1922', '1920', '1920', '1913', '1917', '1914', '1903', '1919', '1919', '1920', '1926', '1921', '1941', '1926', '', '1926', '1936', '1928', '1907', '1930', '1924', '1934', '1922', '1939', '1940', '1921', '1920', '1925', '1926', '1923', '1926', '1932', '1929', '1943', '1925', '1905', '1919', '1919', '1902', '1913', '1920', '1924', '1920', '1916', '1915', '1918', '1910', '1907', '1904', '1912', '1918', '1925', '1928', '1941', '1914', '1914', '1913', '1917', '1916', '1919', '1941', '1924', '1923', '1926', '1934', '1928', '1927', '1929', '1945', '1940', '1939', '1935', '1935', '1914', '1942', '1916', '1932', '1930', '1941', '1927', '1921', '1932', '1925', '1937', '1924', '1923', '1916', '1926', '1946', '1936', '1915', '1938', '1942', '1924', '1926', '1937', '1943', '1929', '1931', '1948', '1931', '1937', '1941', '1946', '1931', '1911', '1910', '1921', '1928', '1913', '1934', '1909', '1938', '1923', '1913', '1943', '1936', '1927', '1931', '1942', '1934', '1938', '1925', '1936', '1922', '1953', '1938', '1933', '1918', '1927', '1922', '1931', '1943', '1908', '1927', '1923', '1944', '1909', '1934', '1947', '1929', '1921', '1932', '1912', '1916', '1923', '1935', '1927', '1937', '1927', '1931', '1920', '1924', '1940', '1946', '1926', '1931', '1923', '1927', '1930', '1925', '1925', '1935', '1942', '1926', '1930', '1922', '1939', '1935', '1936', '1937', '1928', '1927', '1925', '1935', '1916', '1938', '1942', '1930', '1940', '1928', '1926', '1912', '1919', '1941', '1930', '1908', '1939', '1935', '1935', '1925', '1924', '1916', '1929', '1927', '1934', '1912', '1925', '1915', '1934', '1916', '1923', '1920', '1952', '1913', '1901', '1946', '1926', '1922', '1931', '1942', '1919', '1908', '1912', '1928', '1925', '1937', '1943', '1921', '1930', '1940', '1942', '1920', '1939', '1941', '1943', '1924', '1937', '1941', '1933', '1925', '1924', '1941', '1924', '1944', '1926', '1920', '1940', '1939', '1929', '1942', '1946', '1924', '1923', '1939', '1924', '1948', '1922', '1945', '1939', '1917', '1912', '1920', '1918', '1951', '1928', '1929', '1936', '1927', '1925', '1927', '1923', '1940', '1917', '1927', '1927', '1929', '1917', '1911', '1945', '1937', '1942', '1925', '1922', '1914', '1914', '1941', '1935', '1940', '1927', '1943', '1919', '1940', '1932', '1924', '1927', '1912', '1948', '1942', '1935', '1937', '1920', '1939', '1928', '1933', '1931', '1944', '1918', '1905', '1947', '1909', '1943', '1930', '1928', '1916', '1937', '1955', '1950', '1938', '1928', '1939', '1926', '1941', '1921', '1916', '1946', '1934', '1940', '1908', '1941', '1917', '1942', '1941', '1909', '1936', '1937', '1942', '1934', '1948', '1933', '1937', '1937', '1928', '1933', '1943', '1907', '1938', '1953', '1924', '1931', '1944', '1925', '1931', '1939', '1916', '1917', '1933', '1928', '1944', '1924', '1929', '1941', '1900', '1938', '1942', '1957', '1930', '1936', '1947', '1953', '1934', '1938', '1944', '1945', '1911', '1930', '1950', '1940', '1933', '1939', '1933', '1922', '1924', '1934', '1913', '1915', '1938', '1948', '1942', '1922', '1947', '1910', '1928', '1941', '1943', '1922', '1940', '1944', '1935', '1932', '1942', '1940', '1943', '1939', '1921', '1929', '1947', '1929', '1932', '1925', '1946', '1949', '1921', '1926', '1933', '1950', '1937', '1938', '1921', '1917', '1947', '1941', '1926', '1948', '1941', '1929', '1924', '1922', '1940', '1939', '1922', '1918', '1921', '1948', '1943', '1933', '1936', '1919', '1937', '1941', '1930', '1941', '1933', '1932', '1941', '1913', '1951', '1932', '1926', '1946', '1926', '1913', '1931', '1943', '1947', '1951', '1936', '1935', '1944', '1929', '1950', '1942', '1938', '1952', '1917', '1938', '1935', '1933', '1945', '1943', '1926', '1935', '1938', '1940', '1920', '1937', '1939', '1931', '1918', '1954', '1942', '1934', '1932', '1927', '1943', '1931', '1940', '1924', '1916', '1944', '1925', '1920', '1929', '1937', '1948', '1928', '1931', '1925', '1941', '1940', '1951', '1940', '1946', '1943', '1931', '1922', '1931', '1952', '1927', '1926', '1939', '1920', '1927', '1922', '1944', '1953', '1928', '1938', '1949', '1955', '1940', '1923', '1938', '1931', '1922', '1925', '1946', '1943', '1955', '1937', '1943', '1936', '1923', '1915', '1940', '1949', '1953', '1928', '1959', '1926', '1929', '1924', '1927', '1935', '1921', '1944', '1928', '1948', '1948', '1942', '1941', '1938', '1947', '1932', '1926', '1948', '1951', '1930', '1949', '1943', '1935', '1946', '1943', '1948', '1953', '1924', '1929', '1952', '1948', '1939', '1942', '1927', '1932', '1927', '1939', '1950', '1932', '1923', '1947', '1927', '1909', '1934', '1932', '1938', '1951', '1913', '1927', '1945', '1928', '1926', '1931', '1948', '1945', '1942', '1940', '1948', '1920', '1936', '1957', '1935', '1950', '1931', '1926', '1941', '1951', '1910', '1930', '1952', '1942', '1940', '1932', '1921', '1956', '1941', '1943', '1937', '1947', '1956', '1922', '1945', '1942', '1929', '1941', '1939', '1931', '1932', '1943', '1933', '1938', '1962', '1952', '1962', '1945', '1953', '1943', '1955', '1944', '1952', '1920', '1928', '1948', '1951', '1929', '1946', '1929', '1952', '1932', '1931', '1943', '1942', '1938', '1951', '1940', '1947', '1928', '1948', '1931', '1920', '1922', '1927', '1927', '1948', '1945', '1935', '1916', '1952', '1939', '1939', '1938', '1921', '1940', '1941', '1937', '1965', '1928', '1958', '1957', '1931', '1921', '1958', '1942', '1951', '1937', '1933', '1936', '1944', '1927', '1945', '1941', '1935', '1934', '1963', '1942', '1935', '1929', '1942', '1945', '1928', '1947', '1936', '1943', '1916', '1942', '1931', '1930', '1921', '1949', '1943', '1952', '1936', '1939', '1953', '1932', '1931', '1950', '1958', '1954', '1960', '1949', '1954', '1945', '1955', '1947', '1950', '1932', '1936', '1947', '1943', '1941', '1950', '1931', '1949', '1930', '1925', '1945', '1942', '1902', '1930', '1951', '1944', '1953', '1909', '1928', '1929', '1928', '1932', '1944', '1920', '1933', '1952', '1954', '1938', '1931', '1946', '1939', '1934', '1947', '1939', '1934', '1953', '1935', '1960', '1952', '1942', '1951', '1948', '1927', '1936', '1946', '1922', '1952', '1951', '1947', '1958', '1943', '1929', '1944', '1958', '1927', '1942', '1933', '1948', '1931', '1951', '1930', '1935', '1957', '1940', '1948', '1948', '1932', '1952', '1940', '1955', '1952', '1948', '1953', '1959', '1956', '1945', '1948', '1948', '1935', '1932', '1933', '1953', '1934', '1943', '1948', '1941', '1947', '1936', '1947', '1947', '1957', '1952', '1949', '1930', '1922', '1951', '1942', '1932', '1959', '1942', '1931', '1950', '1934', '1957', '1939', '1954', '1945', '1948', '1930', '1926', '1942', '1927', '1927', '1931', '1947', '1944', '1956', '1956', '1929', '1958', '1933', '1945', '1963', '1962', '1947', '1932', '1927', '1927', '1928', '1927', '1951', '1941', '1948', '1938', '1957', '1950', '1956', '1962', '1943', '1942', '1926', '1959', '1939', '1948', '1967', '1949', '1944', '1945', '1945', '1930', '1957', '1936', '1932', '1954', '1941', '1952', '1942', '1941', '1938', '1951', '1946', '1950', '1926', '1939', '1960', '1943', '1937', '1933', '1955', '1941', '1947', '1953', '1944', '1955', '1951', '1952', '1941', '1952', '1934', '1938', '1923', '1964', '1943', '1946', '1927', '1955', '1948', '1933', '1930', '1936', '1939', '1954', '1952', '1956', '1931', '1952', '1962', '1952', '1941', '1957', '1947', '1944', '1942', '1951', '1953', '1954', '1970', '1944', '1960', '1947', '1951', '1957', '1962', '1958', '1935', '1961', '1924', '1950', '1936', '1935', '1936', '1957', '1942', '1942', '1960', '1946', '1955', '1954', '1948', '1960', '1937', '1942', '1936', '1944', '1961', '1947', '1938', '1955', '1937', '1939', '1941', '1943', '1945', '1930', '1941', '1955', '1941', '1941', '1936', '1947', '1953', '1945', '1948', '1955', '1917', '1950', '1938', '1947', '1947', '1946', '1959', '1950', '1949', '1950', '1949', '1959', '1956', '1958', '1937', '1958', '1970', '1960', '1965', '1946', '1939', '1946', '1942', '1945', '1936', '1939', '1958', '1948', '1947', '1971', '1949', '1964', '1932', '1933', '1943', '1945', '1945', '1928', '1946', '1941', '1956', '1949', '1947', '1956', '1938', '1949', '1941', '1938', '1963', '1955', '1951', '1946', '1924', '1958', '1950', '1954', '1943', '1945', '1945', '1933', '1947', '1953', '1957', '1960', '1951', '1964', '1938', '1959', '1959', '1956', '1961', '1962', '1942', '1942', '1969', '1946', '1945', '1952', '1935', '1943', '1958', '1967', '1959', '1939', '1958', '1957', '1967', '1943', '1942', '1941', '1954', '1966', '1951', '1934', '1958', '1941', '1954', '1949', '1942', '1948', '1958', '1949', '1970', '1953', '1951', '1953', '1959', '1949', '1937', '1967', '1945', '1949', '1957', '1944', '1968', '1942', '1956', '1948', '1959', '1948', '1957', '1966', '1947', '1942', '1940', '1943', '1945', '1973', '1932', '1974', '1934', '1938', '1937', '1974', '1952', '1974', '1955', '1946', '1953', '1961', '1951', '1949', '1931', '1947', '1957', '1950', '1961', '1942', '1952', '1944', '1951', '1953', '1949', '1951', '1957', '1933', '1961', '1943', '1937', '1939', '1970', '1969', '1938', '1970', '1974', '1959', '1958', '1970', '1945', '1951', '1964', '1965', '1934', '1964', '1955', '1965', '1942', '1961', '1924', '1924', '1943', '1948', '1943', '1935', '1942', '1942', '1932', '1941', '1947', '1946', '1959', '1942', '1956', '1947', '1968', '1958', '1947', '1926', '1952', '1959', '1951', '1941', '1937', '1951', '1961', '1973', '1934', '1951', '1938', '1949', '1958', '1959', '1957', '1949', '1959', '1962', '1940', '1969', '1952', '1940', '1944', '1945', '1970', '1959', '1945', '1938', '1957', '1946', '1929', '1951', '1946', '1954', '1970', '1934', '1946', '1967', '1944', '1953', '1941', '1936', '1935', '1959', '1962', '1976', '1955', '1944', '1962', '1965', '1961', '1952', '1964', '1951', '1971', '1931', '1941', '1965', '1963', '1934', '1961', '1961', '1937', '1958', '1941', '1948', '1951', '1950', '1943', '1924', '1969', '1959', '1946', '1930', '1965', '1945', '1976', '1941', '1957', '1963']\n"
     ]
    }
   ],
   "source": [
    "birth_years = []\n",
    "\n",
    "for row in data:\n",
    "    current_birthday = row[2] \n",
    "    current_parts = current_birthday.split(\"-\")\n",
    "    birth_years.append(current_parts[0])\n",
    "print(birth_years)"
   ]
  },
  {
   "cell_type": "markdown",
   "metadata": {},
   "source": [
    "## 12.A. Tutorial: Try-Except Block"
   ]
  },
  {
   "cell_type": "markdown",
   "metadata": {},
   "source": [
    "### Basic"
   ]
  },
  {
   "cell_type": "code",
   "execution_count": 86,
   "metadata": {},
   "outputs": [
    {
     "name": "stdout",
     "output_type": "stream",
     "text": [
      "Error converting to float.\n"
     ]
    }
   ],
   "source": [
    "try:\n",
    "    float(\"hello\")\n",
    "except Exception:\n",
    "    print(\"Error converting to float.\")"
   ]
  },
  {
   "cell_type": "markdown",
   "metadata": {},
   "source": [
    "### Advanced"
   ]
  },
  {
   "cell_type": "code",
   "execution_count": 87,
   "metadata": {},
   "outputs": [
    {
     "name": "stdout",
     "output_type": "stream",
     "text": [
      "• Type of Exception is a class (i.e., a 'type' in itself, in this context):\n",
      "<class 'type'>\n",
      "\n",
      " • Type of exc is 'ValueError', which is an instance of Exception class (note that 'Exception' class can have instances that has another type):\n",
      "<class 'ValueError'>\n",
      "\n",
      "\n",
      "invalid literal for int() with base 10: ''\n"
     ]
    }
   ],
   "source": [
    "try:\n",
    "    int(\"\")\n",
    "except Exception as exc:\n",
    "    \n",
    "    # Demonstration:\n",
    "    print(\"• Type of Exception is a class (i.e., a 'type' in itself, in this context):\")\n",
    "    print(type(Exception))\n",
    "    print(\"\\n • Type of exc is 'ValueError', which is an instance of Exception class (note that 'Exception' class can have instances that has another type):\")\n",
    "    print(type(exc))\n",
    "    print(\"\\n\")\n",
    "    \n",
    "    # Actual code block:\n",
    "    print(str(exc))"
   ]
  },
  {
   "cell_type": "markdown",
   "metadata": {},
   "source": [
    "## 12.5. Convert strings to integers selectively (i.e., where possible)"
   ]
  },
  {
   "cell_type": "code",
   "execution_count": 88,
   "metadata": {},
   "outputs": [
    {
     "name": "stdout",
     "output_type": "stream",
     "text": [
      "birth_years are: \n",
      "['birthday', '1745', '1742', '1743', '1730', '1739', '', '1738', '1745', '1748', '1734', '1756', '', '1737', '1754', '1736', '', '1727', '1733', '1732']\n",
      "\n",
      "converted_years are: \n",
      "['birthday', 1745, 1742, 1743, 1730, 1739, '', 1738, 1745, 1748, 1734, 1756, '', 1737, 1754, 1736, '', 1727, 1733, 1732]\n"
     ]
    }
   ],
   "source": [
    "converted_years = []\n",
    "\n",
    "for item in birth_years:\n",
    "    year = item\n",
    "    \n",
    "    # Try to convert birth years from string to integer.\n",
    "    try:\n",
    "        year = int(year)\n",
    "    \n",
    "    except Exception:\n",
    "        pass\n",
    "    \n",
    "    # Add converted values, along with the unconverted ones, to the converted_years.\n",
    "    converted_years.append(year)\n",
    "    \n",
    "\n",
    "# Debug\n",
    "print(\"birth_years are: \\n\" + str(birth_years[0:20]) + \"\\n\")\n",
    "print(\"converted_years are: \\n\" + str(converted_years[0:20]))\n",
    "    \n",
    "    "
   ]
  },
  {
   "cell_type": "markdown",
   "metadata": {},
   "source": [
    "## 12.5 (Alternative):  Using conversion and errors as a filter: Ignore missing values and errors they cause during conversion\n",
    "\n",
    "Dataquest reference: \"8: The Pass Keyword\""
   ]
  },
  {
   "cell_type": "markdown",
   "metadata": {},
   "source": [
    "Note: This strategy of ignoring the missing values would change the length of the year column. Therfore, the resulting new column should not be added to the original data file (this would cause year values to shift to other rows). "
   ]
  },
  {
   "cell_type": "code",
   "execution_count": 89,
   "metadata": {},
   "outputs": [
    {
     "name": "stdout",
     "output_type": "stream",
     "text": [
      "birth_years are: \n",
      "['birthday', '1745', '1742', '1743', '1730', '1739', '', '1738', '1745', '1748', '1734', '1756', '', '1737', '1754', '1736', '', '1727', '1733', '1732']\n",
      "\n",
      "converted_years are: \n",
      "[1745, 1742, 1743, 1730, 1739, 1738, 1745, 1748, 1734, 1756, 1737, 1754, 1736, 1727, 1733, 1732, 1737, 1739, 1734, 1740]\n"
     ]
    }
   ],
   "source": [
    "converted_years = []\n",
    "\n",
    "for item in birth_years:\n",
    "    year = item\n",
    "    \n",
    "    # Try to convert birth years from string to integer.\n",
    "    try:\n",
    "        year = int(year)\n",
    "        converted_years.append(year)\n",
    "        \n",
    "    # If not possible, just ignore it —as this would mean there is either missing data or a strange value. \n",
    "    except Exception:\n",
    "        pass\n",
    "\n",
    "# Debug\n",
    "print(\"birth_years are: \\n\" + str(birth_years[0:20]) + \"\\n\")\n",
    "print(\"converted_years are: \\n\" + str(converted_years[0:20]))\n"
   ]
  },
  {
   "cell_type": "code",
   "execution_count": 90,
   "metadata": {},
   "outputs": [
    {
     "name": "stdout",
     "output_type": "stream",
     "text": [
      "[['last_name', 'first_name', 'birthday', 'M', 'type', 'state', 'party'], ['Bassett', 'Richard', '1745-04-02', 'M', 'sen', 'DE', 'Anti-Administration']]\n",
      "1745-04-02\n"
     ]
    }
   ],
   "source": [
    "print(data[0:2])\n",
    "print(data[1][2])"
   ]
  },
  {
   "cell_type": "markdown",
   "metadata": {},
   "source": [
    "## 12.6. Reload data to clean variable space for next exercises"
   ]
  },
  {
   "cell_type": "code",
   "execution_count": 91,
   "metadata": {
    "collapsed": true
   },
   "outputs": [],
   "source": [
    "# Open and read data to variable. The resulting variable is simply a long string, and thus, what is indexed is just letters of this string. \n",
    "data_string = open(\"legislators.csv\").read()\n",
    "\n",
    "# Split this long string by the row separator character. This assigns each row of data into a list item, and thus, allows each row to be indexed.\n",
    "data_splitted = data_string.split(\"\\n\")\n",
    "\n",
    "# Tokenize each row by using column separator character. This splits each row into sub-lists, and thus, allows not only rows, but also values in these rows (i.e., columns) to be indexed.\n",
    "data_tokenized = []\n",
    "for item in data_splitted:\n",
    "    item = item.split(\",\")\n",
    "    data_tokenized.append(item)\n",
    "\n",
    "# Assign the final version to data varialble. \n",
    "data = data_tokenized"
   ]
  },
  {
   "cell_type": "markdown",
   "metadata": {},
   "source": [
    "## 12.7.: Extract year from YYYY-MM-DD format and add it as a column to the end"
   ]
  },
  {
   "cell_type": "code",
   "execution_count": 92,
   "metadata": {},
   "outputs": [
    {
     "name": "stdout",
     "output_type": "stream",
     "text": [
      "data is: \n",
      "[['last_name', 'first_name', 'birthday', 'gender', 'type', 'state', 'party', 0], ['Bassett', 'Richard', '1745-04-02', 'M', 'sen', 'DE', 'Anti-Administration', 1745], ['Bland', 'Theodorick', '1742-03-21', '', 'rep', 'VA', '', 1742], ['Burke', 'Aedanus', '1743-06-16', '', 'rep', 'SC', '', 1743], ['Carroll', 'Daniel', '1730-07-22', 'M', 'rep', 'MD', '', 1730], ['Clymer', 'George', '1739-03-16', 'M', 'rep', 'PA', '', 1739], ['Contee', 'Benjamin', '', 'M', 'rep', 'MD', '', 0], ['Dalton', 'Tristram', '1738-05-28', '', 'sen', 'MA', 'Pro-Administration', 1738], ['Elmer', 'Jonathan', '1745-11-29', 'M', 'sen', 'NJ', 'Pro-Administration', 1745], ['Few', 'William', '1748-06-08', 'M', 'sen', 'GA', 'Anti-Administration', 1748]]\n",
      "\n"
     ]
    }
   ],
   "source": [
    "for row in data:\n",
    "    # extract birth year from the birthday column\n",
    "    birthdate_current = row[2]\n",
    "    birthdate_current_splitted = birthdate_current.split(\"-\")\n",
    "    birth_year_current = birthdate_current_splitted[0]\n",
    "    \n",
    "    # convert birth year to integer \n",
    "    try:\n",
    "        birth_year_current_converted = int(birth_year_current)\n",
    "    # if a value cannot be converted, change it to '0'\n",
    "    except Exception:\n",
    "        birth_year_current_converted = 0\n",
    "    row.append(birth_year_current_converted)\n",
    "   # row[2] = birth_year_current_converted\n",
    "\n",
    "print(\"data is: \\n\" + str(data[0:10]) + \"\\n\")\n"
   ]
  },
  {
   "cell_type": "code",
   "execution_count": 93,
   "metadata": {},
   "outputs": [
    {
     "name": "stdout",
     "output_type": "stream",
     "text": [
      "[0, 1745, 1742, 1743, 1730, 1739, 0, 1738, 1745, 1748]\n"
     ]
    }
   ],
   "source": [
    "a = []\n",
    "for row in data:\n",
    "    a.append(row[7])\n",
    "    \n",
    "print(a[0:10])"
   ]
  },
  {
   "cell_type": "markdown",
   "metadata": {},
   "source": [
    "## 12.8. Fill missing values by extrapolation to previous year "
   ]
  },
  {
   "cell_type": "markdown",
   "metadata": {},
   "source": [
    "Because the order of years in the data file are rougly in chronological \n",
    "order, this could be a good strategy to fill missing values."
   ]
  },
  {
   "cell_type": "code",
   "execution_count": 94,
   "metadata": {},
   "outputs": [
    {
     "name": "stdout",
     "output_type": "stream",
     "text": [
      "data is: \n",
      "[['last_name', 'first_name', 'birthday', 'gender', 'type', 'state', 'party', 0], ['Bassett', 'Richard', '1745-04-02', 'M', 'sen', 'DE', 'Anti-Administration', 1745], ['Bland', 'Theodorick', '1742-03-21', '', 'rep', 'VA', '', 1742]]\n",
      "...\n",
      "\n",
      "data_extrapolated is: \n",
      "[['last_name', 'first_name', 'birthday', 'gender', 'type', 'state', 'party', 0], ['Bassett', 'Richard', '1745-04-02', 'M', 'sen', 'DE', 'Anti-Administration', 1745], ['Bland', 'Theodorick', '1742-03-21', '', 'rep', 'VA', '', 1742]]\n",
      "...\n",
      "\n",
      "zeros_in_data []\n",
      "\n",
      "zeros_in_data_extrapolated []\n"
     ]
    }
   ],
   "source": [
    "data_extrapolated = data\n",
    "\n",
    "print(\"data is: \\n\" + str(data[0:3]) + \"\\n\" + \"...\" + \"\\n\")\n",
    "print(\"data_extrapolated is: \\n\" + str(data_extrapolated[0:3]) + \"\\n\" + \"...\" + \"\\n\")\n",
    "\n",
    "\n",
    "### What this loop does is strange: \n",
    "### It does not only change 'data_extrapolated', but also 'data', while it shouldn't\n",
    "### (See output, and see experiment cell below.)\n",
    "### Why is this??? \n",
    "#\n",
    "# Replace all 0 values with the previous values, and update the counter.\n",
    "last_value = 1\n",
    "for row in data_extrapolated: \n",
    "    if row[7] == 0:\n",
    "        row[7] = last_value\n",
    "    last_value = row[7]\n",
    "\n",
    "zeros_in_data = []\n",
    "for row in data:\n",
    "    if (row[7] == 0): \n",
    "        zeros_in_data.append(row[7])\n",
    "print(\"zeros_in_data \" + str(zeros_in_data))\n",
    "\n",
    "zeros_in_data_extrapolated = []\n",
    "for row in data:\n",
    "    if (row[7] == 0): \n",
    "        zeros_in_data_extrapolated.append(row[7])\n",
    "print(\"\\n\" + \"zeros_in_data_extrapolated \" + str(zeros_in_data))\n",
    "\n",
    "\n",
    "\n",
    "#y = []\n",
    "#for row in data_extrapolated:\n",
    "#    if (type(row[7]) != int) or (row[7] == 0): \n",
    "#        y.append(row[7])\n",
    "        \n",
    "        \n",
    "#print(\"x is \" + str(x))\n",
    "#print(\"y is \" + str(y))\n"
   ]
  },
  {
   "cell_type": "markdown",
   "metadata": {},
   "source": [
    "## 12.B. Experiment: Does the original variable change in Python when a copy of it is changed?\n",
    "\n",
    "No, it doesn't:"
   ]
  },
  {
   "cell_type": "code",
   "execution_count": 95,
   "metadata": {},
   "outputs": [
    {
     "name": "stdout",
     "output_type": "stream",
     "text": [
      "5\n",
      "5\n",
      "2\n",
      "5\n"
     ]
    }
   ],
   "source": [
    "a = 5\n",
    "print(a) \n",
    "#> 5\n",
    "\n",
    "b = a\n",
    "print(b)\n",
    "#>5\n",
    "\n",
    "if b == 5:\n",
    "    b = 2\n",
    "print (b)\n",
    "#>2\n",
    "\n",
    "print(a)\n",
    "#>5"
   ]
  },
  {
   "cell_type": "markdown",
   "metadata": {},
   "source": [
    "So why does the problem happen in \"Fill missing values by extrapolation to previous year\" section?"
   ]
  },
  {
   "cell_type": "code",
   "execution_count": 96,
   "metadata": {},
   "outputs": [
    {
     "ename": "SyntaxError",
     "evalue": "invalid syntax (<ipython-input-96-99076705f519>, line 1)",
     "output_type": "error",
     "traceback": [
      "\u001b[0;36m  File \u001b[0;32m\"<ipython-input-96-99076705f519>\"\u001b[0;36m, line \u001b[0;32m1\u001b[0m\n\u001b[0;31m    So why does tmhe problem happen in \"Fill missing values by extrapolation to previous year\" section\u001b[0m\n\u001b[0m         ^\u001b[0m\n\u001b[0;31mSyntaxError\u001b[0m\u001b[0;31m:\u001b[0m invalid syntax\n"
     ]
    }
   ],
   "source": [
    "So why does tmhe problem happen in \"Fill missing values by extrapolation to previous year\" section"
   ]
  },
  {
   "cell_type": "markdown",
   "metadata": {},
   "source": [
    "## 13. LIST COMPREHENSIONS AND 'ENUMERATE'"
   ]
  },
  {
   "cell_type": "markdown",
   "metadata": {},
   "source": [
    "## 13.1. Iterate over two lists simulteneously"
   ]
  },
  {
   "cell_type": "code",
   "execution_count": null,
   "metadata": {},
   "outputs": [],
   "source": [
    "ships = [\"Andrea Doria\", \"Titanic\", \"Lusitania\"]\n",
    "cars = [\"Ford Edsel\", \"Ford Pinto\", \"Yugo\"]\n",
    "\n",
    "for i, ship in enumerate(ships):\n",
    "    print(ship)\n",
    "    print(cars[i])\n",
    "    "
   ]
  },
  {
   "cell_type": "markdown",
   "metadata": {},
   "source": [
    "## 13.2. Merge two lists"
   ]
  },
  {
   "cell_type": "markdown",
   "metadata": {},
   "source": [
    "By iterating two lists simultaneously, items from one list can be added to their corresponding places in another list:"
   ]
  },
  {
   "cell_type": "code",
   "execution_count": null,
   "metadata": {},
   "outputs": [],
   "source": [
    "things = [[\"apple\", \"monkey\"], [\"orange\", \"dog\"], [\"banana\", \"cat\"]]\n",
    "print(\"original 'things':\" + str(things) + \"\\n\")\n",
    "\n",
    "trees = [\"cedar\", \"maple\", \"fig\"]\n",
    "\n",
    "for i, pair in enumerate(things):\n",
    "    pair.append(trees[i])\n",
    "print(\"modified 'things':\" + str(things) + \"\\n\")\n"
   ]
  },
  {
   "cell_type": "markdown",
   "metadata": {},
   "source": [
    "## 13.3. Practice: Compact notation for for loops (list comprehension) "
   ]
  },
  {
   "cell_type": "code",
   "execution_count": null,
   "metadata": {},
   "outputs": [],
   "source": [
    "apple_prices = [100, 101, 102, 105]\n",
    "\n",
    "apple_prices_doubled = [price*2 for price in apple_prices]\n",
    "print(\"apple_prices_doubled is: \" + str(apple_prices_doubled))\n",
    "\n",
    "apple_prices_lowered = [price-100 for price in apple_prices]\n",
    "print(\"apple_prices_lowered is: \" + str(apple_prices_lowered))\n"
   ]
  },
  {
   "cell_type": "markdown",
   "metadata": {},
   "source": [
    "## 13.4. Prepare data for next exercises"
   ]
  },
  {
   "cell_type": "code",
   "execution_count": null,
   "metadata": {},
   "outputs": [],
   "source": [
    "#------------------------------\n",
    "# Open, read, and tokenize data\n",
    "#------------------------------\n",
    "# Open and read data to variable. The resulting variable is simply a long string, and thus, what is indexed is just letters of this string. \n",
    "data_string = open(\"legislators.csv\").read()\n",
    "\n",
    "# Split this long string by the row separator character. This assigns each row of data into a list item, and thus, allows each row to be indexed.\n",
    "data_splitted = data_string.split(\"\\n\")\n",
    "\n",
    "# Tokenize each row by using column separator character. This splits each row into sub-lists, and thus, allows not only rows, but also values in these rows (i.e., columns) to be indexed.\n",
    "data_tokenized = []\n",
    "for item in data_splitted:\n",
    "    item = item.split(\",\")\n",
    "    data_tokenized.append(item)\n",
    "\n",
    "# Assign the final version to data varialble. \n",
    "data = data_tokenized\n",
    "\n",
    "#----------------------------------------------------------------------\n",
    "##Extract year from YYYY-MM-DD format and add it as a column to the end\n",
    "#----------------------------------------------------------------------\n",
    "for row in data:\n",
    "    # extract birth year from the birthday column\n",
    "    birthdate_current = row[2]\n",
    "    birthdate_current_splitted = birthdate_current.split(\"-\")\n",
    "    birth_year_current = birthdate_current_splitted[0]\n",
    "    \n",
    "    # convert birth year to integer \n",
    "    try:\n",
    "        birth_year_current_converted = int(birth_year_current)\n",
    "    # if a value cannot be converted, change it to '0'\n",
    "    except Exception:\n",
    "        birth_year_current_converted = 0\n",
    "    row.append(birth_year_current_converted)\n",
    "   # row[2] = birth_year_current_converted\n",
    "\n",
    "#---------------------------------------------------------------\n",
    "# Step #2: Fill missing values by extrapolation to previous year \n",
    "#---------------------------------------------------------------\n",
    "data_extrapolated = data\n",
    "\n",
    "last_value = 1\n",
    "for row in data_extrapolated: \n",
    "    if row[7] == 0:\n",
    "        row[7] = last_value\n",
    "    last_value = row[7]\n",
    "    \n",
    "print(\"data is: \\n\" + str(data[0:10]) + \"\\n\")\n"
   ]
  },
  {
   "cell_type": "markdown",
   "metadata": {},
   "source": [
    "## 13.5. (Step 1) Count occurences of female names after 1940"
   ]
  },
  {
   "cell_type": "code",
   "execution_count": null,
   "metadata": {},
   "outputs": [],
   "source": [
    "name_counts = {}\n",
    "\n",
    "for row in data:\n",
    "    if (row[3] == \"F\") and (row[7] > 1940):\n",
    "        name = row[1]\n",
    "        if name in name_counts:\n",
    "            name_counts[name] = name_counts[name] + 1\n",
    "        else:\n",
    "            name_counts[name] = 1\n",
    "            \n",
    "name_counts"
   ]
  },
  {
   "cell_type": "markdown",
   "metadata": {},
   "source": [
    "## 13.6. Practice: Ignore 'None' values and make a comparison "
   ]
  },
  {
   "cell_type": "code",
   "execution_count": null,
   "metadata": {},
   "outputs": [],
   "source": [
    "values = [None, 10, 20, 30, None, 50]\n",
    "checks = []\n",
    "\n",
    "for value in values:\n",
    "    if value is not None and value > 30:\n",
    "        checks.append(True)\n",
    "    else: \n",
    "        checks.append(False)\n",
    "print(checks)"
   ]
  },
  {
   "cell_type": "markdown",
   "metadata": {},
   "source": [
    "## 13.7. (Step 2): Find the most common name in a dictionary by iterating and using 'is not None'\n",
    "Step 8 in Dataquest "
   ]
  },
  {
   "cell_type": "code",
   "execution_count": null,
   "metadata": {},
   "outputs": [],
   "source": [
    "max_value = None\n",
    "\n",
    "for key in name_counts:\n",
    "    count = name_counts[key]\n",
    "    if max_value is None or count > max_value:\n",
    "        max_value = count\n",
    "print(max_value)"
   ]
  },
  {
   "cell_type": "markdown",
   "metadata": {},
   "source": [
    "## 13.8. Practice: Print both keys and values using .items method "
   ]
  },
  {
   "cell_type": "code",
   "execution_count": null,
   "metadata": {},
   "outputs": [],
   "source": [
    "plant_types = {\"orchid\": \"flower\", \"cedar\": \"tree\", \"maple\": \"tree\"}\n",
    "\n",
    "for key, value in plant_types.items():\n",
    "    print(key)\n",
    "    print(value)"
   ]
  },
  {
   "cell_type": "markdown",
   "metadata": {},
   "source": [
    "## 13.9 (Step 3) Create a list of most common female names "
   ]
  },
  {
   "cell_type": "code",
   "execution_count": null,
   "metadata": {},
   "outputs": [],
   "source": [
    "print(name_counts)\n"
   ]
  },
  {
   "cell_type": "code",
   "execution_count": null,
   "metadata": {},
   "outputs": [],
   "source": [
    "top_female_names = []\n",
    "\n",
    "for key, value in name_counts.items():\n",
    "    if value == 2:\n",
    "        top_female_names.append(key)\n",
    "print(top_female_names)\n",
    "        "
   ]
  },
  {
   "cell_type": "markdown",
   "metadata": {},
   "source": [
    "## 13.10. (Step 4) Find highest male name and the number of its occurences"
   ]
  },
  {
   "cell_type": "code",
   "execution_count": null,
   "metadata": {},
   "outputs": [],
   "source": [
    "print(\"data is: \\n\" + str(data[0:3]) + \"\\n\" + \"...\" + \"\\n\")"
   ]
  },
  {
   "cell_type": "code",
   "execution_count": null,
   "metadata": {},
   "outputs": [],
   "source": [
    "male_name_counts = {}\n",
    "for row in data:\n",
    "    name = row[1]\n",
    "    gender = row[3]\n",
    "    year = row[7]\n",
    "    if gender is \"M\" and year > 1940:\n",
    "        if name not in male_name_counts:\n",
    "            male_name_counts[name] = 1        \n",
    "        else:\n",
    "            male_name_counts[name] = male_name_counts[name] + 1\n",
    "\n",
    "print(\"male_name_counts is: \\n\" + str(male_name_counts))\n",
    "\n",
    "highest_male_count = 0\n",
    "top_male_names = []\n",
    "\n",
    "for key, value in male_name_counts.items():\n",
    "    if value > highest_male_count:\n",
    "        highest_male_count = value\n",
    "    if value == highest_male_count:\n",
    "        top_male_names = key\n",
    "        \n",
    "print(\"\\n\" + \"highest_male_count is: \" + str(highest_male_count))\n",
    "print(\"\\n\" + \"top_male_names is:  \" + str(top_male_names))\n",
    "\n"
   ]
  },
  {
   "cell_type": "markdown",
   "metadata": {},
   "source": [
    "## 14. NFL SUSPENSIONS CHALLENGE\n",
    "Dictionaries | Error Handling | List comprehensions | Classes | Methods"
   ]
  },
  {
   "cell_type": "markdown",
   "metadata": {},
   "source": [
    "## 14.1. (Step 1) Prepare the data file"
   ]
  },
  {
   "cell_type": "code",
   "execution_count": null,
   "metadata": {
    "collapsed": true
   },
   "outputs": [],
   "source": [
    "# Read csv to variable\n",
    "import csv\n",
    "data_initial = list(csv.reader(open(\"nfl_suspensions_data.csv\")))\n",
    "\n",
    "# Assign it to 'data'\n",
    "data = data_initial\n",
    "\n",
    "# Remove headers row\n",
    "data = data[1:len(data)]\n",
    "\n",
    "# Compliance line for Dataquest: \n",
    "nfl_suspensions = data"
   ]
  },
  {
   "cell_type": "markdown",
   "metadata": {},
   "source": [
    "## 14.2. (Step 2) Find yearly disribution of suspensions\n",
    "dictionary counter | try-except block"
   ]
  },
  {
   "cell_type": "code",
   "execution_count": null,
   "metadata": {},
   "outputs": [],
   "source": [
    "# Initiate counter dictionary\n",
    "years = {}\n",
    "\n",
    "# Iterate over data and...\n",
    "# Add years a keys, and occurences of these years as values.  \n",
    "for row in data:\n",
    "    row_year = row[5]\n",
    "    try: # Thi try-except block (and int line) should be omitted from dataquest submission.\n",
    "        int(row_year)\n",
    "        if row_year not in years:\n",
    "            years[row_year] = 1\n",
    "        else:\n",
    "            years[row_year] = years[row_year] + 1\n",
    "    except:\n",
    "        pass\n",
    "years"
   ]
  },
  {
   "cell_type": "markdown",
   "metadata": {},
   "source": [
    "## 14.3. (Step 3) Extract columns and list the unique values they contain\n",
    "list comprehension | set"
   ]
  },
  {
   "cell_type": "code",
   "execution_count": null,
   "metadata": {},
   "outputs": [],
   "source": [
    "unique_teams = []\n",
    "teams_column = [row[1] for row in data]\n",
    "unique_teams = list(set(teams_column))\n",
    "\n",
    "unique_games = []\n",
    "games_column = [row[2] for row in data]\n",
    "unique_games = list(set(games_column))\n",
    "\n",
    "print(\"Unique teams: \" + \"\\n\" + str(unique_teams) + \"\\n\")\n",
    "print(\"Unique games: \" + \"\\n\"  + str(unique_games))\n",
    "\n",
    "# Alternative way:\n",
    "#for row in data:\n",
    "#    row_team = row[1]\n",
    "#    if row_team not in unique_teams:\n",
    "#        unique_teams.append(row_team)\n",
    "#print(unique_teams)"
   ]
  },
  {
   "cell_type": "code",
   "execution_count": null,
   "metadata": {},
   "outputs": [],
   "source": [
    "print(data_initial[0])"
   ]
  },
  {
   "cell_type": "markdown",
   "metadata": {},
   "source": [
    "## 14.4. (Step 4) Create a class to allow indexing the dataset based on name, team, and games \n",
    "classes | class instantiation | class properties "
   ]
  },
  {
   "cell_type": "code",
   "execution_count": null,
   "metadata": {},
   "outputs": [],
   "source": [
    "class Suspension():\n",
    "    def __init__(self, row):\n",
    "        self.name = row[0]\n",
    "        self.team = row[1]\n",
    "        self.games = row[2]\n",
    "        \n",
    "third_suspension = Suspension(data[3])\n",
    "\n",
    "print(str(third_suspension.name) +  \"\\n\" + \n",
    "      str(third_suspension.team) + \"\\n\" + \n",
    "      str(third_suspension.games))\n"
   ]
  },
  {
   "cell_type": "markdown",
   "metadata": {},
   "source": [
    "## 14.5. (Step 5) Use a function that handles exceptions when initializing a property for an instance, and then make a method to return only that property when called \n",
    "try except block | methods | "
   ]
  },
  {
   "cell_type": "code",
   "execution_count": null,
   "metadata": {},
   "outputs": [],
   "source": [
    "class Suspension():\n",
    "    def __init__(self, row):\n",
    "        self.name = row[0]\n",
    "        self.team = row[1]\n",
    "        self.games = row[2]        \n",
    "        try:\n",
    "            self.year = int(row[5])\n",
    "        except:\n",
    "            self.year = 0\n",
    "        \n",
    "    def get_year(self):\n",
    "        return self.year        \n",
    "\n",
    "missing_year = Suspension(data[22])        \n",
    "\n",
    "twenty_third_year = missing_year.get_year()\n",
    "print(twenty_third_year)"
   ]
  },
  {
   "cell_type": "markdown",
   "metadata": {},
   "source": [
    "# 15. SCOPES "
   ]
  },
  {
   "cell_type": "markdown",
   "metadata": {},
   "source": [
    "<font color=red>This section is not organized for readability. See Scopes section in Code Portfolio for exercises.</font>"
   ]
  },
  {
   "cell_type": "code",
   "execution_count": null,
   "metadata": {
    "collapsed": true
   },
   "outputs": [],
   "source": [
    "principal_outstanding_240 = [954821, 1410608, 747267, 457312, 240798, 52874, 115167, 143488, 20745, 7204, 49416, 100765, 92661, 306848, 285286, 246591, 213790, 503169, 4642968, 1562286, 883084, 156983, 106016, 352401, 174837, 101487, 1480913, 780002, 57457, 677161, 410471, 306581, 160702, 137384, 42893, 192327, 368358, 413409, 2627201, 7623, 40583, 387238, 166389, 128307, 1931025, 78291, 171124, 12987, 1831573, 3204, 2736889, 25868, 0, 43391, 29951, 508955, 74378, 1383055, 136284, 902378, 19413, 22205, 438467, 69186, 924481, 144604, 1286559, 739788, 49545, 415383, 1567170, 26530, 1507779, 226457, 156661, 32923, 45767, 490576, 102842, 656452, 75476, 42484, 184385, 260076, 15543, 76511, 1061833, 222854, 267913, 584831, 612938, 449784, 1392341, 640880, 549890, 359853, 979950, 1891297, 1284364, 7581, 270026, 921490, 279561, 15845, 352836, 464515, 123415, 175004, 175631, 135632, 1294796, 188672, 80170, 132989, 66950, 63333, 59369, 251290, 61264, 99335, 50296, 115255, 147920, 312879, 76624, 35685, 214768, 112493, 260455, 12491, 250588, 130378, 75140, 85192, 64210, 1941152, 156737, 229499, 73321, 200706, 35307, 46771, 615283, 61568, 3750, 20125, 60980, 62793, 146256, 115268, 1095389, 22367, 81984, 497886, 504770, 169596, 285444, 49260, 51078, 21199, 104660, 163355, 519452, 183862, 1272485, 78862, 1811, 47204, 231111, 24338, 301370, 14555, 77308, 1307392, 673082, 286727, 61256, 138923, 206915, 4789, 355564, 40259, 124068, 77405, 669346, 242321, 28394, 1045652, 349531, 301343, 227077, 618, 53720, 6566, 297442, 470493, 53136, 19100, 690380, 169730, 1547865, 1350167, 19758, 208876, 35029, 725635, 0, 155002, 38302, 193842, 36515, 1382184, 2354070, 34051, 2175, 229978, 1606849, 2733426, 483376, 808017, 1744011, 636348, 2169260, 200422, 1760216, 930011, 655126, 685867, 1181833, 749017, 5629107, 1450806, 317016, 4291, 138382, 59946, 316721, 221580, 22548, 128532, 517934, 318114, 147022, 24020, 264659, 576247, 70690, 135712, 351025, 256764, 345369, 2751851, 1786318, 332207, 118846, 482684, 6882, 241296, 393731, 131640, 41146, 39697, 979006, 2958172, 258933, 7899, 61083, 824198, 154523, 5190, 1046294, 2699379, 573388, 686063, 1050937, 401079, 733152, 163779, 1200, 1053994, 300775, 421665, 200849, 17251, 22297, 19863, 314262, 155540, 36049, 270432, 247639, 84701, 1264236, 175507, 72353, 211725, 58236, 1814944, 1013563, 696694, 770733, 218512, 642423, 587881, 1735979, 950887, 773570, 50878, 178943, 2043883, 1185166, 850546, 30322, 178731, 747211, 59907, 20345, 6194, 23879, 1660072, 960221, 280829, 919435, 28742, 27312, 543343, 0, 349148, 87612, 186939, 593650, 14052, 77707, 528429, 440493, 137270, 41307, 486275, 565163, 7261, 587209, 1598810, 585495, 502307, 387933, 188281, 2859608, 139940, 11228, 409855, 119028, 205839, 398909, 983746, 10358, 213056, 26234, 1099234, 0, 903270, 2939499, 3540282, 1209448, 196934, 636434, 42664, 66562, 291790, 106875, 3382, 1390359, 154856, 67258, 153620, 108644, 75557, 2096341, 1770, 183625, 178638, 615399, 810604, 146007, 25167, 360613, 465215, 156888, 1397099, 64229, 126450, 105394, 1509820, 524549, 0, 1682670, 293145, 138442, 184550, 237205, 369592, 265971, 464637, 72603, 400220, 51958, 379434, 497926, 131690, 586930, 353485, 253501, 92726, 1267, 39155, 514953, 1538822, 126740, 25455, 0, 197722, 492146, 259123, 309850, 208571, 634858, 154498, 44823, 76174, 184222, 751188, 965791, 240813, 186632, 945, 1331811, 262840, 679683, 457812, 381741, 282080, 103774, 163741, 179508, 794525, 437138, 263110, 407420, 1399534, 1487625, 53019, 290136, 266285, 12546, 546841, 1716310, 201076, 366319, 53051, 342534, 280839, 1140152, 259655, 227260, 335387, 73555, 199913, 926640, 387296, 212638, 1137410, 32815502, 313495, 997877, 169589, 33727, 296552, 43185, 213739, 645126, 292744, 177598, 22605, 0, 650933, 1545783, 524529, 107979, 0, 304040, 168588, 372427, 113363, 178745, 24539, 1386044, 6526, 755516, 74141, 20555, 592466, 714199, 602718, 112716, 130048, 503838, 441129, 587140, 2613472, 241784, 100278, 430348, 1881743, 421362, 362567, 362212, 575048, 915146, 262576, 2296906, 101645, 126211, 260563, 4857, 1767200, 2261857, 20310, 1366452, 200506, 399859, 11041, 15585, 120005, 735508, 2092731, 9035, 78334, 287432, 238217, 248356, 464188, 112397, 251406, 52905, 173598, 310631, 1802867, 1868924, 68055, 54791, 141793, 327337, 853135, 312585, 333345, 306664, 218439, 255755, 423074, 273028, 183387, 127249, 839945, 127171, 17827, 169680, 175754, 115822, 357574, 309288, 81298, 308333, 544323, 1984846, 333960, 0, 688979, 436346, 340235, 47558, 923015, 359644, 585076, 1018611, 876929, 77548, 281648, 1238926, 519833, 430215, 117297, 302238, 1401566, 217616, 69844, 297814, 441936, 75147, 776884, 786609, 936444, 74503, 299212, 1639205, 129967, 184155, 1468191, 106748, 257605, 554080, 69709, 74988, 220929, 61655, 123613, 1075483, 220528, 77593, 1071285, 207593, 287413, 103480, 593659, 507591, 690132, 231479, 410009, 95760, 254326, 847968, 315864, 152406, 163036, 2032637, 1231073, 114959, 521136, 647883, 82049, 56291, 117919, 55164, 3500, 806137, 1665879, 408813, 1095703, 194838, 338856, 145729, 758346, 838440, 377651, 1346, 457057, 45716, 1008068, 1665308, 214919, 2009899, 2879239, 377193, 1228205, 688751, 624050, 294670, 320411, 122938, 363742, 298447, 159721, 339406, 401715, 44430, 322826, 898540, 952281, 2772638, 580286, 851088, 8955, 64902, 73381, 330809, 208585, 154461, 93038, 701673, 257812, 173723, 491732, 106835, 15117, 223019, 343198, 503700, 265706, 89358, 3172, 2842219, 117775, 120291, 29147, 372781, 175953, 297554, 222325, 668752, 1077586, 232515, 550243, 44670, 99964, 190835, 115110, 919159, 335456, 151490, 254100, 471885, 391178, 9414, 817681, 335825, 887103, 3042586, 1606270, 379193, 1252939, 50030, 423513, 465230, 884318, 301470, 536669, 259481, 50397, 575725, 272080, 202333, 887272, 392918, 64478, 1423539, 452493, 515732, 485997, 422719, 103634, 589176, 135076, 877357, 1727110, 581733, 46915, 277132, 55658, 389154, 55869, 2456, 2600739, 944760, 315603, 462294, 3194708, 279082, 605090, 661900, 96391, 170903, 86180, 362851, 38516, 156461, 140852, 167003, 188296, 277710, 7506, 1925288, 294611, 400425, 164935, 120635, 224122, 1817936, 1357433, 439733, 349060, 208586, 26603, 564737, 74883, 447865, 9868, 498404, 452764, 260699, 2152854, 387016, 3461827, 379132, 0, 51672, 728924, 589742, 180278, 310982, 221265, 1306508, 4640714, 621754, 3754, 3253933, 131605, 676016, 316552, 0, 434390, 347673, 2743427, 3534219, 31245, 65420, 1571459, 1105032, 13534, 81916, 547551, 563054, 31545, 113404, 276345, 14933, 281900, 346160, 1084688, 544421, 235351, 63141, 714985, 175315, 10136, 226411, 153851, 468144, 10506, 70889, 35028, 118102, 347263, 57251, 562578, 6604022, 31257, 0, 213888, 284933, 13984, 280486, 710317, 10606, 244444, 11886, 59863, 186972, 34455, 347648, 430905, 158022, 1113836, 488332, 71471, 876290, 103186, 1556777, 255563, 4849, 271047, 470923, 68238, 48788, 284706, 124965, 262151, 165117, 197098, 233190, 81620, 364805, 345234, 68034, 95420, 312616, 32324, 20276, 345202, 1147976, 127011, 707588, 245627, 685063, 847672, 599461, 115360, 207828, 44533, 0, 360100, 38494, 976678, 65119, 869512, 1206868, 335212, 283065, 1058337, 876800, 1219717, 493954, 1427003, 413997, 144545, 420647, 199661, 846454, 145033, 131784, 520614, 32261, 2165201, 3527, 21889, 294227, 456979, 2325078, 212997, 468106, 493242, 1736461, 3716972, 113659, 264629, 49745, 28895, 1009951, 304795, 1182032, 193776, 157235, 240125, 1491834, 174041, 620726, 539015, 37522, 234210, 109772, 12710, 671969, 343377, 294057, 972, 1294134, 1679377, 545081, 273932, 562085, 844271, 321227, 571017, 348445, 159, 666017, 215360, 82742, 196690, 346538, 560954, 133473, 123267, 140391, 208762, 453445, 2906792, 1099665, 294266, 418408, 75977, 4367307, 51129, 1079241, 304077, 12837, 257841, 2372042, 1038730, 737854, 383808, 616781, 120264, 552842, 25415, 584461, 436839, 112750, 93081, 174084, 337077, 113485, 211066, 3724, 512869, 454182, 599310, 445096, 102378, 2485516, 166856, 73703, 81982, 123937, 263195, 871323, 102250, 145571, 560500, 663699, 2626, 122932, 158140, 1609679, 151881, 828281, 73890, 47808, 299404, 60068, 229563, 973941, 1142309, 60825, 1777047, 353896, 27428, 73920, 70092, 652326, 214430, 437870, 25678, 71849, 236212, 437756, 1439695, 106716, 76345, 150873, 33694, 334150, 1091519, 417816, 782162, 355399, 2315151, 17836, 556525, 69419, 938723, 1434300, 692718, 554593, 7260, 45129, 246357, 29871, 85256, 478378, 622160, 1335688, 512356, 6612083, 107351, 2857392, 980197, 29391, 536930, 327038, 28900, 2576881, 216675, 352159, 26942, 2016944, 84389, 148586, 361918, 1496118, 554330, 51206, 196038, 489387, 315314, 58580, 520911, 185920, 596941, 7700, 86760, 237188, 121282, 729377, 393326, 1088167, 5124, 594035, 202662, 190121, 1434475, 125223, 7174719, 58150, 1280980, 313779, 15207868, 501567, 98177, 683281, 96304, 336370, 420605, 402242, 1444525, 16348, 145127, 558670, 87695, 44144, 228209, 1344437, 294477, 623545, 42823, 376547, 143405, 350097, 312709, 28411, 1408253, 271997, 300329, 321525, 117088, 675427, 122158, 167075, 0, 20802, 335220, 225655, 106532, 167203, 82628, 56298, 1740118, 112329, 395583, 1845652, 737325, 478698, 10380002, 1700, 397479, 32631, 13552, 215996, 123235, 0, 2331151, 233063, 812787, 2986918, 8328, 1128911, 385916, 3589857, 38244, 630529, 78978, 444110, 3127930, 188953, 71991, 181334, 53622, 910345, 159794, 389300, 458325, 240436, 1767626, 2089055, 1069918, 966669, 1103683, 397754, 564615, 242728, 93133, 44892, 456273, 593459, 1107694, 1975140, 204449, 399548, 136044, 1096709, 887485, 256100, 373744, 412875, 109157, 12552, 623893, 529635, 429850, 189765, 199605, 213786, 1847930, 407022, 276305, 260480, 458757, 285518, 885460, 163351, 197217, 55112, 19007, 446009, 92839, 756223, 0, 64212, 1808711, 15682, 195635, 246578, 426176, 1410129, 180572, 313858, 511544, 216171, 284879, 0, 262091, 174503, 2749766, 172025, 408243, 742553, 35025, 114876, 29049, 215526, 272388, 5880, 115749, 554347, 989816, 155671, 709121, 5127382, 137633, 44748, 399162, 70124, 17256, 48611, 186216, 316104, 991, 1391220, 1562, 205283, 374845, 21931, 123517, 1625947, 318573, 199470, 867735, 34847, 6936334, 706702, 1444470, 412350, 533066, 42605, 367882, 68258, 100847, 864749, 2251171, 5591425, 949289, 575638, 279062, 168263, 2497532, 725543, 133236, 311099, 834669, 619235, 475167, 1788242, 218923, 612774, 50626, 598248, 604666, 107726, 121596, 29892, 114453, 1501033, 182838, 0, 218449, 613045, 775119, 26726, 1645507, 63649, 1091346, 126017, 3741070, 27249, 492265, 2137693, 654228, 1897445, 65874, 772695, 39553, 909172, 209661, 152428, 188003, 380375, 257071, 1708482, 165587, 357276, 26450, 196300, 579463, 98173, 155962, 172115, 1864004, 270769, 1072376, 1165332, 111349, 724382, 65172, 2119849, 279387, 356715, 139529, 693626, 602839, 629855, 610168, 147321, 102001, 232128, 1040779, 769997, 918007, 229456, 184401, 247412, 71045, 180410, 709909, 190478, 1090734, 45798, 193517, 208536, 303269, 136241, 29342, 513926, 253347, 359871, 2290534, 663617, 523497, 245909, 510967, 61601, 299641, 358095, 282179, 44967, 65023, 350592, 36154, 218256, 137681, 1385300, 97111, 66025, 830106, 322787, 564862, 296072, 693871, 115213, 212038, 42165, 195168, 214881, 50106, 1489882, 204592, 425750, 144092, 297787, 230093, 452637, 309946, 259809, 227394, 356301, 275567, 118393, 86473, 101282, 71505, 5768001, 140728, 294149, 5950, 351661, 263223, 258607, 498336, 465360, 178243, 247771, 211722, 424334, 1035918, 158931, 121190, 7660352, 731668, 486741, 15988, 5600141, 3244015, 322180, 518725, 386798, 342985, 85154, 207358, 423098, 224290, 907936, 80136, 1158732, 691664, 290248, 15894, 124096, 48893, 4247534, 5493640, 11217, 57909, 38302, 27758, 42943, 293129, 58915, 13712, 319588, 19365, 15780, 1384435, 885971, 455284, 16011647, 480138, 1263256, 577739, 365756, 351828, 47238, 2241281, 63378, 425600, 544564, 1024066, 87267, 849638, 623249, 337836, 222979, 437961, 181568, 101991, 128520, 131747, 29446, 159927, 321694, 319001, 80188, 119300, 426081, 368921, 112713, 294725, 553665, 182918, 254150, 73179, 739610, 188170, 96313, 377840, 297426, 47523, 466251, 265544, 151668, 437574, 165341, 69027, 98727, 361788, 282066, 225140, 142701, 309508, 351141, 953652, 372405, 176227, 150463, 242852, 477368, 158887, 75830, 1717513, 597575, 388892, 53522, 159930, 279053, 630809, 432914, 218775, 504456, 659939, 1053665, 171125, 121962, 114067, 9671, 267039, 596620, 48948, 109920, 2587923, 90870, 695771, 85246, 269899, 301008, 90558, 900343, 3266710, 621971, 705236, 181892, 877133, 12952, 62754, 248781, 58629, 29465, 2125797, 10542, 46818, 362394, 137905, 915091, 117160, 105501, 622158, 88473, 20068, 1369, 2126, 28370, 23655, 608318, 1897, 7615, 396863, 262023, 4751, 50536, 530418, 295795, 1108468, 170814, 180888, 16197, 545346, 241691, 0, 598585, 33299, 497618, 766660, 460579, 1482325, 219490, 15486, 1469274, 206251, 45588, 425010, 6980, 455366, 1263161, 676582, 347488, 20893, 2613726, 203203, 304192, 432037, 862246, 307034, 839479, 1212473, 0, 488016, 189802, 332483, 521022, 429114, 338426, 1869834, 264048, 349214, 718964, 158015, 172880, 885947, 632540, 7072509, 409123, 705955, 401121, 116001, 228736, 645850, 238509, 958484, 508782, 129247, 39618, 35714, 10832, 774894, 270759, 736156, 67442, 75963, 466104, 336198, 958339, 123602, 1110692, 405557, 18829, 656178, 323738, 105337, 424181, 129779, 1178809, 247234, 413203, 461429, 383295, 208402, 1806785, 348426, 221100, 96546, 201752, 327873, 151899, 13798, 854125, 1859233, 1314387, 276451, 393479, 288937, 98611, 191817, 454956, 261195, 8377, 207597, 50720, 100195, 173120, 1573645, 26289, 4380615, 113720, 95750, 894053, 938379, 588600, 151257, 142929, 46100, 140189, 682289, 197181, 31436, 49929, 182245, 226214, 902883, 20347, 713226, 243864, 209462, 586147, 272529, 179897, 760934, 25934, 0, 9805, 919925, 147785, 782980, 1060015, 514799, 124358, 16756, 159693, 791896, 55032, 16336, 198412, 947, 568619, 780635, 3368511, 3278265, 332724, 236854, 3024082, 1398027, 121730, 170221, 0, 192756, 736732, 267614, 148465, 472922, 105471, 578843, 119974, 328514, 246049, 1575615, 110311, 21015, 245398, 317022, 363676, 489593, 221029, 1017396, 277384, 264003, 3404244, 1425793, 382154, 334356, 365331, 630442, 954671, 621931, 157703, 823565, 281267, 402269, 1100335, 481292, 566623, 466802, 211607, 566148, 1366466, 227666, 189838, 673794, 324018, 345717, 491500, 30669, 590018, 284118, 104032, 47780, 273494, 4757247, 409676, 338600, 17064, 718258, 3700020]\n",
    "borrower_default_count_240 = [1606, 1567, 269, 184, 93, 75, 52, 88, 12, 5, 36, 154, 155, 104, 149, 278, 186, 223, 3546, 580, 331, 102, 106, 232, 86, 83, 822, 268, 43, 323, 258, 114, 63, 41, 41, 53, 674, 278, 883, 22, 23, 253, 217, 54, 892, 79, 155, 5, 598, 2, 2112, 54, 0, 32, 20, 251, 46, 553, 73, 435, 12, 17, 120, 84, 815, 157, 338, 264, 24, 69, 405, 8, 757, 44, 117, 18, 25, 197, 96, 339, 45, 20, 64, 132, 8, 20, 253, 48, 53, 162, 313, 197, 402, 337, 221, 97, 440, 1000, 549, 3, 72, 260, 114, 6, 111, 109, 61, 115, 104, 72, 889, 45, 19, 30, 70, 56, 36, 128, 33, 55, 25, 51, 59, 132, 174, 31, 184, 111, 235, 14, 179, 124, 58, 87, 50, 1333, 137, 157, 21, 148, 41, 45, 203, 12, 5, 42, 6, 66, 62, 50, 406, 20, 24, 166, 164, 58, 240, 26, 38, 15, 66, 192, 365, 153, 312, 88, 2, 69, 121, 32, 127, 11, 48, 679, 324, 131, 37, 91, 47, 7, 136, 24, 55, 22, 261, 131, 19, 211, 73, 130, 49, 1, 86, 2, 158, 78, 85, 10, 190, 36, 936, 334, 18, 135, 59, 184, 0, 41, 24, 45, 5, 172, 329, 13, 2, 102, 714, 845, 63, 330, 627, 361, 907, 17, 614, 485, 409, 217, 315, 205, 1838, 368, 157, 4, 104, 55, 57, 65, 16, 84, 168, 78, 38, 16, 153, 460, 54, 27, 286, 110, 77, 961, 753, 200, 85, 277, 6, 33, 169, 104, 40, 57, 882, 1018, 150, 3, 21, 502, 53, 9, 320, 876, 192, 156, 581, 209, 409, 91, 2, 598, 131, 323, 139, 9, 19, 9, 181, 181, 16, 138, 110, 42, 615, 112, 92, 55, 25, 626, 568, 410, 313, 53, 146, 293, 287, 427, 403, 27, 75, 599, 179, 275, 63, 58, 477, 29, 19, 5, 19, 51, 462, 190, 898, 22, 10, 246, 0, 485, 41, 142, 168, 14, 33, 602, 160, 92, 27, 186, 464, 8, 295, 550, 193, 237, 418, 114, 1534, 155, 57, 151, 66, 93, 166, 367, 14, 128, 19, 301, 0, 380, 988, 1458, 675, 162, 267, 20, 46, 243, 159, 9, 1368, 136, 18, 86, 138, 63, 827, 2, 133, 88, 125, 591, 47, 13, 101, 295, 78, 701, 43, 109, 61, 397, 142, 0, 1243, 47, 62, 82, 269, 325, 138, 386, 44, 201, 32, 116, 476, 57, 217, 175, 184, 66, 1, 37, 208, 442, 71, 17, 0, 205, 183, 164, 216, 120, 197, 93, 17, 35, 77, 158, 438, 189, 35, 2, 594, 154, 905, 139, 104, 40, 77, 95, 111, 221, 159, 138, 84, 789, 574, 44, 183, 140, 4, 276, 928, 82, 279, 26, 179, 65, 564, 106, 150, 180, 22, 99, 724, 1169, 169, 307, 20728, 132, 531, 99, 21, 318, 21, 70, 285, 168, 126, 1, 0, 222, 772, 233, 74, 0, 235, 52, 154, 47, 83, 20, 606, 6, 391, 56, 8, 213, 527, 282, 51, 83, 353, 188, 260, 433, 148, 69, 214, 1114, 212, 65, 52, 288, 418, 90, 1070, 67, 72, 167, 4, 391, 954, 12, 767, 91, 222, 9, 8, 57, 299, 935, 4, 79, 117, 103, 82, 194, 35, 83, 40, 89, 188, 907, 627, 42, 55, 93, 161, 638, 237, 201, 156, 84, 259, 165, 135, 89, 54, 350, 47, 13, 42, 89, 94, 146, 186, 33, 85, 377, 361, 166, 0, 219, 284, 114, 43, 389, 140, 212, 630, 259, 75, 207, 470, 206, 160, 30, 189, 832, 149, 32, 191, 150, 64, 325, 379, 317, 22, 140, 442, 86, 149, 762, 177, 124, 124, 42, 122, 88, 28, 55, 411, 61, 65, 1041, 96, 142, 14, 337, 302, 404, 164, 228, 67, 163, 437, 176, 78, 124, 1495, 426, 54, 121, 223, 66, 55, 30, 126, 3, 306, 1081, 350, 269, 131, 125, 31, 265, 349, 178, 1, 203, 43, 660, 2955, 255, 529, 672, 141, 573, 489, 455, 70, 160, 62, 247, 79, 108, 171, 209, 31, 106, 410, 232, 1046, 161, 628, 6, 31, 82, 96, 145, 55, 66, 485, 186, 74, 227, 129, 18, 144, 233, 301, 141, 29, 2, 402, 73, 65, 15, 194, 89, 172, 165, 82, 300, 173, 214, 17, 20, 87, 148, 396, 137, 412, 170, 149, 172, 4, 323, 139, 177, 1266, 633, 202, 678, 4, 116, 206, 384, 247, 264, 142, 13, 183, 234, 394, 534, 118, 79, 984, 367, 165, 203, 68, 88, 345, 77, 492, 945, 281, 13, 107, 21, 161, 21, 2, 559, 401, 73, 302, 1433, 201, 269, 343, 32, 39, 18, 90, 37, 90, 97, 64, 139, 207, 4, 846, 175, 237, 96, 119, 197, 525, 567, 214, 132, 121, 75, 211, 68, 181, 6, 163, 138, 153, 1188, 323, 1410, 302, 0, 31, 392, 214, 39, 220, 167, 991, 2810, 178, 9, 1910, 53, 276, 223, 0, 168, 141, 1309, 1136, 57, 122, 695, 542, 8, 54, 101, 190, 8, 58, 51, 10, 52, 175, 407, 151, 103, 27, 223, 74, 9, 75, 20, 109, 7, 43, 42, 60, 139, 19, 242, 184, 11, 0, 118, 133, 7, 105, 162, 6, 117, 12, 33, 106, 15, 99, 96, 101, 360, 234, 40, 330, 36, 521, 97, 3, 89, 285, 14, 13, 238, 117, 267, 148, 61, 139, 44, 218, 198, 64, 42, 133, 3, 14, 230, 256, 88, 385, 627, 294, 641, 437, 89, 66, 34, 0, 239, 7, 236, 24, 340, 557, 114, 149, 460, 440, 679, 479, 233, 147, 74, 201, 95, 1695, 62, 75, 389, 93, 2385, 4, 55, 111, 225, 629, 81, 1037, 721, 623, 1167, 106, 131, 24, 24, 584, 218, 581, 74, 88, 129, 907, 137, 271, 274, 23, 204, 72, 8, 326, 90, 186, 1, 283, 736, 761, 94, 237, 315, 148, 126, 161, 3, 565, 111, 40, 71, 177, 261, 76, 89, 103, 135, 328, 1812, 587, 195, 264, 74, 891, 7, 843, 211, 31, 86, 572, 420, 246, 179, 192, 52, 126, 12, 190, 277, 125, 77, 101, 130, 100, 158, 2, 283, 186, 434, 179, 107, 815, 95, 73, 33, 57, 41, 197, 105, 141, 268, 246, 2, 103, 72, 1034, 98, 262, 22, 35, 163, 18, 103, 154, 448, 50, 857, 181, 42, 61, 65, 296, 224, 301, 28, 55, 83, 252, 785, 28, 100, 124, 32, 203, 470, 181, 175, 957, 1258, 13, 523, 97, 534, 635, 476, 399, 8, 26, 61, 7, 46, 428, 308, 719, 590, 2787, 66, 1068, 356, 15, 67, 299, 17, 961, 82, 86, 13, 846, 22, 29, 97, 612, 291, 27, 94, 212, 139, 49, 82, 19, 236, 2, 17, 146, 16, 571, 133, 598, 7, 195, 39, 150, 499, 53, 1795, 15, 329, 157, 8484, 364, 58, 383, 68, 228, 180, 168, 667, 12, 31, 166, 101, 42, 41, 653, 168, 340, 28, 206, 31, 209, 172, 4, 715, 113, 165, 253, 50, 248, 162, 48, 0, 6, 220, 143, 73, 13, 54, 49, 778, 24, 71, 735, 178, 16, 3541, 3, 240, 50, 20, 181, 63, 0, 860, 161, 357, 1617, 6, 238, 242, 1018, 71, 341, 50, 323, 1296, 56, 49, 64, 78, 523, 54, 93, 249, 70, 909, 1341, 696, 645, 723, 273, 333, 66, 60, 17, 270, 430, 722, 882, 161, 256, 144, 513, 622, 162, 298, 435, 51, 6, 554, 430, 345, 88, 101, 206, 474, 100, 159, 172, 94, 78, 283, 173, 57, 50, 17, 211, 42, 289, 0, 72, 559, 9, 105, 125, 354, 659, 73, 148, 197, 101, 306, 0, 129, 37, 1032, 130, 77, 267, 25, 171, 42, 127, 109, 5, 84, 378, 254, 35, 339, 2576, 58, 27, 189, 41, 75, 28, 147, 175, 3, 620, 1, 176, 223, 6, 85, 579, 47, 124, 429, 23, 3523, 685, 800, 153, 355, 17, 244, 51, 110, 369, 1422, 2365, 260, 615, 200, 116, 1068, 454, 114, 221, 386, 299, 167, 883, 98, 311, 48, 262, 393, 158, 86, 18, 99, 567, 262, 0, 138, 296, 255, 14, 430, 7, 483, 77, 849, 17, 213, 1059, 419, 722, 52, 159, 41, 502, 131, 93, 88, 224, 153, 787, 46, 89, 9, 59, 331, 38, 48, 82, 684, 91, 632, 386, 32, 458, 44, 831, 84, 92, 48, 497, 101, 372, 227, 64, 56, 161, 1053, 423, 428, 88, 51, 74, 72, 119, 440, 190, 368, 38, 110, 131, 349, 54, 58, 333, 71, 97, 1293, 647, 220, 227, 475, 45, 101, 155, 189, 14, 37, 227, 9, 245, 87, 1014, 62, 43, 455, 171, 294, 205, 353, 90, 49, 31, 110, 174, 23, 1481, 167, 211, 97, 239, 144, 187, 165, 90, 127, 160, 132, 156, 27, 93, 49, 2230, 69, 415, 5, 333, 188, 104, 321, 247, 91, 52, 124, 233, 816, 52, 49, 4986, 513, 98, 22, 945, 2081, 96, 268, 119, 170, 53, 68, 252, 272, 250, 30, 600, 320, 102, 6, 219, 90, 3843, 2478, 7, 41, 41, 16, 28, 318, 40, 18, 278, 15, 11, 399, 178, 212, 5688, 177, 742, 147, 341, 240, 38, 1074, 37, 215, 395, 509, 27, 836, 250, 120, 108, 297, 68, 35, 37, 56, 19, 44, 73, 169, 34, 57, 445, 181, 48, 143, 508, 73, 100, 35, 292, 85, 59, 426, 221, 33, 135, 152, 114, 298, 98, 27, 63, 262, 84, 152, 83, 140, 253, 784, 153, 130, 91, 75, 176, 62, 57, 652, 315, 181, 33, 74, 143, 325, 253, 98, 146, 106, 542, 154, 81, 43, 17, 325, 240, 11, 407, 2360, 55, 226, 44, 101, 140, 52, 641, 1232, 254, 296, 48, 214, 21, 106, 114, 11, 21, 1570, 5, 54, 99, 17, 269, 129, 128, 482, 79, 74, 1, 7, 10, 25, 354, 5, 6, 253, 113, 9, 61, 211, 250, 729, 67, 102, 42, 294, 92, 0, 318, 11, 359, 187, 117, 508, 112, 43, 161, 168, 23, 120, 84, 96, 427, 370, 123, 49, 1096, 60, 147, 164, 404, 170, 489, 734, 0, 145, 73, 87, 130, 406, 137, 693, 112, 123, 262, 46, 69, 237, 244, 1732, 204, 204, 216, 44, 91, 250, 79, 50, 170, 54, 21, 8, 18, 730, 95, 395, 41, 24, 219, 111, 345, 47, 438, 205, 10, 216, 154, 25, 146, 13, 708, 148, 312, 377, 191, 55, 1004, 152, 126, 73, 133, 180, 71, 12, 527, 1310, 848, 140, 152, 125, 46, 90, 263, 65, 5, 123, 11, 23, 50, 429, 19, 1738, 34, 37, 269, 686, 688, 79, 50, 40, 65, 518, 140, 36, 28, 193, 250, 153, 14, 193, 111, 117, 386, 58, 215, 520, 8, 0, 5, 396, 53, 279, 421, 113, 53, 11, 108, 368, 22, 5, 154, 1, 212, 312, 206, 785, 163, 102, 1311, 488, 22, 61, 0, 89, 143, 193, 39, 324, 72, 311, 39, 89, 117, 372, 18, 22, 74, 137, 101, 191, 69, 272, 138, 139, 1076, 599, 153, 172, 144, 342, 359, 158, 102, 427, 94, 218, 477, 353, 380, 309, 143, 404, 693, 73, 131, 224, 244, 131, 278, 24, 285, 122, 146, 14, 140, 2084, 164, 164, 33, 411, 2372]"
   ]
  },
  {
   "cell_type": "code",
   "execution_count": null,
   "metadata": {},
   "outputs": [],
   "source": [
    "def find_average(column):\n",
    "    length = len(column)\n",
    "    total = sum(column)\n",
    "    return total / length\n",
    "\n",
    "total = sum(borrower_default_count_240)\n",
    "\n",
    "average = find_average(principal_outstanding_240)\n",
    "print(total)"
   ]
  },
  {
   "cell_type": "code",
   "execution_count": null,
   "metadata": {},
   "outputs": [],
   "source": [
    "def find_length(column):\n",
    "    length = len(column)\n",
    "    return length\n",
    "\n",
    "def find_average(column):\n",
    "    length = len(column)\n",
    "    total = sum(column)\n",
    "    return total / length\n",
    "\n",
    "length = len(borrower_default_count_240)\n",
    "\n",
    "average = find_average(principal_outstanding_240)\n",
    "principal_length = find_length(principal_outstanding_240)\n",
    "print(length)"
   ]
  },
  {
   "cell_type": "code",
   "execution_count": null,
   "metadata": {},
   "outputs": [],
   "source": [
    "def find_average(column):\n",
    "    total = sum(column)\n",
    "    # In this function, we are going to pretend that we forgot to calculate the length\n",
    "    return total / length\n",
    "\n",
    "length = 10\n",
    "\n",
    "average = find_average(principal_outstanding_240)\n",
    "print(length)"
   ]
  },
  {
   "cell_type": "code",
   "execution_count": null,
   "metadata": {},
   "outputs": [],
   "source": [
    "def my_function():\n",
    "    global b\n",
    "    b = 20\n",
    "    \n",
    "my_function()\n",
    "\n",
    "print(b)\n",
    "    "
   ]
  },
  {
   "cell_type": "markdown",
   "metadata": {},
   "source": [
    "# 16. REGULAR EXPRESSIONS"
   ]
  },
  {
   "cell_type": "code",
   "execution_count": null,
   "metadata": {
    "collapsed": true
   },
   "outputs": [],
   "source": [
    "strings = [\"data science\", \"big data\", \"metadata\"]\n",
    "regex = \"data\" # matches all 3 strings in the list\n",
    "\n",
    "strings = [\"bat\", \"robotics\", \"megabyte\"]\n",
    "regex = \"b.t\" # matches all 3 strings in the list\n",
    "\n",
    "strings = [\"better not put too much\", \"butter in the\", \"batter\"]\n",
    "bad_string = \"We also wouldn't want it to be bitter\"\n",
    "regex = \"^b.tter\" # matches all 3 strings in the list"
   ]
  },
  {
   "cell_type": "markdown",
   "metadata": {},
   "source": [
    "## 16.1. Reddit dataset: Read and prepare"
   ]
  },
  {
   "cell_type": "code",
   "execution_count": null,
   "metadata": {},
   "outputs": [],
   "source": [
    "import csv\n",
    "posts_with_header = list(csv.reader(open(\"askreddit_2015.csv\", encoding=\"utf8\")))\n",
    "posts = posts_with_header[1:len(posts_with_header)]\n",
    "\n",
    "rows = []\n",
    "for row in posts:\n",
    "    rows.append(row)\n",
    "\n",
    "print(rows[0:2])"
   ]
  },
  {
   "cell_type": "markdown",
   "metadata": {},
   "source": [
    "## 16.2. Perform a regex search to find questions that have a specified keyword in them "
   ]
  },
  {
   "cell_type": "markdown",
   "metadata": {},
   "source": [
    "As it is used as a way of asking questions, \"of Reddit\" keyword would list the questions that are asked to specific user groups in reddit. For instance, \"PhDs of reddit\", \"Botanists of Reddit\", and so on..."
   ]
  },
  {
   "cell_type": "code",
   "execution_count": null,
   "metadata": {},
   "outputs": [],
   "source": [
    "data = posts\n",
    "import re\n",
    "\n",
    "question_strings = []\n",
    "for row in data:\n",
    "    question_strings.append(row[0])\n",
    "print(\"question_strings are: \"+ str(question_strings[0:2]) + \"\\n ...\")\n",
    "\n",
    "\n",
    "of_reddit_count = 0    \n",
    "for question_string in question_strings:\n",
    "    if re.search(\"of Reddit\", question_string):\n",
    "        of_reddit_count = of_reddit_count + 1\n",
    "\n",
    "print(of_reddit_count)\n"
   ]
  },
  {
   "cell_type": "markdown",
   "metadata": {},
   "source": [
    "## 16.3. Account for differences in capitalization\n",
    "**'Alternative characters' enclosure \"[ ]\"**"
   ]
  },
  {
   "cell_type": "code",
   "execution_count": null,
   "metadata": {},
   "outputs": [],
   "source": [
    "of_reddit_count_old = of_reddit_count\n",
    "\n",
    "of_reddit_count = 0    \n",
    "for question_string in question_strings:\n",
    "    if re.search(\"of [Rr]eddit\", question_string):\n",
    "        of_reddit_count = of_reddit_count + 1\n",
    "print(of_reddit_count)"
   ]
  },
  {
   "cell_type": "markdown",
   "metadata": {},
   "source": [
    "## 16.4. Use escape character to find a pattern with special characters\n",
    "**Escape character (\"\\\")**"
   ]
  },
  {
   "cell_type": "markdown",
   "metadata": {},
   "source": [
    "\"Our data set contains a lot of posts that use the [Serious] tag. AskReddit members use this tag to indicate that they're not looking for humorous responses, and that their question should be taken seriously. We'd like to search through our data set to see how many posts have this tag, but the regex \"[Serious]\" doesn't do what we need. Since square brackets serve a special function within regular expressions, \"[Serious]\" will match any string that contains \"S\", \"e\", \"r\", etc.\n",
    "\n",
    "To deal with this sort of problem, we need to escape special characters. In regular expressions, escaping a character means indicating that you don't want the character to do anything special, and that the interpreter should treat it just like any other character. We use the backslash (\"\\\") to escape characters in a regex.\" (From DQ)"
   ]
  },
  {
   "cell_type": "markdown",
   "metadata": {},
   "source": [
    "When searching for the pattern, account for capitalization and square brackets: "
   ]
  },
  {
   "cell_type": "code",
   "execution_count": null,
   "metadata": {},
   "outputs": [],
   "source": [
    "import re\n",
    "data = posts\n",
    "\n",
    "serious_count = 0\n",
    "for row in data:\n",
    "    if re.search(\"\\[[Ss]erious\\]\", row[0]):\n",
    "        serious_count = serious_count + 1\n",
    "print(serious_count)"
   ]
  },
  {
   "cell_type": "markdown",
   "metadata": {},
   "source": [
    "When searching for the pattern, account for capitalization, square brackets, and parantheses: "
   ]
  },
  {
   "cell_type": "code",
   "execution_count": null,
   "metadata": {},
   "outputs": [],
   "source": [
    "import re\n",
    "data = posts\n",
    "\n",
    "serious_count = 0\n",
    "for row in data:\n",
    "    if re.search(\"[\\[\\(][Ss]erious[\\]\\)]\", row[0]):\n",
    "        serious_count = serious_count + 1\n",
    "print(serious_count)"
   ]
  },
  {
   "cell_type": "markdown",
   "metadata": {},
   "source": [
    "## 16.5. Search for pattern at the beginning or end of string by using 'or' ('|') experession\n",
    "**OR expression (|) | Search at the beginning of string (^) | Search at the end of string ($)**"
   ]
  },
  {
   "cell_type": "code",
   "execution_count": null,
   "metadata": {},
   "outputs": [],
   "source": [
    "import re\n",
    "data = posts\n",
    "\n",
    "# Find questions that start with \"[Serious]\" and its all possible variants. \n",
    "serious_start_count = 0\n",
    "for row in data:\n",
    "    if re.search(\"^[\\[\\(][Ss]erious[\\]\\)]\", row[0]):\n",
    "        serious_start_count = serious_start_count + 1\n",
    "print(\"[1] serious_start_count: \" + str(serious_start_count))\n",
    "\n",
    "# Find questions that end with \"[Serious]\" and its all possible variants.\n",
    "serious_end_count = 0\n",
    "for row in data:\n",
    "    if re.search(\"[\\[\\(][Ss]erious[\\]\\)]$\", row[0]):\n",
    "        serious_end_count = serious_end_count + 1\n",
    "print(\"[2] serious_end_count: \" + str(serious_end_count))\n",
    "\n",
    "# Find questions that start or end with \"[Serious]\" and its all possible variants.\n",
    "serious_count_final = 0\n",
    "for row in data:\n",
    "    if re.search(\"^[\\[\\(][Ss]erious[\\]\\)]|[\\[\\(][Ss]erious[\\]\\)]$\", row[0]):\n",
    "        serious_count_final = serious_count_final + 1\n",
    "print(\"[3] serious_count_final: \" + str(serious_count_final))"
   ]
  },
  {
   "cell_type": "markdown",
   "metadata": {},
   "source": [
    "## 16.6. Use string substitution to convert all possible forms of a string to its main form\n",
    "**String substitution**"
   ]
  },
  {
   "cell_type": "code",
   "execution_count": null,
   "metadata": {},
   "outputs": [],
   "source": [
    "print(re.sub(\"\\[hi\\]\", \"[Hello]\", \"[hi]\")) "
   ]
  },
  {
   "cell_type": "code",
   "execution_count": null,
   "metadata": {
    "collapsed": true
   },
   "outputs": [],
   "source": [
    "# Refresh data\n",
    "import csv\n",
    "posts_with_header = list(csv.reader(open(\"askreddit_2015.csv\", encoding=\"utf8\")))\n",
    "posts = posts_with_header[1:len(posts_with_header)]"
   ]
  },
  {
   "cell_type": "code",
   "execution_count": null,
   "metadata": {},
   "outputs": [],
   "source": [
    "import re\n",
    "data = posts # for Dataquest compliance\n",
    "\n",
    "data_new = []\n",
    "for row in data:\n",
    "    row[0] = re.sub(\"[\\[\\(][Ss]erious[\\]\\)]\", \"[Serious]\", row[0])\n",
    "    data_new.append(row)\n",
    "print(\"[0] data_new: \" + str(data_new))\n",
    "\n",
    "posts_new = data_new # for Dataquest compliance\n"
   ]
  },
  {
   "cell_type": "markdown",
   "metadata": {},
   "source": [
    "## 16.7. Search for expressions that resemble a given pattern template \n",
    "**[a-z] | [0-9][0-9]**"
   ]
  },
  {
   "cell_type": "code",
   "execution_count": null,
   "metadata": {},
   "outputs": [],
   "source": [
    "import re\n",
    "strings = ['War of 1812', 'There are 5280 feet to a mile', 'Happy New Year 2016!']\n",
    "\n",
    "year_strings = []\n",
    "for string in strings:\n",
    "    if re.search(\"[1-2][0-9][0-9][0-9]\", string):\n",
    "        year_strings.append(string)\n",
    "print(year_strings)"
   ]
  },
  {
   "cell_type": "markdown",
   "metadata": {},
   "source": [
    "## 16.8. Perform template-based search more efficiently by using repeating expressions\n",
    "**\"a{x}\"**"
   ]
  },
  {
   "cell_type": "code",
   "execution_count": null,
   "metadata": {},
   "outputs": [],
   "source": [
    "year_strings = []\n",
    "for string in strings:\n",
    "    if re.search(\"[1-2][0-9]{3}\", string): #repeat the last statement 3 times\n",
    "        year_strings.append(string)\n",
    "print(\"[1] year_strings: \" + str(year_strings))"
   ]
  },
  {
   "cell_type": "markdown",
   "metadata": {},
   "source": [
    "## 16.9. Find all occurences of a string and return it as a list\n",
    "**re.findall()**"
   ]
  },
  {
   "cell_type": "code",
   "execution_count": null,
   "metadata": {},
   "outputs": [],
   "source": [
    "years_string = \"2015 was a good year, but 2016 will be better!\"\n",
    "\n",
    "re.findall(\"[1-2][0-9]{3}\", years_string)"
   ]
  },
  {
   "cell_type": "markdown",
   "metadata": {},
   "source": [
    "# 17. TIME MODULE"
   ]
  },
  {
   "cell_type": "markdown",
   "metadata": {},
   "source": [
    "## 17.1. Time module: Retrieve current Unix timestamp\n",
    "**time.time()**"
   ]
  },
  {
   "cell_type": "markdown",
   "metadata": {},
   "source": [
    "A Unix timestamp is a floating point value with no explicit mention of day, month, or year. This value represents the number of seconds that have passed since the \"epoch\", or the first second of the year 1970. So, a timestamp of 0.0 would represent the epoch, and a timestamp of 60.0 would represent one minute after the epoch. We can represent any date after 1970 this way."
   ]
  },
  {
   "cell_type": "code",
   "execution_count": null,
   "metadata": {},
   "outputs": [],
   "source": [
    "import time\n",
    "\n",
    "current_time = time.time() # returns numbr of seconds passed since 1970 (current Unix time stamp)\n",
    "print(current_time)"
   ]
  },
  {
   "cell_type": "markdown",
   "metadata": {},
   "source": [
    "## 17.2. Time module: Structured Time\n",
    "**time.gmtime() |time.gmtime().year**"
   ]
  },
  {
   "cell_type": "code",
   "execution_count": null,
   "metadata": {},
   "outputs": [],
   "source": [
    "current_time = time.time()\n",
    "\n",
    "current_struct_time = time.gmtime() # Returns greenwhich meantime in tokenized format\n",
    "print(current_struct_time)\n",
    "\n",
    "current_hour = current_struct_time.tm_hour\n",
    "print(current_hour)"
   ]
  },
  {
   "cell_type": "markdown",
   "metadata": {},
   "source": [
    "## 17.3. Datetime module "
   ]
  },
  {
   "cell_type": "code",
   "execution_count": null,
   "metadata": {},
   "outputs": [],
   "source": [
    "import datetime\n",
    "\n",
    "print(datetime.datetime.now())\n",
    "print(datetime.datetime.now().year)\n",
    "print(datetime.datetime.now().month)\n",
    "print(datetime.datetime.now().day)\n",
    "print(datetime.datetime.now().hour)\n",
    "print(datetime.datetime.now().minute)\n",
    "print(datetime.datetime.now().second)\n",
    "print(datetime.datetime.now().microsecond)"
   ]
  },
  {
   "cell_type": "code",
   "execution_count": null,
   "metadata": {},
   "outputs": [],
   "source": [
    "current_datetime = datetime.datetime.now()\n",
    "current_year = current_datetime.year\n",
    "current_month = current_datetime.month\n",
    "\n",
    "print(current_datetime)\n"
   ]
  },
  {
   "cell_type": "markdown",
   "metadata": {},
   "source": [
    "Specify a date:"
   ]
  },
  {
   "cell_type": "code",
   "execution_count": null,
   "metadata": {},
   "outputs": [],
   "source": [
    "march3 = datetime.datetime(year = 2010, month = 3, day = 3)\n",
    "print(march3)"
   ]
  },
  {
   "cell_type": "markdown",
   "metadata": {},
   "source": [
    "## 17.4. Datetime: Timedelta class\n",
    "datetime.timedelta()"
   ]
  },
  {
   "cell_type": "markdown",
   "metadata": {},
   "source": [
    "**Usage**: <br>\n",
    "datetime.timedelta(years=INT, months=INT, days=INT, ...)"
   ]
  },
  {
   "cell_type": "code",
   "execution_count": null,
   "metadata": {},
   "outputs": [],
   "source": [
    "today = datetime.datetime.now()\n",
    "diff = datetime.timedelta(weeks = 5, days = 2)\n",
    "result = today + diff\n",
    "print(result)"
   ]
  },
  {
   "cell_type": "code",
   "execution_count": null,
   "metadata": {},
   "outputs": [],
   "source": [
    "import datetime\n",
    "\n",
    "today = datetime.datetime.now()\n",
    "print(\"[1] today: \" + str(today))\n",
    "\n",
    "diff = datetime.timedelta(days = 1)\n",
    "print(\"[2] diff: \" + str(diff))\n",
    "\n",
    "yesterday = today - diff\n",
    "print(\"[3] yesterday: \" + str(yesterday))\n",
    "\n",
    "tomorrow = today + diff\n",
    "print(\"[4] tomorrow: \" + str(tomorrow))"
   ]
  },
  {
   "cell_type": "markdown",
   "metadata": {},
   "source": [
    "## 17.5. Datetime: String formatted time\n",
    "datetime.datetime.strftime()"
   ]
  },
  {
   "cell_type": "code",
   "execution_count": null,
   "metadata": {},
   "outputs": [],
   "source": [
    "import datetime\n",
    "\n",
    "march3 = datetime.datetime(year = 2010, month = 3, day = 3)\n",
    "pretty_march3 = march3.strftime(\"%b %d, %Y\")\n",
    "print(pretty_march3)\n"
   ]
  },
  {
   "cell_type": "code",
   "execution_count": null,
   "metadata": {},
   "outputs": [],
   "source": [
    "# Short format:\n",
    "my_time_formatted = datetime.datetime(2015, 12, 31, 0, 0).strftime(\"%I:%M%p on %A %B %d, %Y\")\n",
    "print(my_time_formatted)"
   ]
  },
  {
   "cell_type": "code",
   "execution_count": null,
   "metadata": {},
   "outputs": [],
   "source": [
    "# Long format:\n",
    "my_time = datetime.datetime(2015, 12, 31, 0, 0)\n",
    "my_time_formatted = my_time.strftime(\"%I:%M%p on %A %B %d, %Y\")\n",
    "print(my_time_formatted)"
   ]
  },
  {
   "cell_type": "markdown",
   "metadata": {},
   "source": [
    "Full list of string arguments for datetime: <br> https://docs.python.org/3/library/datetime.html#strftime-and-strptime-behavior"
   ]
  },
  {
   "cell_type": "markdown",
   "metadata": {},
   "source": [
    "## 17.6. Parsing dates from text to datetime object\n",
    "**datetime.datetime.strptime() <br>**\n"
   ]
  },
  {
   "cell_type": "markdown",
   "metadata": {},
   "source": [
    "strptime: \"string parse datetime\""
   ]
  },
  {
   "cell_type": "code",
   "execution_count": null,
   "metadata": {},
   "outputs": [],
   "source": [
    "my_time_parsed = datetime.datetime.strptime(\"Mar 03, 2010\", \"%b %d, %Y\")\n",
    "print(my_time_parsed)"
   ]
  },
  {
   "cell_type": "code",
   "execution_count": null,
   "metadata": {},
   "outputs": [],
   "source": [
    "import datetime\n",
    "my_date_formatted_string = '12:00AM on Thursday January 02, 2003'\n",
    "print(\"[1] my_date_formatted_string: \" + str(my_date_formatted_string))\n",
    "\n",
    "my_date_parsed_object = datetime.datetime.strptime(my_date_formatted_string, \"%I:%M%p on %A %B %d, %Y\")\n",
    "print(\"[2] my_date_parsed_object: \" + str(my_date))\n"
   ]
  },
  {
   "cell_type": "markdown",
   "metadata": {},
   "source": [
    "## 17.7. Conversion from Unix timestamp to datetime object"
   ]
  },
  {
   "cell_type": "code",
   "execution_count": null,
   "metadata": {},
   "outputs": [],
   "source": [
    "datetime_object = datetime.datetime.fromtimestamp(1433213314.0)\n",
    "print(datetime_object)"
   ]
  },
  {
   "cell_type": "code",
   "execution_count": null,
   "metadata": {
    "collapsed": true
   },
   "outputs": [],
   "source": [
    "import csv\n",
    "data = list(csv.reader(open(\"askreddit_2015.csv\", encoding=\"utf8\")))"
   ]
  },
  {
   "cell_type": "code",
   "execution_count": null,
   "metadata": {},
   "outputs": [],
   "source": [
    "import csv\n",
    "import datetime\n",
    "data = list(csv.reader(open(\"askreddit_2015.csv\", encoding=\"utf8\")))\n",
    "\n",
    "data = data[1:len(data)]\n",
    "\n",
    "for row in data:\n",
    "    row[2] = float(row[2])\n",
    "    row[2] = datetime.datetime.fromtimestamp(row[2])\n",
    "print(data[0:2])"
   ]
  },
  {
   "cell_type": "markdown",
   "metadata": {},
   "source": [
    "## 17.8. Use datetime objects attributes in dataset to select cases \n",
    "**datetime.datetime.month**"
   ]
  },
  {
   "cell_type": "code",
   "execution_count": null,
   "metadata": {},
   "outputs": [],
   "source": [
    "# This code requires unix timestamp column to be already transformed to datetime object column  (Section 17.7.)\n",
    "print(\"[1] data[0][2]: \" + str(data[0][2]))\n",
    "print(\"[2] data[0][2].month: \" + str(data[0][2].month))\n"
   ]
  },
  {
   "cell_type": "markdown",
   "metadata": {},
   "source": [
    "Show number of cases in March:"
   ]
  },
  {
   "cell_type": "code",
   "execution_count": null,
   "metadata": {},
   "outputs": [],
   "source": [
    "# This code requires unix timestamp column to be already transformed to datetime object column  (Section 17.7.)\n",
    "march_count = 0\n",
    "for row in data:\n",
    "    datetime_object = row[2]\n",
    "    if datetime_object.month == 3:\n",
    "        march_count = march_count + 1\n",
    "print(march_count)"
   ]
  },
  {
   "cell_type": "markdown",
   "metadata": {},
   "source": [
    "Make a function that returns number of cases for each inputted month:"
   ]
  },
  {
   "cell_type": "code",
   "execution_count": null,
   "metadata": {},
   "outputs": [],
   "source": [
    "# This code requires unix timestamp column to be already transformed to datetime object column  (Section 17.7.)\n",
    "\n",
    "def posts_in_month(month_number):\n",
    "    month_count = 0\n",
    "    for row in data:\n",
    "        if row[2].month == month_number:\n",
    "            month_count += 1\n",
    "    print(month_count)\n",
    "    return month_count\n",
    "\n",
    "feb_count = posts_in_month(2)\n",
    "aug_count = posts_in_month(8)"
   ]
  },
  {
   "cell_type": "markdown",
   "metadata": {},
   "source": [
    "# 18. PROJECT: US GUN DEATHS DATA"
   ]
  },
  {
   "cell_type": "markdown",
   "metadata": {},
   "source": [
    "## 18.1. Read in and tokenize the data\n",
    "**csv.reader() | open() | list()**"
   ]
  },
  {
   "cell_type": "code",
   "execution_count": null,
   "metadata": {},
   "outputs": [],
   "source": [
    "import csv\n",
    "data = list(csv.reader(open(\"practice_datasets//guns-data//full_data.csv\")))\n",
    "print(data[0:5])"
   ]
  },
  {
   "cell_type": "markdown",
   "metadata": {},
   "source": [
    "## 18.2. Separate data from the headers row\n",
    "**a[x:y]**"
   ]
  },
  {
   "cell_type": "code",
   "execution_count": null,
   "metadata": {},
   "outputs": [],
   "source": [
    "headers = data[0]\n",
    "data = data [1:len(data)]\n",
    "\n",
    "print(headers)\n",
    "print(data[0:5])"
   ]
  },
  {
   "cell_type": "markdown",
   "metadata": {},
   "source": [
    "## 18.3. Find frequencies with unparsed dates (Deaths per year)\n",
    "**dictionaries**"
   ]
  },
  {
   "cell_type": "code",
   "execution_count": null,
   "metadata": {},
   "outputs": [],
   "source": [
    "years = [row[1] for row in data]\n",
    "\n",
    "year_counts = {}\n",
    "for year in years:\n",
    "    if year not in year_counts:\n",
    "        year_counts[year] = 1\n",
    "    else:\n",
    "        year_counts[year] += 1\n",
    "        \n",
    "print(year_counts)"
   ]
  },
  {
   "cell_type": "markdown",
   "metadata": {},
   "source": [
    "## 18.4. Parse dates for a more detailed analysis using month and year\n",
    "**datetime.datetime() | dictionaries**"
   ]
  },
  {
   "cell_type": "markdown",
   "metadata": {},
   "source": [
    "***Parse:***"
   ]
  },
  {
   "cell_type": "code",
   "execution_count": null,
   "metadata": {},
   "outputs": [],
   "source": [
    "import datetime\n",
    "# Use dateime to parse dates. Sustitute day with 1, as it is not known.\n",
    "date_column = [datetime.datetime(year=int(row[1]), month=int(row[2]), day=1) for row in data]\n",
    "\n",
    "date_column[0:5]\n"
   ]
  },
  {
   "cell_type": "markdown",
   "metadata": {},
   "source": [
    "***List unique dates:***"
   ]
  },
  {
   "cell_type": "code",
   "execution_count": null,
   "metadata": {},
   "outputs": [],
   "source": [
    "date_counts = {}\n",
    "for date in date_column:\n",
    "    if date not in date_counts:\n",
    "        date_counts[date] = 1\n",
    "    else:\n",
    "        date_counts[date] += 1\n",
    "date_counts"
   ]
  },
  {
   "cell_type": "markdown",
   "metadata": {},
   "source": [
    "## 18.5.  Find frequencies for gender and race\n",
    "**dictionaries**"
   ]
  },
  {
   "cell_type": "code",
   "execution_count": null,
   "metadata": {},
   "outputs": [],
   "source": [
    "sex_counts = {}\n",
    "for row in data:\n",
    "    sex = row[5]\n",
    "    if sex not in sex_counts:\n",
    "        sex_counts[sex] = 1\n",
    "    else:\n",
    "        sex_counts[sex] += 1\n",
    "sex_counts"
   ]
  },
  {
   "cell_type": "code",
   "execution_count": null,
   "metadata": {},
   "outputs": [],
   "source": [
    "race_counts = {}\n",
    "for row in data:\n",
    "    if row[7] not in race_counts:\n",
    "        race_counts[row[7]] = 1\n",
    "    else:\n",
    "        race_counts[row[7]] += 1\n",
    "race_counts"
   ]
  },
  {
   "cell_type": "markdown",
   "metadata": {},
   "source": [
    "## 18.6. Give perspective to *raw crime rates per race* by calculating what proportion these criminals represent the *total population of their races*\n",
    "**dictionaries | enumerate(DICT)**"
   ]
  },
  {
   "cell_type": "markdown",
   "metadata": {},
   "source": [
    "***Import census data to find out the total number of race members in population:***"
   ]
  },
  {
   "cell_type": "code",
   "execution_count": null,
   "metadata": {},
   "outputs": [],
   "source": [
    "census_data = [['Id', 'Year', 'Id', 'Sex', 'Id', 'Hispanic Origin', 'Id', 'Id2', 'Geography', 'Total', 'Race Alone - White', 'Race Alone - Hispanic', 'Race Alone - Black or African American', 'Race Alone - American Indian and Alaska Native', 'Race Alone - Asian', 'Race Alone - Native Hawaiian and Other Pacific Islander', 'Two or More Races'], ['cen42010', 'April 1, 2010 Census', 'totsex', 'Both Sexes', 'tothisp', 'Total', '0100000US', '', 'United States', '308745538', '197318956', '44618105', '40250635', '3739506', '15159516', '674625', '6984195']]\n",
    "print(census_data)"
   ]
  },
  {
   "cell_type": "markdown",
   "metadata": {},
   "source": [
    "***Create a dictionary out of census data to make it more usable:***"
   ]
  },
  {
   "cell_type": "code",
   "execution_count": null,
   "metadata": {},
   "outputs": [],
   "source": [
    "census_dict = {}\n",
    "labels_row = census_data[0]\n",
    "data_row = census_data[1]\n",
    "for i in range(0, len(labels_row)):\n",
    "    try:\n",
    "        census_dict[labels_row[i]] = int(data_row[i])\n",
    "    except:\n",
    "        census_dict[labels_row[i]] = data_row[i]\n",
    "census_dict"
   ]
  },
  {
   "cell_type": "markdown",
   "metadata": {},
   "source": [
    "***Translation of the new dataset in the language of the old one: Map values of census_data dictionary to 'race_counts' dictionary:***"
   ]
  },
  {
   "cell_type": "code",
   "execution_count": null,
   "metadata": {},
   "outputs": [],
   "source": [
    "mapped_dict = {\"Asian/Pacific Islander\": census_dict[\"Race Alone - Asian\"] + census_dict[\"Race Alone - Native Hawaiian and Other Pacific Islander\"],\n",
    "           \"Black\": census_dict[\"Race Alone - Black or African American\"],\n",
    "           \"Hispanic\": census_dict[\"Race Alone - Hispanic\"],\n",
    "           \"Native American/Native Alaskan\": census_dict[\"Race Alone - American Indian and Alaska Native\"],\n",
    "           \"White\": census_dict[\"Race Alone - White\"]\n",
    "          }\n",
    "mapped_dict"
   ]
  },
  {
   "cell_type": "markdown",
   "metadata": {},
   "source": [
    "***Normalization: Divide each crime rate per race to total population of that race:***"
   ]
  },
  {
   "cell_type": "code",
   "execution_count": null,
   "metadata": {},
   "outputs": [],
   "source": [
    "race_to_crime_ratio = {}\n",
    "\n",
    "for i, key in enumerate(race_counts):\n",
    "    race_to_crime_ratio[key] = (race_counts[key]/mapped_dict[key]) \n",
    "race_to_crime_ratio"
   ]
  },
  {
   "cell_type": "code",
   "execution_count": null,
   "metadata": {},
   "outputs": [],
   "source": [
    "race_to_crime_ratio_per100k = {}\n",
    "for i, key in enumerate(race_to_crime_ratio):\n",
    "    race_to_crime_ratio_per100k[key] = race_to_crime_ratio[key] * 100000\n",
    "# multiplication with 100000 calculates every x person in 100000 who would be likely to commit a crime.\n",
    "\n",
    "race_to_crime_ratio_per100k"
   ]
  },
  {
   "cell_type": "markdown",
   "metadata": {},
   "source": [
    "Results above means that, e.g., 33 white persons out of 100,000 would be likely to commit a gun-related crime."
   ]
  },
  {
   "cell_type": "markdown",
   "metadata": {},
   "source": [
    "## 18.7.  Filter columns by a category \n",
    "**enumerate()**"
   ]
  },
  {
   "cell_type": "markdown",
   "metadata": {},
   "source": [
    "The previous calculations looked at all gun cases, including caes such as suicide. Looking only at homicide rates could be informative."
   ]
  },
  {
   "cell_type": "markdown",
   "metadata": {},
   "source": [
    "***Extract race and intent columns from data, so they can be simultaneously iterated easily:***"
   ]
  },
  {
   "cell_type": "code",
   "execution_count": null,
   "metadata": {},
   "outputs": [],
   "source": [
    "race_column = [row[7] for row in data]  \n",
    "intent_column = [row[3] for row in data]\n",
    "\n",
    "intent_column[0:10]"
   ]
  },
  {
   "cell_type": "markdown",
   "metadata": {},
   "source": [
    "***Cross-check each list with each other by iterating them simultaneously. While iterating, if a value is a match in one list (i.e., the 'filter' list), add the value in the same index position in the other list ('value' list) to the counter dictionary:***"
   ]
  },
  {
   "cell_type": "code",
   "execution_count": null,
   "metadata": {},
   "outputs": [],
   "source": [
    "race_counts_homicide_only = {}\n",
    "for i, intent in enumerate(intent_column):\n",
    "    if 'Homicide' in intent:\n",
    "        if race_column[i] not in race_counts_homicide_only:\n",
    "            race_counts_homicide_only[race_column[i]] = 1\n",
    "        else:\n",
    "            race_counts_homicide_only[race_column[i]] += 1 \n",
    "        #x += 1\n",
    "race_counts_homicide_only"
   ]
  },
  {
   "cell_type": "markdown",
   "metadata": {},
   "source": [
    "***Calculate homicide rates in 100k people per race (see section 18.6 for complete code):***"
   ]
  },
  {
   "cell_type": "code",
   "execution_count": null,
   "metadata": {},
   "outputs": [],
   "source": [
    "# This section requires section 18.6. to be ran before.\n",
    "race_to_crime_ratio_homicide_only_per100k = {}\n",
    "\n",
    "for i, key in enumerate(race_counts):\n",
    "    race_to_crime_ratio_homicide_only_per100k[key] = (race_counts_homicide_only[key]/mapped_dict[key]) * 100000\n",
    "race_to_crime_ratio_homicide_only_per100k"
   ]
  },
  {
   "cell_type": "markdown",
   "metadata": {},
   "source": [
    "## Possible further steps"
   ]
  },
  {
   "cell_type": "markdown",
   "metadata": {},
   "source": [
    "Here are some potential next steps:\n",
    "\n",
    "Figure out the link, if any, between month and homicide rate.\n",
    "Explore the homicide rate by gender.\n",
    "Explore the rates of other intents, like Accidental, by gender and race.\n",
    "Find out if gun death rates correlate to location and education."
   ]
  },
  {
   "cell_type": "markdown",
   "metadata": {},
   "source": [
    "--------------------------------------\n",
    "\n",
    "# APPENDIX: Unorganized Sections\n",
    "--------------------------------------"
   ]
  },
  {
   "cell_type": "markdown",
   "metadata": {},
   "source": [
    "# 1."
   ]
  },
  {
   "cell_type": "code",
   "execution_count": 14,
   "metadata": {},
   "outputs": [
    {
     "name": "stdout",
     "output_type": "stream",
     "text": [
      "['Albuquerque,749', 'Anaheim,371', 'Anchorage,828', 'Arlington,503', 'Atlanta,1379']\n",
      "[749, 371, 828, 503, 1379, 425, 408, 542, 1405, 835, 1288, 647, 974, 1383, 455, 658, 675, 615, 2122, 423, 362, 587, 543, 563, 168, 992, 1185, 617, 734, 1263, 784, 352, 397, 575, 481, 598, 1750, 399, 1172, 1294, 992, 522, 1216, 815, 639, 1154, 1993, 919, 594, 1160, 636, 752, 130, 517, 423, 443, 738, 503, 413, 704, 363, 401, 597, 1776, 722, 1548, 616, 1171, 724, 990, 169, 1177, 742]\n"
     ]
    },
    {
     "ename": "NameError",
     "evalue": "name 'numerical_list' is not defined",
     "output_type": "error",
     "traceback": [
      "\u001b[0;31m---------------------------------------------------------------------------\u001b[0m",
      "\u001b[0;31mNameError\u001b[0m                                 Traceback (most recent call last)",
      "\u001b[0;32m<ipython-input-14-abbf57fc4429>\u001b[0m in \u001b[0;36m<module>\u001b[0;34m()\u001b[0m\n\u001b[1;32m     90\u001b[0m                ['Jackie', '132928.78874000002'], ['Avery', '121797.41951600001']]\n\u001b[1;32m     91\u001b[0m \u001b[1;33m\u001b[0m\u001b[0m\n\u001b[0;32m---> 92\u001b[0;31m \u001b[1;32mfor\u001b[0m \u001b[0mi\u001b[0m \u001b[1;32min\u001b[0m \u001b[0mnumerical_list\u001b[0m\u001b[1;33m:\u001b[0m\u001b[1;33m\u001b[0m\u001b[0m\n\u001b[0m\u001b[1;32m     93\u001b[0m     \u001b[0mprint\u001b[0m\u001b[1;33m(\u001b[0m\u001b[0mi\u001b[0m\u001b[1;33m[\u001b[0m\u001b[1;36m0\u001b[0m\u001b[1;33m]\u001b[0m \u001b[1;33m+\u001b[0m \u001b[1;34m\" is a \"\u001b[0m \u001b[1;33m+\u001b[0m \u001b[0mstr\u001b[0m\u001b[1;33m(\u001b[0m\u001b[0mtype\u001b[0m\u001b[1;33m(\u001b[0m\u001b[0mi\u001b[0m\u001b[1;33m[\u001b[0m\u001b[1;36m0\u001b[0m\u001b[1;33m]\u001b[0m\u001b[1;33m)\u001b[0m\u001b[1;33m)\u001b[0m\u001b[1;33m)\u001b[0m\u001b[1;33m\u001b[0m\u001b[0m\n\u001b[1;32m     94\u001b[0m     \u001b[0mprint\u001b[0m\u001b[1;33m(\u001b[0m\u001b[0mi\u001b[0m\u001b[1;33m[\u001b[0m\u001b[1;36m1\u001b[0m\u001b[1;33m]\u001b[0m \u001b[1;33m+\u001b[0m \u001b[1;34m\" is a \"\u001b[0m \u001b[1;33m+\u001b[0m \u001b[0mstr\u001b[0m\u001b[1;33m(\u001b[0m\u001b[0mtype\u001b[0m\u001b[1;33m(\u001b[0m\u001b[0mi\u001b[0m\u001b[1;33m[\u001b[0m\u001b[1;36m1\u001b[0m\u001b[1;33m]\u001b[0m\u001b[1;33m)\u001b[0m\u001b[1;33m)\u001b[0m\u001b[1;33m)\u001b[0m\u001b[1;33m\u001b[0m\u001b[0m\n",
      "\u001b[0;31mNameError\u001b[0m: name 'numerical_list' is not defined"
     ]
    }
   ],
   "source": [
    "#test\n",
    "rows = ['Albuquerque,749',\n",
    "        'Anaheim,371',\n",
    "        'Anchorage,828',\n",
    "        'Arlington,503',\n",
    "        'Atlanta,1379',\n",
    "        'Aurora,425',\n",
    "        'Austin,408',\n",
    "        'Bakersfield,542',\n",
    "        'Baltimore,1405',\n",
    "        'Boston,835',\n",
    "        'Buffalo,1288',\n",
    "        'Charlotte-Mecklenburg,647',\n",
    "        'Cincinnati,974',\n",
    "        'Cleveland,1383',\n",
    "        'Colorado Springs,455',\n",
    "        'Corpus Christi,658',\n",
    "        'Dallas,675',\n",
    "        'Denver,615',\n",
    "        'Detroit,2122',\n",
    "        'El Paso,423',\n",
    "        'Fort Wayne,362',\n",
    "        'Fort Worth,587',\n",
    "        'Fresno,543',\n",
    "        'Greensboro,563',\n",
    "        'Henderson,168',\n",
    "        'Houston,992',\n",
    "        'Indianapolis,1185',\n",
    "        'Jacksonville,617',\n",
    "        'Jersey City,734',\n",
    "        'Kansas City,1263',\n",
    "        'Las Vegas,784',\n",
    "        'Lexington,352',\n",
    "        'Lincoln,397',\n",
    "        'Long Beach,575',\n",
    "        'Los Angeles,481',\n",
    "        'Louisville Metro,598',\n",
    "        'Memphis,1750',\n",
    "        'Mesa,399',\n",
    "        'Miami,1172',\n",
    "        'Milwaukee,1294',\n",
    "        'Minneapolis,992',\n",
    "        'Mobile,522',\n",
    "        'Nashville,1216',\n",
    "        'New Orleans,815',\n",
    "        'New York,639',\n",
    "        'Newark,1154',\n",
    "        'Oakland,1993',\n",
    "        'Oklahoma City,919',\n",
    "        'Omaha,594',\n",
    "        'Philadelphia,1160',\n",
    "        'Phoenix,636',\n",
    "        'Pittsburgh,752',\n",
    "        'Plano,130',\n",
    "        'Portland,517',\n",
    "        'Raleigh,423',\n",
    "        'Riverside,443',\n",
    "        'Sacramento,738',\n",
    "        'San Antonio,503',\n",
    "        'San Diego,413',\n",
    "        'San Francisco,704',\n",
    "        'San Jose,363',\n",
    "        'Santa Ana,401',\n",
    "        'Seattle,597',\n",
    "        'St. Louis,1776',\n",
    "        'St. Paul,722',\n",
    "        'Stockton,1548',\n",
    "        'Tampa,616',\n",
    "        'Toledo,1171',\n",
    "        'Tucson,724',\n",
    "        'Tulsa,990',\n",
    "        'Virginia Beach,169',\n",
    "        'Washington,1177',\n",
    "        'Wichita,742']\n",
    "\n",
    "print(rows[0:5])\n",
    "\n",
    "int_crime_rates = []\n",
    "rows_splitted = []\n",
    "integera = []\n",
    "\n",
    "for i in rows:\n",
    "    rows_splitted = i.split(',')\n",
    "    integera = int(rows_splitted[1])\n",
    "    int_crime_rates.append(integera)\n",
    "\n",
    "print(int_crime_rates)\n",
    "\n",
    "nested_list = [['Casey', '176544.328149'], ['Riley', '154860.66517300002'], ['Jessie', '136381.830656'],\n",
    "               ['Jackie', '132928.78874000002'], ['Avery', '121797.41951600001']]\n",
    "\n",
    "for i in numerical_list:\n",
    "    print(i[0] + \" is a \" + str(type(i[0])))\n",
    "    print(i[1] + \" is a \" + str(type(i[1])))\n",
    "\n",
    "numerical_list = []\n",
    "\n",
    "for i in nested_list:\n",
    "    numerical_list.append([i[0], float(i[1])])\n",
    "\n",
    "print(numerical_list)\n",
    "\n",
    "type(numerical_list[0][1])\n",
    "\n",
    "####################################3\n",
    "\n",
    "numerical_list = [['Casey', 176544.328149],\n",
    " ['Riley', 154860.66517300002],\n",
    " ['Jessie', 136381.830656],\n",
    " ['Jackie', 132928.78874000002],\n",
    " ['Avery', 121797.41951600001],\n",
    " ['Jaime', 109870.18729000002],\n",
    " ['Peyton', 94896.39521599999],\n",
    " ['Kerry', 88963.92625],\n",
    " ['Jody', 80400.519199],\n",
    " ['Kendall', 79210.873961],\n",
    " ['Payton', 64151.630388],\n",
    " ['Skyler', 53486.390419],\n",
    " ['Frankie', 51288.068109],\n",
    " ['Pat', 44781.602373],\n",
    " ['Quinn', 41920.940058],\n",
    " ['Harley', 41237.565743],\n",
    " ['Reese', 36360.520613],\n",
    " ['Robbie', 32636.047648000003],\n",
    " ['Tommie', 29528.793818000002],\n",
    " ['Justice', 27350.56457],\n",
    " ['Kris', 24955.811341999997],\n",
    " ['Carey', 24790.097053999998],\n",
    " ['Emerson', 24167.154361],\n",
    " ['Blair', 23160.101097],\n",
    " ['Amari', 22296.161372],\n",
    " ['Elisha', 22184.559374],\n",
    " ['Sage', 21336.062278],\n",
    " ['Emery', 18844.118877],\n",
    " ['Stevie', 18665.219122],\n",
    " ['Rowan', 18367.420464],\n",
    " ['Ollie', 17889.750339],\n",
    " ['Shea', 16768.891880000003],\n",
    " ['Jaylin', 15093.192038999998],\n",
    " ['Phoenix', 14841.367875999998],\n",
    " ['Charley', 12546.265781999999],\n",
    " ['Armani', 12541.667755],\n",
    " ['Devyn', 12515.023073999999],\n",
    " ['Ivory', 11908.580714],\n",
    " ['Kendal', 11841.403479999999],\n",
    " ['Baby', 11132.855753],\n",
    " ['Mckinley', 10972.533414],\n",
    " ['Finley', 10194.618867000001],\n",
    " ['Milan', 9971.955937],\n",
    " ['Tory', 9837.844335],\n",
    " ['Shay', 9444.894035],\n",
    " ['Shiloh', 8999.08523],\n",
    " ['Lavern', 8776.346296],\n",
    " ['Sky', 8386.640072],\n",
    " ['Reilly', 8300.824693],\n",
    " ['Leighton', 8281.601797],\n",
    " ['Santana', 7922.713789],\n",
    " ['Arden', 7773.147359999999],\n",
    " ['Campbell', 7728.956865000001],\n",
    " ['Channing', 7626.335577],\n",
    " ['Kamari', 7584.893909],\n",
    " ['Alva', 7496.35069],\n",
    " ['Clair', 7148.894728],\n",
    " ['Lavon', 7107.834786],\n",
    " ['Kenyatta', 7063.611274],\n",
    " ['Britt', 6852.95455],\n",
    " ['Vernell', 6729.462903000001],\n",
    " ['Michal', 6558.698679],\n",
    " ['Austyn', 6228.961464999999],\n",
    " ['Rian', 6139.851240999999],\n",
    " ['Dominque', 6101.13501],\n",
    " ['Remy', 6094.667878],\n",
    " ['Jammie', 6013.444775],\n",
    " ['Ricki', 5847.272146],\n",
    " ['Jordin', 5770.788278],\n",
    " ['Trinidad', 5747.944235],\n",
    " ['Ryley', 5685.538724],\n",
    " ['Carrol', 5513.606968],\n",
    " ['Landry', 5449.51046],\n",
    " ['Lorin', 5428.15538],\n",
    " ['Yael', 5232.374916],\n",
    " ['Codi', 4805.328209],\n",
    " ['Sloan', 4796.882097],\n",
    " ['Jael', 4472.71492],\n",
    " ['Kodi', 4428.704313],\n",
    " ['Azariah', 4420.560847],\n",
    " ['Dakotah', 4388.8520229999995],\n",
    " ['Lorenza', 4249.273719],\n",
    " ['Artie', 4230.139897],\n",
    " ['Maxie', 4123.46784],\n",
    " ['Torey', 4058.5889740000002],\n",
    " ['Tai', 4017.9162969999998],\n",
    " ['Kalani', 4012.3161229999996],\n",
    " ['Codie', 3998.8169869999997],\n",
    " ['Storm', 3960.5374460000003],\n",
    " ['Jaedyn', 3913.0768840000005],\n",
    " ['Merritt', 3843.5606700000003],\n",
    " ['Allyn', 3801.3328060000003],\n",
    " ['Jourdan', 3781.556602],\n",
    " ['Yuri', 3774.699243],\n",
    " ['Ellery', 3738.814883],\n",
    " ['Oakley', 3728.7983289999997],\n",
    " ['Gentry', 3703.829157],\n",
    " ['Ellison', 3651.546836],\n",
    " ['Arin', 3634.974321],\n",
    " ['Sol', 3624.9805439999996],\n",
    " ['Carrington', 3616.3836],\n",
    " ['Dell', 3615.0332759999997],\n",
    " ['Carlin', 3554.951422],\n",
    " ['Lennie', 3533.447279],\n",
    " ['Dru', 3445.961147],\n",
    " ['Alpha', 3406.676728],\n",
    " ['Kiran', 3405.6976219999997],\n",
    " ['Tristyn', 3336.366181],\n",
    " ['Camdyn', 3274.913501],\n",
    " ['Krishna', 3270.049176],\n",
    " ['Demetrice', 3200.883393],\n",
    " ['Berkley', 3184.6592739999996],\n",
    " ['Linden', 3155.870202],\n",
    " ['Mikah', 3094.0632379999997],\n",
    " ['Parris', 3064.315071],\n",
    " ['Kalin', 3021.240034],\n",
    " ['Kary', 3020.9687059999997],\n",
    " ['Arie', 3014.1230010000004],\n",
    " ['Aries', 2964.7565329999998],\n",
    " ['Rio', 2960.4438010000003],\n",
    " ['Sutton', 2930.892868],\n",
    " ['Rhyan', 2900.188369],\n",
    " ['Isa', 2895.497837],\n",
    " ['Arlyn', 2893.945006],\n",
    " ['Karsen', 2872.427405],\n",
    " ['Seneca', 2856.367471],\n",
    " ['Callan', 2809.37665],\n",
    " ['Garnett', 2797.598866],\n",
    " ['Micaiah', 2749.93498],\n",
    " ['Christan', 2684.978836],\n",
    " ['Aris', 2549.033763],\n",
    " ['Tylar', 2540.224111],\n",
    " ['Brighton', 2534.958718],\n",
    " ['Merlyn', 2500.628691],\n",
    " ['Kimani', 2492.6957780000002],\n",
    " ['Salem', 2484.362235],\n",
    " ['Barrie', 2480.799063],\n",
    " ['Braylin', 2476.689792],\n",
    " ['Charly', 2473.36083],\n",
    " ['Ocean', 2470.958543],\n",
    " ['Ara', 2398.501272],\n",
    " ['Deane', 2395.830649],\n",
    " ['Andree', 2375.252032],\n",
    " ['Natividad', 2343.4819039999998],\n",
    " ['Ardell', 2327.065702],\n",
    " ['Divine', 2322.744419],\n",
    " ['Ocie', 2299.2449699999997],\n",
    " ['Lakota', 2298.545252],\n",
    " ['Ashtin', 2291.99335],\n",
    " ['Larkin', 2267.588897],\n",
    " ['Kamdyn', 2266.0110670000004],\n",
    " ['Waverly', 2239.462468],\n",
    " ['Claudie', 2203.6044690000003],\n",
    " ['Lannie', 2182.972994],\n",
    " ['Vernie', 2155.660129],\n",
    " ['Adair', 2154.719944],\n",
    " ['Kaidyn', 2139.577902],\n",
    " ['Verdell', 2133.742154],\n",
    " ['Jae', 2106.066765],\n",
    " ['Aven', 2090.0594969999997],\n",
    " ['Kodie', 2069.6383920000003],\n",
    " ['Shalom', 2060.5958739999996],\n",
    " ['Daylin', 2036.196151],\n",
    " ['Osiris', 1997.239288],\n",
    " ['Dwan', 1990.6460379999999],\n",
    " ['Lashaun', 1977.848391],\n",
    " ['Ashten', 1969.6975940000002],\n",
    " ['Dann', 1959.4458739999998],\n",
    " ['Shai', 1950.9917050000001],\n",
    " ['Teegan', 1945.936273],\n",
    " ['Micha', 1927.9759010000002],\n",
    " ['Tobie', 1921.1876350000002],\n",
    " ['Jaelin', 1910.944988],\n",
    " ['Marlowe', 1893.8144550000002],\n",
    " ['Kareen', 1865.710053],\n",
    " ['Ryen', 1827.6550739999998],\n",
    " ['Marquette', 1795.238032],\n",
    " ['Joell', 1787.3188850000001],\n",
    " ['Adel', 1776.564727],\n",
    " ['Golden', 1763.136515],\n",
    " ['An', 1746.029349],\n",
    " ['Ossie', 1740.230779],\n",
    " ['Stephane', 1724.789877],\n",
    " ['Vinnie', 1711.276531],\n",
    " ['Armoni', 1707.359443],\n",
    " ['Berlin', 1675.592169],\n",
    " ['Thanh', 1671.332281],\n",
    " ['Jimi', 1666.012608],\n",
    " ['Linn', 1654.7473220000002],\n",
    " ['Marvis', 1653.1578],\n",
    " ['Tam', 1647.93815],\n",
    " ['Kaylon', 1644.939332],\n",
    " ['Kylin', 1642.510785],\n",
    " ['Lajuan', 1642.21941],\n",
    " ['Cameran', 1611.747981],\n",
    " ['Shamari', 1601.241909],\n",
    " ['Teddie', 1595.122202],\n",
    " ['Laramie', 1594.6312050000001],\n",
    " ['Ricci', 1585.3125699999998],\n",
    " ['Jule', 1555.296916],\n",
    " ['Cedar', 1552.70581],\n",
    " ['Drue', 1547.492989],\n",
    " ['Shade', 1544.8814300000001],\n",
    " ['Jeryl', 1538.032514],\n",
    " ['Taylen', 1535.983379],\n",
    " ['Devonne', 1534.988374],\n",
    " ['Delane', 1525.850038],\n",
    " ['Arnell', 1518.343435],\n",
    " ['Earlie', 1510.680394],\n",
    " ['Tenzin', 1464.873785],\n",
    " ['Kendel', 1464.373914],\n",
    " ['Arlis', 1462.0830939999998],\n",
    " ['Ashby', 1459.2234050000002],\n",
    " ['Shia', 1450.051376],\n",
    " ['Berkeley', 1447.964706],\n",
    " ['Lin', 1434.757899],\n",
    " ['Freedom', 1419.5886619999999],\n",
    " ['Rylin', 1405.565656],\n",
    " ['Aaryn', 1391.6754779999999],\n",
    " ['Mykah', 1378.630611],\n",
    " ['Shaya', 1373.0472439999999],\n",
    " ['Tanis', 1363.088001],\n",
    " ['Chancey', 1357.860017],\n",
    " ['Jaidan', 1353.840217],\n",
    " ['Jaydyn', 1344.5675099999999],\n",
    " ['Kaedyn', 1342.7232900000001],\n",
    " ['Talyn', 1333.103591],\n",
    " ['Le', 1323.979515],\n",
    " ['Hartley', 1321.569286],\n",
    " ['Avon', 1318.747786],\n",
    " ['Finnley', 1313.456526],\n",
    " ['Schyler', 1311.4051470000002],\n",
    " ['Rennie', 1307.9576880000002],\n",
    " ['Aly', 1298.699031],\n",
    " ['Kaydin', 1293.967349],\n",
    " ['Camari', 1292.5736140000001],\n",
    " ['Clemmie', 1288.247856],\n",
    " ['Payson', 1280.568167],\n",
    " ['Anay', 1278.8241990000001],\n",
    " ['Devine', 1270.283725],\n",
    " ['Terryl', 1263.728601],\n",
    " ['Bao', 1262.070243],\n",
    " ['Tru', 1259.054676],\n",
    " ['Indiana', 1241.572392],\n",
    " ['Evyn', 1234.8999900000001],\n",
    " ['Deniz', 1226.69535],\n",
    " ['Emari', 1223.375248],\n",
    " ['Davi', 1218.88119],\n",
    " ['True', 1201.182194],\n",
    " ['De', 1198.993461],\n",
    " ['Samar', 1195.441393],\n",
    " ['Kriston', 1194.67094],\n",
    " ['Lian', 1191.954576],\n",
    " ['Brittan', 1182.2318289999998],\n",
    " ['Torre', 1176.840612],\n",
    " ['Shawne', 1173.5104390000001],\n",
    " ['Kailen', 1172.8998589999999],\n",
    " ['Aundra', 1172.128503],\n",
    " ['Halen', 1151.043395],\n",
    " ['Yuki', 1144.030879],\n",
    " ['Marshell', 1133.685172],\n",
    " ['Rivers', 1130.701023],\n",
    " ['Jaziah', 1129.100128],\n",
    " ['Amaree', 1110.775383],\n",
    " ['Mycah', 1110.674706],\n",
    " ['Toy', 1108.941987],\n",
    " ['Tien', 1107.223237],\n",
    " ['Adi', 1098.5954160000001],\n",
    " ['Callahan', 1097.1943130000002],\n",
    " ['Jazz', 1093.761948],\n",
    " ['Reign', 1090.493726],\n",
    " ['Burnice', 1082.020651],\n",
    " ['Jamy', 1080.584735],\n",
    " ['Lavaughn', 1073.002013],\n",
    " ['Adrean', 1069.9825130000002],\n",
    " ['Cache', 1066.235232],\n",
    " ['Britain', 1065.194805],\n",
    " ['Dalyn', 1058.212286],\n",
    " ['Dondi', 1055.7544970000001],\n",
    " ['Dallis', 1055.194322],\n",
    " ['Nazareth', 1049.117378],\n",
    " ['Nieves', 1043.052359],\n",
    " ['Jireh', 1040.386483],\n",
    " ['Collen', 1039.818143],\n",
    " ['Onyx', 1034.6819150000001],\n",
    " ['Raynell', 1033.123788],\n",
    " ['Sonnie', 1029.946621],\n",
    " ['Lyrik', 1021.240142],\n",
    " ['Marice', 1011.1573080000001],\n",
    " ['Lexington', 1006.492185],\n",
    " ['Chi', 1000.5135310000001],\n",
    " ['Eliyah', 999.527175],\n",
    " ['Tonnie', 989.2398619999999],\n",
    " ['Teagen', 979.78441],\n",
    " ['Rudi', 970.191498],\n",
    " ['Kamani', 953.5662130000001],\n",
    " ['Han', 951.241973],\n",
    " ['Jerre', 950.8749849999999],\n",
    " ['Alika', 947.321531],\n",
    " ['Monta', 941.0637960000001],\n",
    " ['Jaydn', 935.74131],\n",
    " ['Hadyn', 926.30121],\n",
    " ['Kem', 914.46861],\n",
    " ['Terrin', 910.7775],\n",
    " ['Wisdom', 909.725025],\n",
    " ['Natale', 901.864284],\n",
    " ['Rossie', 892.806341],\n",
    " ['Lugene', 888.284575],\n",
    " ['Rebel', 884.024521],\n",
    " ['Blayke', 882.2342789999999],\n",
    " ['Donyell', 872.649431],\n",
    " ['Myrl', 869.491606],\n",
    " ['Kaelen', 862.728436],\n",
    " ['Miko', 851.474358],\n",
    " ['Elza', 847.5763019999999],\n",
    " ['Kriss', 835.6900009999999],\n",
    " ['Shadow', 825.52436],\n",
    " ['Raylen', 818.709884],\n",
    " ['Ramey', 811.497395],\n",
    " ['Jaryn', 806.5214070000001],\n",
    " ['Laren', 804.308316],\n",
    " ['Leverne', 802.818101],\n",
    " ['Khali', 802.633638],\n",
    " ['Reiley', 800.3377360000001],\n",
    " ['Jaydee', 798.057272],\n",
    " ['Luan', 797.245459],\n",
    " ['Reily', 796.2872629999999],\n",
    " ['Caidyn', 794.561122],\n",
    " ['Kaylor', 794.271472],\n",
    " ['Juel', 790.093471],\n",
    " ['Amrit', 786.642927],\n",
    " ['Rayn', 784.341578],\n",
    " ['Arien', 782.936684],\n",
    " ['Britten', 777.750504],\n",
    " ['Bela', 760.563821],\n",
    " ['Arliss', 758.632888],\n",
    " ['Aziah', 758.4975969999999],\n",
    " ['Lonie', 755.868642],\n",
    " ['Pasha', 748.990463],\n",
    " ['Caylen', 748.902375],\n",
    " ['Talin', 745.096319],\n",
    " ['Shaune', 741.347119],\n",
    " ['Valen', 735.983288],\n",
    " ['Ozie', 735.766434],\n",
    " ['Dung', 735.265634],\n",
    " ['Avry', 731.426697],\n",
    " ['Zamari', 729.95515],\n",
    " ['Kam', 728.774296],\n",
    " ['Ronit', 726.408001],\n",
    " ['Kelin', 719.439015],\n",
    " ['Teigan', 714.664818],\n",
    " ['Sun', 714.643067],\n",
    " ['Karlin', 713.3052610000001],\n",
    " ['Lenell', 702.2653700000001],\n",
    " ['Jaleen', 700.570415],\n",
    " ['Amory', 698.662333],\n",
    " ['Loghan', 692.9096959999999],\n",
    " ['Kemani', 692.781324],\n",
    " ['Aarin', 692.676825],\n",
    " ['Elizah', 692.517245],\n",
    " ['Maysen', 689.180053],\n",
    " ['Yu', 683.489357],\n",
    " ['Bergen', 682.925024],\n",
    " ['Jalani', 673.616259],\n",
    " ['Jamille', 673.479423],\n",
    " ['Adama', 672.7146700000001],\n",
    " ['Laray', 665.522256],\n",
    " ['Sully', 665.5176230000001],\n",
    " ['Latrelle', 665.308]]\n",
    "\n",
    "thousand_or_greater = []\n",
    "\n",
    "for i in numerical_list:\n",
    " if i[1] >= 1000:\n",
    "  thousand_or_greater.append(i[0])\n",
    "\n",
    "print(thousand_or_greater[0:10])\n",
    "\n"
   ]
  },
  {
   "cell_type": "markdown",
   "metadata": {},
   "source": [
    "# 2. BOOLEAN OPERATORS"
   ]
  },
  {
   "cell_type": "code",
   "execution_count": null,
   "metadata": {
    "collapsed": true
   },
   "outputs": [],
   "source": [
    "crime_rates = [749, 371, 828, 503, 1379, 425, 408, 542, 1405, 835, 1288, 647, 974, 1383, 455, 658, 675, 615, 2122, 423,\n",
    "               362, 587, 543, 563, 168, 992, 1185, 617, 734, 1263, 784, 352, 397, 575, 481, 598, 1750, 399, 1172, 1294,\n",
    "               992, 522, 1216, 815, 639, 1154, 1993, 919, 594, 1160, 636, 752, 130, 517, 423, 443, 738, 503, 413, 704,\n",
    "               363, 401, 597, 1776, 722, 1548, 616, 1171, 724, 990, 169, 1177, 742]\n",
    "\n",
    "open()\n",
    ".read\n",
    "\n",
    "\n",
    "import os\n",
    "\n",
    "os.getcwd()\n",
    "\n",
    "ordersinit = open(\"Orders-Data-3.1.xlsx\", \"r\")\n",
    "orders = ordersinit.read()\n",
    "\n",
    "Orders-Data-3.1.xlsx"
   ]
  },
  {
   "cell_type": "markdown",
   "metadata": {},
   "source": [
    "# 3. LIST OPERATIONS"
   ]
  },
  {
   "cell_type": "code",
   "execution_count": 22,
   "metadata": {},
   "outputs": [
    {
     "name": "stdout",
     "output_type": "stream",
     "text": [
      "['Type of Weather', 'Sunny', 'Sunny', 'Sunny', 'Sunny', 'Sunny', 'Rain', 'Sunnye', 'Sunny', 'Fog', 'Rain']\n",
      "11\n",
      "['True', 'True', 'True', 'True', 'True', 'True', 'True', 'True', 'True']\n"
     ]
    }
   ],
   "source": [
    "datainit = open(\"la_weather.csv\", \"r\")\n",
    "data = datainit.read()\n",
    "\n",
    "data\n",
    "\n",
    "data_with_rows = data.split(\"\\n\")\n",
    "data_with_rows\n",
    "\n",
    "weather_data = []\n",
    "\n",
    "for i in data_with_rows:\n",
    "    x = i.split(',')\n",
    "    weather_data.append(x)\n",
    "\n",
    "##### Append each weather type to a separate variable\n",
    "weather = []\n",
    "\n",
    "for i in weather_data:\n",
    "    weather.append(i[1])\n",
    "print(weather)\n",
    "\n",
    "\n",
    "# Count the number of elements in weather_data manually\n",
    "count = 0\n",
    "for i in weather_data:\n",
    "    count = count + 1\n",
    "print(count)\n",
    "\n",
    "\n",
    "# Slice the weather list to remove the header\n",
    "new_weather = weather[1:len(weather)]\n",
    "\n",
    "\n",
    "#### IN Exercise ####\n",
    "\n",
    "animals = ['cat', 'dog', 'rabbit', 'horse', 'giant_horrible_monster']\n",
    "\n",
    "cat_found = \"cat\" in animals\n",
    "space_monster_found = \"space_monster\" in animals\n",
    "\n",
    "\n",
    "# Check whether each of the weather_types elements are in the weather_new\n",
    "weather_types = [\"Rain\", \"Sunny\", \"Fog\", \"Fog-Rain\", \"Thunderstorm\", \"Type of Weather\"]\n",
    "weather_type_found = []\n",
    "\n",
    "for i in new_weather:\n",
    "    for j in weather_types:\n",
    "        if (i == j) & (i not in weather_type_found):\n",
    "            weather_type_found.append(\"True\")\n",
    "print(weather_type_found)"
   ]
  },
  {
   "cell_type": "markdown",
   "metadata": {},
   "source": [
    "# 4. DICTIONARIES"
   ]
  },
  {
   "cell_type": "code",
   "execution_count": 21,
   "metadata": {},
   "outputs": [
    {
     "name": "stdout",
     "output_type": "stream",
     "text": [
      "Sunny\n",
      "Fog\n",
      "{'one': 1, 'two': 2}\n",
      "{'one': 1, 'two': 2, 'three': 3}\n",
      "{'Aquaman': 1, 'Superman': 2}\n",
      "1 3 2\n",
      "{'key1': 10, 'key2': 'indubitably', 'key3': 'dataquest', 3: 5.6}\n",
      "{'Tom': 80, 'Jim': 75, 'Ann': 85}\n",
      "False\n",
      "True\n",
      "['Venus', 'Earth', 'Mars', ' are the short names']\n",
      "['Mercury', 'Jupiter', 'Saturn', 'Neptune', 'Uranus', ' are the long names']\n",
      "{'apple': 3, 'orange': 2, 'grape': 2, 'tomato': 1, 'potato': 1}\n",
      "{'Sunny': 210, 'Rain': 25, 'Fog': 125, 'Fog-Rain': 4, 'Thunderstorm': 1}\n"
     ]
    }
   ],
   "source": [
    "weather = ['Sunny', 'Sunny', 'Sunny', 'Sunny', 'Sunny', 'Rain', 'Sunny', 'Sunny', 'Fog', 'Rain', 'Sunny', 'Sunny',\n",
    "           'Sunny', 'Sunny', 'Sunny', 'Fog', 'Sunny', 'Sunny', 'Sunny', 'Sunny', 'Sunny', 'Sunny', 'Rain', 'Fog-Rain',\n",
    "           'Rain', 'Fog-Rain', 'Rain', 'Sunny', 'Sunny', 'Sunny', 'Sunny', 'Sunny', 'Rain', 'Sunny', 'Fog', 'Fog',\n",
    "           'Sunny', 'Sunny', 'Rain', 'Sunny', 'Sunny', 'Sunny', 'Sunny', 'Sunny', 'Fog', 'Sunny', 'Sunny', 'Fog',\n",
    "           'Sunny', 'Rain', 'Sunny', 'Sunny', 'Sunny', 'Sunny', 'Sunny', 'Sunny', 'Sunny', 'Sunny', 'Sunny', 'Sunny',\n",
    "           'Sunny', 'Rain', 'Fog', 'Fog', 'Sunny', 'Rain', 'Rain', 'Sunny', 'Sunny', 'Sunny', 'Fog', 'Fog', 'Fog',\n",
    "           'Fog', 'Fog', 'Sunny', 'Sunny', 'Sunny', 'Sunny', 'Sunny', 'Fog', 'Sunny', 'Sunny', 'Fog', 'Sunny', 'Fog',\n",
    "           'Fog', 'Fog', 'Fog', 'Rain', 'Sunny', 'Fog', 'Fog', 'Fog', 'Sunny', 'Sunny', 'Sunny', 'Sunny', 'Fog',\n",
    "           'Sunny', 'Sunny', 'Sunny', 'Sunny', 'Sunny', 'Rain', 'Sunny', 'Sunny', 'Sunny', 'Sunny', 'Fog', 'Fog', 'Fog',\n",
    "           'Sunny', 'Rain', 'Sunny', 'Sunny', 'Sunny', 'Fog', 'Fog', 'Sunny', 'Sunny', 'Fog', 'Sunny', 'Sunny', 'Rain',\n",
    "           'Rain', 'Rain', 'Sunny', 'Thunderstorm', 'Fog', 'Sunny', 'Fog', 'Sunny', 'Fog', 'Fog', 'Sunny', 'Sunny',\n",
    "           'Sunny', 'Sunny', 'Fog', 'Fog', 'Sunny', 'Sunny', 'Sunny', 'Sunny', 'Sunny', 'Sunny', 'Sunny', 'Fog', 'Fog',\n",
    "           'Sunny', 'Sunny', 'Sunny', 'Sunny', 'Sunny', 'Sunny', 'Fog', 'Fog', 'Sunny', 'Sunny', 'Sunny', 'Sunny',\n",
    "           'Fog', 'Fog', 'Fog', 'Sunny', 'Sunny', 'Fog', 'Fog', 'Fog', 'Sunny', 'Sunny', 'Sunny', 'Sunny', 'Sunny',\n",
    "           'Fog', 'Fog', 'Fog', 'Fog', 'Fog', 'Sunny', 'Fog', 'Fog', 'Fog', 'Fog', 'Sunny', 'Sunny', 'Sunny', 'Sunny',\n",
    "           'Fog', 'Sunny', 'Fog-Rain', 'Fog', 'Fog', 'Sunny', 'Fog', 'Sunny', 'Fog', 'Fog', 'Fog', 'Sunny', 'Rain',\n",
    "           'Fog', 'Fog', 'Fog', 'Fog', 'Fog-Rain', 'Sunny', 'Sunny', 'Fog', 'Sunny', 'Sunny', 'Fog', 'Fog', 'Sunny',\n",
    "           'Sunny', 'Fog', 'Fog', 'Fog', 'Sunny', 'Sunny', 'Sunny', 'Sunny', 'Fog', 'Fog', 'Fog', 'Fog', 'Fog', 'Fog',\n",
    "           'Fog', 'Fog', 'Fog', 'Fog', 'Sunny', 'Fog', 'Fog', 'Fog', 'Fog', 'Sunny', 'Fog', 'Fog', 'Fog', 'Sunny',\n",
    "           'Sunny', 'Fog', 'Sunny', 'Fog', 'Fog', 'Sunny', 'Sunny', 'Fog', 'Fog', 'Fog', 'Sunny', 'Sunny', 'Fog', 'Fog',\n",
    "           'Sunny', 'Fog', 'Fog', 'Fog', 'Fog', 'Fog', 'Sunny', 'Sunny', 'Sunny', 'Fog', 'Sunny', 'Sunny', 'Sunny',\n",
    "           'Sunny', 'Sunny', 'Sunny', 'Fog', 'Sunny', 'Fog', 'Sunny', 'Sunny', 'Sunny', 'Sunny', 'Fog', 'Rain', 'Sunny',\n",
    "           'Sunny', 'Sunny', 'Sunny', 'Sunny', 'Sunny', 'Sunny', 'Sunny', 'Sunny', 'Fog', 'Fog', 'Fog', 'Fog', 'Sunny',\n",
    "           'Sunny', 'Fog', 'Fog', 'Fog', 'Sunny', 'Sunny', 'Sunny', 'Sunny', 'Sunny', 'Sunny', 'Sunny', 'Sunny', 'Fog',\n",
    "           'Sunny', 'Sunny', 'Fog', 'Fog', 'Sunny', 'Fog', 'Fog', 'Sunny', 'Sunny', 'Fog', 'Sunny', 'Sunny', 'Fog',\n",
    "           'Sunny', 'Rain', 'Rain', 'Rain', 'Sunny', 'Sunny', 'Sunny', 'Sunny', 'Sunny', 'Sunny', 'Rain', 'Sunny',\n",
    "           'Sunny', 'Sunny', 'Sunny', 'Sunny', 'Sunny', 'Sunny', 'Rain', 'Sunny', 'Sunny', 'Sunny', 'Sunny', 'Fog',\n",
    "           'Fog', 'Sunny', 'Sunny', 'Sunny', 'Sunny', 'Sunny', 'Rain', 'Sunny', 'Sunny', 'Sunny', 'Fog', 'Sunny',\n",
    "           'Sunny', 'Sunny', 'Sunny', 'Sunny', 'Fog', 'Fog', 'Fog']\n",
    "\n",
    "print(weather[0])\n",
    "print(weather[len(weather) - 1])\n",
    "\n",
    "# Dictionary Practice\n",
    "dict1 = {}\n",
    "dict1[\"one\"] = 1\n",
    "dict1[\"two\"] = 2\n",
    "print(dict1)\n",
    "\n",
    "dict2 = {\"one\": 1, \"two\": 2, \"three\": 3}\n",
    "print(dict2)\n",
    "\n",
    "# Practice\n",
    "superhero_ranks = {}\n",
    "superhero_ranks[\"Aquaman\"] = 1\n",
    "superhero_ranks[\"Superman\"] = 2\n",
    "print(superhero_ranks)\n",
    "\n",
    "# Look up in dictionary\n",
    "president_ranks = {}\n",
    "president_ranks[\"FDR\"] = 1\n",
    "president_ranks[\"Lincoln\"] = 2\n",
    "president_ranks[\"Aquaman\"] = 3\n",
    "\n",
    "fdr_rank = president_ranks[\"FDR\"]\n",
    "aquaman_rank = president_ranks[\"Aquaman\"]\n",
    "lincoln_rank = president_ranks[\"Lincoln\"]\n",
    "\n",
    "print(fdr_rank, aquaman_rank, lincoln_rank)\n",
    "\n",
    "# Adding multiple values to dictionaries\n",
    "random_values = {\"key1\": 10, \"key2\": \"indubitably\", \"key3\": \"dataquest\", 3: 5.6}\n",
    "print(random_values)\n",
    "\n",
    "animals = {\n",
    "    7: \"raven\",  # 7 is the KEY, \"raven\" is the VALUE\n",
    "    8: \"goose\",\n",
    "    9: \"duck\"\n",
    "}\n",
    "\n",
    "times = {\n",
    "    \"morning\": 9,\n",
    "    \"afternoon\": 14,\n",
    "    \"evening\": 19,\n",
    "    \"night\": 23\n",
    "}\n",
    "\n",
    "# Modifying dictionary values\n",
    "students = {\n",
    "    \"Tom\": 60,\n",
    "    \"Jim\": 70\n",
    "}\n",
    "students[\"Ann\"] = 85\n",
    "students[\"Tom\"] = 80\n",
    "students[\"Jim\"] = students[\"Jim\"] + 5\n",
    "\n",
    "print(students)\n",
    "\n",
    "# Using 'in' in dictionaries\n",
    "planet_numbers = {\"mercury\": 1, \"venus\": 2, \"earth\": 3, \"mars\": 4}\n",
    "\n",
    "jupiter_found = \"jupiter\" in planet_numbers\n",
    "print(jupiter_found)\n",
    "\n",
    "earth_found = \"earth\" in planet_numbers\n",
    "print(earth_found)\n",
    "\n",
    "# Else statement\n",
    "planet_names = [\"Mercury\", \"Venus\", \"Earth\", \"Mars\", \"Jupiter\", \"Saturn\", \"Neptune\", \"Uranus\"]\n",
    "\n",
    "short_names = []  # shorter than 5 characters\n",
    "long_names = []  # longer than 5 characters\n",
    "\n",
    "for i in planet_names:\n",
    "    if len(i) <= 5:\n",
    "        short_names.append(i)\n",
    "    else:\n",
    "        long_names.append(i)\n",
    "\n",
    "print(short_names + [\" are the short names\"])\n",
    "print(long_names + [\" are the long names\"])\n",
    "\n",
    "# Counting\n",
    "pantry = [\"apple\", \"orange\", \"grape\", \"apple\", \"orange\", \"apple\", \"tomato\", \"potato\", \"grape\"]\n",
    "\n",
    "pantry_counts = {}\n",
    "\n",
    "for i in pantry:\n",
    "    if i not in pantry_counts:\n",
    "        pantry_counts[i] = 1  # initialize\n",
    "    else:\n",
    "        pantry_counts[i] = pantry_counts[i] + 1\n",
    "\n",
    "print(pantry_counts)\n",
    "\n",
    "# Counting 2\n",
    "\n",
    "weather = [\n",
    "    'Sunny',\n",
    "    'Sunny',\n",
    "    'Sunny',\n",
    "    'Sunny',\n",
    "    'Sunny',\n",
    "    'Rain',\n",
    "    'Sunny',\n",
    "    'Sunny',\n",
    "    'Fog',\n",
    "    'Rain',\n",
    "    'Sunny',\n",
    "    'Sunny',\n",
    "    'Sunny',\n",
    "    'Sunny',\n",
    "    'Sunny',\n",
    "    'Fog',\n",
    "    'Sunny',\n",
    "    'Sunny',\n",
    "    'Sunny',\n",
    "    'Sunny',\n",
    "    'Sunny',\n",
    "    'Sunny',\n",
    "    'Rain',\n",
    "    'Fog-Rain',\n",
    "    'Rain',\n",
    "    'Fog-Rain',\n",
    "    'Rain',\n",
    "    'Sunny',\n",
    "    'Sunny',\n",
    "    'Sunny',\n",
    "    'Sunny',\n",
    "    'Sunny',\n",
    "    'Rain',\n",
    "    'Sunny',\n",
    "    'Fog',\n",
    "    'Fog',\n",
    "    'Sunny',\n",
    "    'Sunny',\n",
    "    'Rain',\n",
    "    'Sunny',\n",
    "    'Sunny',\n",
    "    'Sunny',\n",
    "    'Sunny',\n",
    "    'Sunny',\n",
    "    'Fog',\n",
    "    'Sunny',\n",
    "    'Sunny',\n",
    "    'Fog',\n",
    "    'Sunny',\n",
    "    'Rain',\n",
    "    'Sunny',\n",
    "    'Sunny',\n",
    "    'Sunny',\n",
    "    'Sunny',\n",
    "    'Sunny',\n",
    "    'Sunny',\n",
    "    'Sunny',\n",
    "    'Sunny',\n",
    "    'Sunny',\n",
    "    'Sunny',\n",
    "    'Sunny',\n",
    "    'Rain',\n",
    "    'Fog',\n",
    "    'Fog',\n",
    "    'Sunny',\n",
    "    'Rain',\n",
    "    'Rain',\n",
    "    'Sunny',\n",
    "    'Sunny',\n",
    "    'Sunny',\n",
    "    'Fog',\n",
    "    'Fog',\n",
    "    'Fog',\n",
    "    'Fog',\n",
    "    'Fog',\n",
    "    'Sunny',\n",
    "    'Sunny',\n",
    "    'Sunny',\n",
    "    'Sunny',\n",
    "    'Sunny',\n",
    "    'Fog',\n",
    "    'Sunny',\n",
    "    'Sunny',\n",
    "    'Fog',\n",
    "    'Sunny',\n",
    "    'Fog',\n",
    "    'Fog',\n",
    "    'Fog',\n",
    "    'Fog',\n",
    "    'Rain',\n",
    "    'Sunny',\n",
    "    'Fog',\n",
    "    'Fog',\n",
    "    'Fog',\n",
    "    'Sunny',\n",
    "    'Sunny',\n",
    "    'Sunny',\n",
    "    'Sunny',\n",
    "    'Fog',\n",
    "    'Sunny',\n",
    "    'Sunny',\n",
    "    'Sunny',\n",
    "    'Sunny',\n",
    "    'Sunny',\n",
    "    'Rain',\n",
    "    'Sunny',\n",
    "    'Sunny',\n",
    "    'Sunny',\n",
    "    'Sunny',\n",
    "    'Fog',\n",
    "    'Fog',\n",
    "    'Fog',\n",
    "    'Sunny',\n",
    "    'Rain',\n",
    "    'Sunny',\n",
    "    'Sunny',\n",
    "    'Sunny',\n",
    "    'Fog',\n",
    "    'Fog',\n",
    "    'Sunny',\n",
    "    'Sunny',\n",
    "    'Fog',\n",
    "    'Sunny',\n",
    "    'Sunny',\n",
    "    'Rain',\n",
    "    'Rain',\n",
    "    'Rain',\n",
    "    'Sunny',\n",
    "    'Thunderstorm',\n",
    "    'Fog',\n",
    "    'Sunny',\n",
    "    'Fog',\n",
    "    'Sunny',\n",
    "    'Fog',\n",
    "    'Fog',\n",
    "    'Sunny',\n",
    "    'Sunny',\n",
    "    'Sunny',\n",
    "    'Sunny',\n",
    "    'Fog',\n",
    "    'Fog',\n",
    "    'Sunny',\n",
    "    'Sunny',\n",
    "    'Sunny',\n",
    "    'Sunny',\n",
    "    'Sunny',\n",
    "    'Sunny',\n",
    "    'Sunny',\n",
    "    'Fog',\n",
    "    'Fog',\n",
    "    'Sunny',\n",
    "    'Sunny',\n",
    "    'Sunny',\n",
    "    'Sunny',\n",
    "    'Sunny',\n",
    "    'Sunny',\n",
    "    'Fog',\n",
    "    'Fog',\n",
    "    'Sunny',\n",
    "    'Sunny',\n",
    "    'Sunny',\n",
    "    'Sunny',\n",
    "    'Fog',\n",
    "    'Fog',\n",
    "    'Fog',\n",
    "    'Sunny',\n",
    "    'Sunny',\n",
    "    'Fog',\n",
    "    'Fog',\n",
    "    'Fog',\n",
    "    'Sunny',\n",
    "    'Sunny',\n",
    "    'Sunny',\n",
    "    'Sunny',\n",
    "    'Sunny',\n",
    "    'Fog',\n",
    "    'Fog',\n",
    "    'Fog',\n",
    "    'Fog',\n",
    "    'Fog',\n",
    "    'Sunny',\n",
    "    'Fog',\n",
    "    'Fog',\n",
    "    'Fog',\n",
    "    'Fog',\n",
    "    'Sunny',\n",
    "    'Sunny',\n",
    "    'Sunny',\n",
    "    'Sunny',\n",
    "    'Fog',\n",
    "    'Sunny',\n",
    "    'Fog-Rain',\n",
    "    'Fog',\n",
    "    'Fog',\n",
    "    'Sunny',\n",
    "    'Fog',\n",
    "    'Sunny',\n",
    "    'Fog',\n",
    "    'Fog',\n",
    "    'Fog',\n",
    "    'Sunny',\n",
    "    'Rain',\n",
    "    'Fog',\n",
    "    'Fog',\n",
    "    'Fog',\n",
    "    'Fog',\n",
    "    'Fog-Rain',\n",
    "    'Sunny',\n",
    "    'Sunny',\n",
    "    'Fog',\n",
    "    'Sunny',\n",
    "    'Sunny',\n",
    "    'Fog',\n",
    "    'Fog',\n",
    "    'Sunny',\n",
    "    'Sunny',\n",
    "    'Fog',\n",
    "    'Fog',\n",
    "    'Fog',\n",
    "    'Sunny',\n",
    "    'Sunny',\n",
    "    'Sunny',\n",
    "    'Sunny',\n",
    "    'Fog',\n",
    "    'Fog',\n",
    "    'Fog',\n",
    "    'Fog',\n",
    "    'Fog',\n",
    "    'Fog',\n",
    "    'Fog',\n",
    "    'Fog',\n",
    "    'Fog',\n",
    "    'Fog',\n",
    "    'Sunny',\n",
    "    'Fog',\n",
    "    'Fog',\n",
    "    'Fog',\n",
    "    'Fog',\n",
    "    'Sunny',\n",
    "    'Fog',\n",
    "    'Fog',\n",
    "    'Fog',\n",
    "    'Sunny',\n",
    "    'Sunny',\n",
    "    'Fog',\n",
    "    'Sunny',\n",
    "    'Fog',\n",
    "    'Fog',\n",
    "    'Sunny',\n",
    "    'Sunny',\n",
    "    'Fog',\n",
    "    'Fog',\n",
    "    'Fog',\n",
    "    'Sunny',\n",
    "    'Sunny',\n",
    "    'Fog',\n",
    "    'Fog',\n",
    "    'Sunny',\n",
    "    'Fog',\n",
    "    'Fog',\n",
    "    'Fog',\n",
    "    'Fog',\n",
    "    'Fog',\n",
    "    'Sunny',\n",
    "    'Sunny',\n",
    "    'Sunny',\n",
    "    'Fog',\n",
    "    'Sunny',\n",
    "    'Sunny',\n",
    "    'Sunny',\n",
    "    'Sunny',\n",
    "    'Sunny',\n",
    "    'Sunny',\n",
    "    'Fog',\n",
    "    'Sunny',\n",
    "    'Fog',\n",
    "    'Sunny',\n",
    "    'Sunny',\n",
    "    'Sunny',\n",
    "    'Sunny',\n",
    "    'Fog',\n",
    "    'Rain',\n",
    "    'Sunny',\n",
    "    'Sunny',\n",
    "    'Sunny',\n",
    "    'Sunny',\n",
    "    'Sunny',\n",
    "    'Sunny',\n",
    "    'Sunny',\n",
    "    'Sunny',\n",
    "    'Sunny',\n",
    "    'Fog',\n",
    "    'Fog',\n",
    "    'Fog',\n",
    "    'Fog',\n",
    "    'Sunny',\n",
    "    'Sunny',\n",
    "    'Fog',\n",
    "    'Fog',\n",
    "    'Fog',\n",
    "    'Sunny',\n",
    "    'Sunny',\n",
    "    'Sunny',\n",
    "    'Sunny',\n",
    "    'Sunny',\n",
    "    'Sunny',\n",
    "    'Sunny',\n",
    "    'Sunny',\n",
    "    'Fog',\n",
    "    'Sunny',\n",
    "    'Sunny',\n",
    "    'Fog',\n",
    "    'Fog',\n",
    "    'Sunny',\n",
    "    'Fog',\n",
    "    'Fog',\n",
    "    'Sunny',\n",
    "    'Sunny',\n",
    "    'Fog',\n",
    "    'Sunny',\n",
    "    'Sunny',\n",
    "    'Fog',\n",
    "    'Sunny',\n",
    "    'Rain',\n",
    "    'Rain',\n",
    "    'Rain',\n",
    "    'Sunny',\n",
    "    'Sunny',\n",
    "    'Sunny',\n",
    "    'Sunny',\n",
    "    'Sunny',\n",
    "    'Sunny',\n",
    "    'Rain',\n",
    "    'Sunny',\n",
    "    'Sunny',\n",
    "    'Sunny',\n",
    "    'Sunny',\n",
    "    'Sunny',\n",
    "    'Sunny',\n",
    "    'Sunny',\n",
    "    'Rain',\n",
    "    'Sunny',\n",
    "    'Sunny',\n",
    "    'Sunny',\n",
    "    'Sunny',\n",
    "    'Fog',\n",
    "    'Fog',\n",
    "    'Sunny',\n",
    "    'Sunny',\n",
    "    'Sunny',\n",
    "    'Sunny',\n",
    "    'Sunny',\n",
    "    'Rain',\n",
    "    'Sunny',\n",
    "    'Sunny',\n",
    "    'Sunny',\n",
    "    'Fog',\n",
    "    'Sunny',\n",
    "    'Sunny',\n",
    "    'Sunny',\n",
    "    'Sunny',\n",
    "    'Sunny',\n",
    "    'Fog',\n",
    "    'Fog',\n",
    "    'Fog'\n",
    "]\n",
    "weather_counts = {}\n",
    "\n",
    "for i in weather:\n",
    "    if i not in weather_counts:\n",
    "        weather_counts[i] = 1\n",
    "    else:\n",
    "        weather_counts[i] = weather_counts[i] + 1\n",
    "\n",
    "print(weather_counts)\n",
    "\n"
   ]
  },
  {
   "cell_type": "markdown",
   "metadata": {},
   "source": [
    "# 5. FUNCTIONS "
   ]
  },
  {
   "cell_type": "code",
   "execution_count": 30,
   "metadata": {},
   "outputs": [
    {
     "ename": "FileNotFoundError",
     "evalue": "[Errno 2] No such file or directory: 'practice\\\\dictionary.txt'",
     "output_type": "error",
     "traceback": [
      "\u001b[0;31m---------------------------------------------------------------------------\u001b[0m",
      "\u001b[0;31mFileNotFoundError\u001b[0m                         Traceback (most recent call last)",
      "\u001b[0;32m<ipython-input-30-d12c8ce3736d>\u001b[0m in \u001b[0;36m<module>\u001b[0;34m()\u001b[0m\n\u001b[1;32m      1\u001b[0m \u001b[1;31m# Open and read vocabulary to file\u001b[0m\u001b[1;33m\u001b[0m\u001b[1;33m\u001b[0m\u001b[0m\n\u001b[0;32m----> 2\u001b[0;31m \u001b[0mvocabularyinit\u001b[0m \u001b[1;33m=\u001b[0m \u001b[0mopen\u001b[0m\u001b[1;33m(\u001b[0m\u001b[1;34m\"practice\\dictionary.txt\"\u001b[0m\u001b[1;33m,\u001b[0m \u001b[1;34m\"r\"\u001b[0m\u001b[1;33m)\u001b[0m\u001b[1;33m\u001b[0m\u001b[0m\n\u001b[0m\u001b[1;32m      3\u001b[0m \u001b[0mvocabulary\u001b[0m \u001b[1;33m=\u001b[0m \u001b[0mvocabularyinit\u001b[0m\u001b[1;33m.\u001b[0m\u001b[0mread\u001b[0m\u001b[1;33m(\u001b[0m\u001b[1;33m)\u001b[0m\u001b[1;33m\u001b[0m\u001b[0m\n\u001b[1;32m      4\u001b[0m \u001b[1;33m\u001b[0m\u001b[0m\n\u001b[1;32m      5\u001b[0m \u001b[0mprint\u001b[0m\u001b[1;33m(\u001b[0m\u001b[0mvocabulary\u001b[0m\u001b[1;33m)\u001b[0m\u001b[1;33m\u001b[0m\u001b[0m\n",
      "\u001b[0;31mFileNotFoundError\u001b[0m: [Errno 2] No such file or directory: 'practice\\\\dictionary.txt'"
     ]
    }
   ],
   "source": [
    "# Open and read vocabulary to file\n",
    "vocabularyinit = open(\"practice\\dictionary.txt\", \"r\")\n",
    "vocabulary = vocabularyinit.read()\n",
    "\n",
    "print(vocabulary)\n",
    "\n",
    "# Tokenize vocabulary\n",
    "tokenized_vocabulary = vocabulary.split(\" \")\n",
    "print(tokenized_vocabulary[:5])\n",
    "\n",
    "# Replace substring\n",
    "story_stringinit = open(\"practice/story.txt\", \"r\")\n",
    "story_string = story_stringinit.read()\n",
    "print(story_string)\n",
    "\n",
    "story_string = story_string.replace(\",\", \"\")\n",
    "story_string = story_string.replace(\".\", \"\")\n",
    "story_string = story_string.replace(\";\", \"\")\n",
    "story_string = story_string.replace(\"'\", \"\")\n",
    "story_string = story_string.replace(\"\\n\", \"\")\n",
    "\n",
    "print(story_string)\n",
    "\n",
    "# Create function: Basic text cleaning\n",
    "story_stringinit = open(\"practice/story.txt\", \"r\")\n",
    "story_string = story_stringinit.read()\n",
    "print(story_string)\n",
    "\n",
    "\n",
    "def clean_text(text_string):\n",
    "    cleaned_string = text_string.replace(\".\", \"\")\n",
    "    cleaned_string = cleaned_string.replace(\",\", \"\")\n",
    "    cleaned_string = cleaned_string.replace(\";\", \"\")\n",
    "    cleaned_string = cleaned_string.replace(\"\\n\", \"\")\n",
    "    cleaned_string = cleaned_string.replace(\"'\", \"\")\n",
    "    cleaned_string = cleaned_string.lower()\n",
    "    return cleaned_string\n",
    "\n",
    "cleaned_story = clean_text(story_string)\n",
    "print(cleaned_story)\n",
    "\n",
    "############################################\n",
    "\n",
    "# Advanced version of text cleaning function\n",
    "story_stringinit = open(\"practice/story.txt\", \"r\")\n",
    "story_string = story_stringinit.read()\n",
    "\n",
    "clean_chars = [\",\", \".\", \"'\", \";\", \"\\n\"]\n",
    "\n",
    "def clean_text(text_string, special_characters): # special_characters must be a list of strings\n",
    "\n",
    "    cleaned_string = text_string\n",
    "    for i in special_characters:\n",
    "        cleaned_string = cleaned_string.replace(i, \"\")\n",
    "\n",
    "    cleaned_string = cleaned_string.lower()\n",
    "    return cleaned_string\n",
    "\n",
    "cleaned_story = clean_text(story_string,clean_chars)\n",
    "print(cleaned_story)\n",
    "\n",
    "####################################################\n",
    "# Tokenizer function\n",
    "####################################################\n",
    "\n",
    "story_stringinit = open(\"practice/story.txt\", \"r\")\n",
    "story_string = story_stringinit.read()\n",
    "\n",
    "clean_chars = [\",\", \".\", \"'\", \";\", \"\\n\"]\n",
    "\n",
    "def tokenize(text_string, special_characters):\n",
    "    cleaned_story =  clean_text(text_string, special_characters)\n",
    "    story_tokens = cleaned_story.split(\" \")\n",
    "    return story_tokens\n",
    "\n",
    "tokenized_story = tokenize(story_string, clean_chars)\n",
    "print(tokenized_story[:10])\n",
    "\n",
    "####################################################\n",
    "# Spell Checker\n",
    "####################################################\n",
    "vocabulary = 'a about after almost along alternating an and anguish around at back ball became best but buy came cold come crop crazy curled day days decided decided eat even ever everyone farmer farmer find finest for found freezing farmer gave go going great grow growing guidance had hard he heat him his if immediately in into it journey julius juliuss keep knew last long magic managed many much months named never night noble noon of on once one out people persevered potatoes probably praises raining reggie roadside sang searing secret seek seen set shouldnt sign sky sleep so soaked started stopped store storekeeper that the there this to told travelled trees tried try umbrella underneath undeterred village was were who whole wondered world'\n",
    "clean_chars = [\",\", \".\", \"'\", \";\", \"\\n\"]\n",
    "\n",
    "tokenized_vocabulary = tokenize(vocabulary, clean_chars)\n",
    "print(tokenized_vocabulary)\n",
    "\n",
    "misspelled_words = []\n",
    "\n",
    "for i in tokenized_story:\n",
    "    if i not in tokenized_vocabulary:\n",
    "        misspelled_words.append(i)\n",
    "\n",
    "print(misspelled_words)\n",
    "\n",
    "\n",
    "####################################################\n",
    "# ...\n",
    "####################################################"
   ]
  },
  {
   "cell_type": "markdown",
   "metadata": {},
   "source": [
    "# 6. ADVANCED FUNCTIONS AND DEBUGGING"
   ]
  },
  {
   "cell_type": "code",
   "execution_count": 32,
   "metadata": {},
   "outputs": [
    {
     "ename": "SyntaxError",
     "evalue": "invalid syntax (<ipython-input-32-46fa5a9a50f9>, line 86)",
     "output_type": "error",
     "traceback": [
      "\u001b[0;36m  File \u001b[0;32m\"<ipython-input-32-46fa5a9a50f9>\"\u001b[0;36m, line \u001b[0;32m86\u001b[0m\n\u001b[0;31m    def spell_check(vocabulary_file, text_file, special_characters=[\",\", \".\", \"'\", \";\", \"\\n\"):\u001b[0m\n\u001b[0m                                                                                            ^\u001b[0m\n\u001b[0;31mSyntaxError\u001b[0m\u001b[0;31m:\u001b[0m invalid syntax\n"
     ]
    }
   ],
   "source": [
    "####################################################\n",
    "# Spell Checker\n",
    "####################################################\n",
    "story_stringinit = open(\"practice/story.txt\", \"r\")\n",
    "story_string = story_stringinit.read()\n",
    "\n",
    "vocabulary = 'a about after almost along alternating an and anguish around at back ball became best but buy came cold come crop crazy curled day days decided decided eat even ever everyone farmer farmer find finest for found freezing farmer gave go going great grow growing guidance had hard he heat him his if immediately in into it journey julius juliuss keep knew last long magic managed many much months named never night noble noon of on once one out people persevered potatoes probably praises raining reggie roadside sang searing secret seek seen set shouldnt sign sky sleep so soaked started stopped store storekeeper that the there this to told travelled trees tried try umbrella underneath undeterred village was were who whole wondered world'\n",
    "clean_chars = [\",\", \".\", \"'\", \";\", \"\\n\"]\n",
    "\n",
    "\n",
    "# Clean text by removing clean_chars from it\n",
    "def clean_text(text_string, special_characters):  # special_characters must be a list of strings\n",
    "\n",
    "    cleaned_string = text_string\n",
    "    for i in special_characters:\n",
    "        cleaned_string = cleaned_string.replace(i, \"\")\n",
    "\n",
    "    cleaned_string = cleaned_string.lower()\n",
    "    return cleaned_string\n",
    "\n",
    "\n",
    "def tokenize(text_string, special_characters, clean=False):\n",
    "    cleaned_story = clean_text(text_string, special_characters)\n",
    "    story_tokens = cleaned_story.split(\" \")\n",
    "    return (story_tokens)\n",
    "\n",
    "\n",
    "# Tokenize by splitting text into multiple strings by using 'split' command\n",
    "def tokenize(text_string, special_characters, clean=False):\n",
    "    if clean == True:\n",
    "        cleaned_story = clean_text(text_string, special_characters)\n",
    "        story_tokens = cleaned_story.split(\" \")\n",
    "        return (story_tokens)\n",
    "    if clean == False:\n",
    "        cleaned_story = text_string.split(\" \")\n",
    "        return (cleaned_story)\n",
    "\n",
    "\n",
    "# Initiate variables\n",
    "tokenized_story = []\n",
    "tokenized_vocabulary = []\n",
    "misspelled_words = []\n",
    "\n",
    "tokenized_story = tokenize(story_string, clean_chars, clean=True)\n",
    "print(tokenized_story)\n",
    "\n",
    "tokenized_vocabulary = tokenize(vocabulary, clean_chars)\n",
    "print(tokenized_vocabulary)\n",
    "\n",
    "for i in tokenized_story:\n",
    "    if i not in tokenized_vocabulary:\n",
    "        misspelled_words.append(i)\n",
    "\n",
    "print(misspelled_words)\n",
    "\n",
    "#####################################\n",
    "# Compact Spell Checker\n",
    "#####################################\n",
    "\n",
    "final_misspelled_words = []\n",
    "\n",
    "def spell_check(vocabulary_file, text_file, special_characters = [\",\",\".\",\"'\",\";\",\"\\n\"]):\n",
    "    misspelled_words = []\n",
    "    vocabulary = open(vocabulary_file, \"r\").read()\n",
    "    text = open(text_file, \"r\").read()\n",
    "    tokenized_vocabulary = tokenize(vocabulary, special_characters=clean_chars, clean=False)\n",
    "    tokenized_text = tokenize(text, special_characters=clean_chars, clean=True)\n",
    "    for i in tokenized_text:\n",
    "        if (i not in tokenized_vocabulary) & (i != ''):\n",
    "            misspelled_words.append(i)\n",
    "    return misspelled_words\n",
    "\n",
    "final_misspelled_words = spell_check(\"practice/dictionary.txt\", \"practice/story.txt\")\n",
    "print(final_misspelled_words)\n",
    "\n",
    "\n",
    "\n",
    "print(open(\"practice/dictionary.txt\", \"r\").read())\n",
    "print(open(\"practice/story.txt\", \"r\").read())\n",
    "print(spell_check(\"practice/dictionary.txt\", \"practice/story.txt\"))\n",
    "\n",
    "\n",
    "#####################################\n",
    "# Debugging\n",
    "#####################################\n",
    "def spell_check(vocabulary_file, text_file, special_characters=[\",\", \".\", \"'\", \";\", \"\\n\"):\n",
    "    misspelled_words = []\n",
    "\n",
    "    vocabulary = open(vocabulary_file).read()\n",
    "    text = open(text_file).read()\n",
    "\n",
    "    tokenized_vocabulary = tokenize(vocabulary, special_characters)\n",
    "    tokenized_text = tokenize(text, special_characters, True)\n",
    "\n",
    "    for ts in tokenized_text:\n",
    "        if ts not in tokenized_vocabulary and ts != '':\n",
    "            misspelled_words.append(ts)\n",
    "    return (misspelled_words)\n",
    "\n",
    "final_misspelled_words = spell_check(vocabulary_file=\"dictionary.txt\", text_file=\"story.txt\")\n",
    "print(final_misspelled_words)\n",
    "\n",
    "print final_misspelled_words\n"
   ]
  },
  {
   "cell_type": "code",
   "execution_count": null,
   "metadata": {
    "collapsed": true
   },
   "outputs": [],
   "source": []
  }
 ],
 "metadata": {
  "kernelspec": {
   "display_name": "Python 3",
   "language": "python",
   "name": "python3"
  },
  "language_info": {
   "codemirror_mode": {
    "name": "ipython",
    "version": 3
   },
   "file_extension": ".py",
   "mimetype": "text/x-python",
   "name": "python",
   "nbconvert_exporter": "python",
   "pygments_lexer": "ipython3",
   "version": "3.6.1"
  }
 },
 "nbformat": 4,
 "nbformat_minor": 2
}
